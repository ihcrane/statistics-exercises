{
 "cells": [
  {
   "cell_type": "code",
   "execution_count": 3,
   "id": "e2b4283b",
   "metadata": {},
   "outputs": [
    {
     "data": {
      "text/html": [
       "<div>\n",
       "<style scoped>\n",
       "    .dataframe tbody tr th:only-of-type {\n",
       "        vertical-align: middle;\n",
       "    }\n",
       "\n",
       "    .dataframe tbody tr th {\n",
       "        vertical-align: top;\n",
       "    }\n",
       "\n",
       "    .dataframe thead th {\n",
       "        text-align: right;\n",
       "    }\n",
       "</style>\n",
       "<table border=\"1\" class=\"dataframe\">\n",
       "  <thead>\n",
       "    <tr style=\"text-align: right;\">\n",
       "      <th></th>\n",
       "      <th>die_1</th>\n",
       "      <th>die_2</th>\n",
       "    </tr>\n",
       "  </thead>\n",
       "  <tbody>\n",
       "    <tr>\n",
       "      <th>0</th>\n",
       "      <td>4</td>\n",
       "      <td>4</td>\n",
       "    </tr>\n",
       "    <tr>\n",
       "      <th>1</th>\n",
       "      <td>2</td>\n",
       "      <td>2</td>\n",
       "    </tr>\n",
       "    <tr>\n",
       "      <th>2</th>\n",
       "      <td>1</td>\n",
       "      <td>2</td>\n",
       "    </tr>\n",
       "    <tr>\n",
       "      <th>3</th>\n",
       "      <td>1</td>\n",
       "      <td>4</td>\n",
       "    </tr>\n",
       "    <tr>\n",
       "      <th>4</th>\n",
       "      <td>6</td>\n",
       "      <td>2</td>\n",
       "    </tr>\n",
       "    <tr>\n",
       "      <th>...</th>\n",
       "      <td>...</td>\n",
       "      <td>...</td>\n",
       "    </tr>\n",
       "    <tr>\n",
       "      <th>9995</th>\n",
       "      <td>6</td>\n",
       "      <td>3</td>\n",
       "    </tr>\n",
       "    <tr>\n",
       "      <th>9996</th>\n",
       "      <td>2</td>\n",
       "      <td>1</td>\n",
       "    </tr>\n",
       "    <tr>\n",
       "      <th>9997</th>\n",
       "      <td>5</td>\n",
       "      <td>1</td>\n",
       "    </tr>\n",
       "    <tr>\n",
       "      <th>9998</th>\n",
       "      <td>4</td>\n",
       "      <td>5</td>\n",
       "    </tr>\n",
       "    <tr>\n",
       "      <th>9999</th>\n",
       "      <td>1</td>\n",
       "      <td>2</td>\n",
       "    </tr>\n",
       "  </tbody>\n",
       "</table>\n",
       "<p>10000 rows × 2 columns</p>\n",
       "</div>"
      ],
      "text/plain": [
       "      die_1  die_2\n",
       "0         4      4\n",
       "1         2      2\n",
       "2         1      2\n",
       "3         1      4\n",
       "4         6      2\n",
       "...     ...    ...\n",
       "9995      6      3\n",
       "9996      2      1\n",
       "9997      5      1\n",
       "9998      4      5\n",
       "9999      1      2\n",
       "\n",
       "[10000 rows x 2 columns]"
      ]
     },
     "execution_count": 3,
     "metadata": {},
     "output_type": "execute_result"
    }
   ],
   "source": [
    "import pandas as pd\n",
    "import numpy as np\n",
    "\n",
    "n_trials = nrows = 10000\n",
    "n_dice = ncols = 2\n",
    "\n",
    "rolls = np.random.choice([1, 2, 3, 4, 5, 6], n_trials * n_dice).reshape(nrows, ncols)\n",
    "rolls = pd.DataFrame(rolls, columns= ['die_1', 'die_2'])\n",
    "rolls"
   ]
  },
  {
   "cell_type": "code",
   "execution_count": 10,
   "id": "84c9817a",
   "metadata": {},
   "outputs": [],
   "source": [
    "rolls['doubles'] = rolls['die_1'] == rolls['die_2']\n",
    "dbl = rolls[rolls['doubles'] == True]['doubles'].count()\n"
   ]
  },
  {
   "cell_type": "code",
   "execution_count": 12,
   "id": "07396227",
   "metadata": {},
   "outputs": [
    {
     "data": {
      "text/plain": [
       "16.259999999999998"
      ]
     },
     "execution_count": 12,
     "metadata": {},
     "output_type": "execute_result"
    }
   ],
   "source": [
    "dbl/len(rolls) * 100"
   ]
  },
  {
   "cell_type": "code",
   "execution_count": 13,
   "id": "56a56bf8",
   "metadata": {},
   "outputs": [
    {
     "data": {
      "text/plain": [
       "0.21997"
      ]
     },
     "execution_count": 13,
     "metadata": {},
     "output_type": "execute_result"
    }
   ],
   "source": [
    "p_heads = .5\n",
    "n_flips = 8\n",
    "n_tests = 10 ** 5\n",
    "flip = np.random.random((n_flips, n_tests))\n",
    "heads = flip > p_heads\n",
    "p = (heads.sum(axis = 0) == 3).mean()\n",
    "p"
   ]
  },
  {
   "cell_type": "code",
   "execution_count": 14,
   "id": "d898df22",
   "metadata": {},
   "outputs": [
    {
     "data": {
      "text/plain": [
       "0.85527"
      ]
     },
     "execution_count": 14,
     "metadata": {},
     "output_type": "execute_result"
    }
   ],
   "source": [
    "p = (heads.sum(axis = 0) >= 3).mean()\n",
    "p"
   ]
  },
  {
   "cell_type": "code",
   "execution_count": 15,
   "id": "52bbde5c",
   "metadata": {},
   "outputs": [
    {
     "data": {
      "text/plain": [
       "0.06227"
      ]
     },
     "execution_count": 15,
     "metadata": {},
     "output_type": "execute_result"
    }
   ],
   "source": [
    "p_data = .25\n",
    "n_boards = 2\n",
    "n_tests = 10 ** 5\n",
    "board = np.random.random((n_boards, n_tests))\n",
    "ds = p_data >= board\n",
    "prob = (ds.sum(axis = 0) == 2).mean()\n",
    "prob"
   ]
  },
  {
   "cell_type": "code",
   "execution_count": 17,
   "id": "00d197a2",
   "metadata": {},
   "outputs": [
    {
     "data": {
      "text/plain": [
       "0.61772"
      ]
     },
     "execution_count": 17,
     "metadata": {},
     "output_type": "execute_result"
    }
   ],
   "source": [
    "pop_num = 17\n",
    "days = 5\n",
    "n_tests = 10 ** 5\n",
    "pop_per = np.random.normal(3, 1.5, size = (n_tests, days))\n",
    "pop_bought = pop_per.sum(axis = 1)\n",
    "pop_yay = (pop_bought <(pop_num - 1)).mean()\n",
    "pop_yay"
   ]
  },
  {
   "cell_type": "code",
   "execution_count": 22,
   "id": "d2ab4c3f",
   "metadata": {},
   "outputs": [
    {
     "data": {
      "text/plain": [
       "0.21176"
      ]
     },
     "execution_count": 22,
     "metadata": {},
     "output_type": "execute_result"
    }
   ],
   "source": [
    "m_avg = 178\n",
    "m_std = 8\n",
    "f_avg = 170\n",
    "f_std = 6\n",
    "m_height = np.random.normal(m_avg, m_std, size = (n_tests, 1))\n",
    "f_height = np.random.normal(f_avg, f_std, size = (n_tests, 1))\n",
    "combo = np.concatenate((m_height, f_height), axis = 1)\n",
    "height_data = pd.DataFrame(combo, columns = ['male', 'female'])\n",
    "height_data['rand'] = height_data['female'] > height_data['male']\n",
    "\n",
    "height_data[height_data['rand'] == 1]['rand'].sum()/n_tests"
   ]
  },
  {
   "cell_type": "code",
   "execution_count": 23,
   "id": "cd0334ad",
   "metadata": {},
   "outputs": [
    {
     "data": {
      "text/plain": [
       "0.81634"
      ]
     },
     "execution_count": 23,
     "metadata": {},
     "output_type": "execute_result"
    }
   ],
   "source": [
    "error = 1/250\n",
    "n_students = 50\n",
    "tests = np.random.random((n_students, n_tests))\n",
    "error_chance = tests <= error\n",
    "perc = (error_chance.sum(axis = 0) == 0).mean()\n",
    "perc"
   ]
  },
  {
   "cell_type": "code",
   "execution_count": 24,
   "id": "7f68db1f",
   "metadata": {},
   "outputs": [
    {
     "data": {
      "text/plain": [
       "0.66978"
      ]
     },
     "execution_count": 24,
     "metadata": {},
     "output_type": "execute_result"
    }
   ],
   "source": [
    "error = 1/250\n",
    "n_students = 100\n",
    "tests = np.random.random((n_students, n_tests))\n",
    "error_chance = tests <= error\n",
    "perc = (error_chance.sum(axis = 0) == 0).mean()\n",
    "perc"
   ]
  },
  {
   "cell_type": "code",
   "execution_count": 25,
   "id": "20faa7a4",
   "metadata": {},
   "outputs": [
    {
     "data": {
      "text/plain": [
       "0.54713"
      ]
     },
     "execution_count": 25,
     "metadata": {},
     "output_type": "execute_result"
    }
   ],
   "source": [
    "error = 1/250\n",
    "n_students = 150\n",
    "tests = np.random.random((n_students, n_tests))\n",
    "error_chance = tests <= error\n",
    "perc = (error_chance.sum(axis = 0) == 0).mean()\n",
    "perc"
   ]
  },
  {
   "cell_type": "code",
   "execution_count": 26,
   "id": "25d39f94",
   "metadata": {},
   "outputs": [
    {
     "data": {
      "text/plain": [
       "0.1993"
      ]
     },
     "execution_count": 26,
     "metadata": {},
     "output_type": "execute_result"
    }
   ],
   "source": [
    "error = 1/250\n",
    "n_students = 400\n",
    "tests = np.random.random((n_students, n_tests))\n",
    "error_chance = tests <= error\n",
    "perc = (error_chance.sum(axis = 0) == 0).mean()\n",
    "perc"
   ]
  },
  {
   "cell_type": "code",
   "execution_count": 27,
   "id": "6d4794e0",
   "metadata": {},
   "outputs": [
    {
     "data": {
      "text/plain": [
       "0.0264"
      ]
     },
     "execution_count": 27,
     "metadata": {},
     "output_type": "execute_result"
    }
   ],
   "source": [
    "food = .7\n",
    "days = 3\n",
    "n_days = 4\n",
    "no_food = np.random.random((n_tests, days))\n",
    "nfts = no_food > food\n",
    "nfts_fails = (nfts.sum(axis = 1) == 3).mean()\n",
    "nfts_fails"
   ]
  },
  {
   "cell_type": "code",
   "execution_count": 28,
   "id": "ffe4966d",
   "metadata": {},
   "outputs": [
    {
     "data": {
      "text/plain": [
       "0.99116"
      ]
     },
     "execution_count": 28,
     "metadata": {},
     "output_type": "execute_result"
    }
   ],
   "source": [
    "food_here = np.random.random((n_tests, n_days))\n",
    "foods = food_here <= food\n",
    "yay_food = (foods.sum(axis = 1) >= 1).mean()\n",
    "yay_food"
   ]
  },
  {
   "cell_type": "code",
   "execution_count": 36,
   "id": "fedd9b20",
   "metadata": {},
   "outputs": [
    {
     "data": {
      "text/plain": [
       "0.50052"
      ]
     },
     "execution_count": 36,
     "metadata": {},
     "output_type": "execute_result"
    }
   ],
   "source": [
    "n_people = int(23*(22)/2)\n",
    "bday = 1/365\n",
    "share = np.random.random((n_tests, n_people))\n",
    "share_chance = share <= bday\n",
    "bshare = (share_chance.sum(axis = 1) >= 1).mean()\n",
    "bshare"
   ]
  },
  {
   "cell_type": "code",
   "execution_count": 33,
   "id": "676d7201",
   "metadata": {},
   "outputs": [
    {
     "data": {
      "text/plain": [
       "0.40645"
      ]
     },
     "execution_count": 33,
     "metadata": {},
     "output_type": "execute_result"
    }
   ],
   "source": [
    "n_people = int(20*(20-1)/2)\n",
    "share = np.random.random((n_tests, n_people))\n",
    "share_chance = share <= bday\n",
    "bshare =(share_chance.sum(axis = 1) >= 1).mean()\n",
    "bshare"
   ]
  },
  {
   "cell_type": "code",
   "execution_count": 32,
   "id": "bd3d1765",
   "metadata": {},
   "outputs": [
    {
     "data": {
      "text/plain": [
       "0.99963"
      ]
     },
     "execution_count": 32,
     "metadata": {},
     "output_type": "execute_result"
    }
   ],
   "source": [
    "n_people = int(75*(75-1)/2)\n",
    "share = np.random.random((n_tests, n_people))\n",
    "share_chance = share <= bday\n",
    "bshare =(share_chance.sum(axis = 1) >= 1).mean()\n",
    "bshare"
   ]
  },
  {
   "cell_type": "code",
   "execution_count": null,
   "id": "34d45c57",
   "metadata": {},
   "outputs": [],
   "source": []
  }
 ],
 "metadata": {
  "kernelspec": {
   "display_name": "Python 3 (ipykernel)",
   "language": "python",
   "name": "python3"
  },
  "language_info": {
   "codemirror_mode": {
    "name": "ipython",
    "version": 3
   },
   "file_extension": ".py",
   "mimetype": "text/x-python",
   "name": "python",
   "nbconvert_exporter": "python",
   "pygments_lexer": "ipython3",
   "version": "3.9.13"
  }
 },
 "nbformat": 4,
 "nbformat_minor": 5
}
