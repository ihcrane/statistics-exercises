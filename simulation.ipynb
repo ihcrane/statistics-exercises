{
 "cells": [
  {
   "cell_type": "code",
   "execution_count": 72,
   "id": "0f372e8e",
   "metadata": {},
   "outputs": [
    {
     "data": {
      "text/html": [
       "<div>\n",
       "<style scoped>\n",
       "    .dataframe tbody tr th:only-of-type {\n",
       "        vertical-align: middle;\n",
       "    }\n",
       "\n",
       "    .dataframe tbody tr th {\n",
       "        vertical-align: top;\n",
       "    }\n",
       "\n",
       "    .dataframe thead th {\n",
       "        text-align: right;\n",
       "    }\n",
       "</style>\n",
       "<table border=\"1\" class=\"dataframe\">\n",
       "  <thead>\n",
       "    <tr style=\"text-align: right;\">\n",
       "      <th></th>\n",
       "      <th>0</th>\n",
       "      <th>1</th>\n",
       "    </tr>\n",
       "  </thead>\n",
       "  <tbody>\n",
       "    <tr>\n",
       "      <th>0</th>\n",
       "      <td>3</td>\n",
       "      <td>2</td>\n",
       "    </tr>\n",
       "    <tr>\n",
       "      <th>1</th>\n",
       "      <td>5</td>\n",
       "      <td>3</td>\n",
       "    </tr>\n",
       "    <tr>\n",
       "      <th>2</th>\n",
       "      <td>4</td>\n",
       "      <td>4</td>\n",
       "    </tr>\n",
       "    <tr>\n",
       "      <th>3</th>\n",
       "      <td>6</td>\n",
       "      <td>2</td>\n",
       "    </tr>\n",
       "    <tr>\n",
       "      <th>4</th>\n",
       "      <td>1</td>\n",
       "      <td>1</td>\n",
       "    </tr>\n",
       "    <tr>\n",
       "      <th>...</th>\n",
       "      <td>...</td>\n",
       "      <td>...</td>\n",
       "    </tr>\n",
       "    <tr>\n",
       "      <th>9995</th>\n",
       "      <td>2</td>\n",
       "      <td>4</td>\n",
       "    </tr>\n",
       "    <tr>\n",
       "      <th>9996</th>\n",
       "      <td>2</td>\n",
       "      <td>2</td>\n",
       "    </tr>\n",
       "    <tr>\n",
       "      <th>9997</th>\n",
       "      <td>3</td>\n",
       "      <td>2</td>\n",
       "    </tr>\n",
       "    <tr>\n",
       "      <th>9998</th>\n",
       "      <td>3</td>\n",
       "      <td>5</td>\n",
       "    </tr>\n",
       "    <tr>\n",
       "      <th>9999</th>\n",
       "      <td>2</td>\n",
       "      <td>2</td>\n",
       "    </tr>\n",
       "  </tbody>\n",
       "</table>\n",
       "<p>10000 rows × 2 columns</p>\n",
       "</div>"
      ],
      "text/plain": [
       "      0  1\n",
       "0     3  2\n",
       "1     5  3\n",
       "2     4  4\n",
       "3     6  2\n",
       "4     1  1\n",
       "...  .. ..\n",
       "9995  2  4\n",
       "9996  2  2\n",
       "9997  3  2\n",
       "9998  3  5\n",
       "9999  2  2\n",
       "\n",
       "[10000 rows x 2 columns]"
      ]
     },
     "execution_count": 72,
     "metadata": {},
     "output_type": "execute_result"
    }
   ],
   "source": [
    "import pandas as pd\n",
    "import numpy as np\n",
    "import matplotlib.pyplot as plt\n",
    "import seaborn as sns\n",
    "\n",
    "np.random.seed(1349)\n",
    "\n",
    "simulations = 10000\n",
    "n_dice = ncols = 2\n",
    "\n",
    "rolls = np.random.choice([1, 2, 3, 4, 5, 6], size = (simulations, n_dice))\n",
    "rolls = pd.DataFrame(rolls)\n",
    "rolls"
   ]
  },
  {
   "cell_type": "code",
   "execution_count": 56,
   "id": "c41a668a",
   "metadata": {},
   "outputs": [
    {
     "data": {
      "text/plain": [
       "0.1596"
      ]
     },
     "execution_count": 56,
     "metadata": {},
     "output_type": "execute_result"
    }
   ],
   "source": [
    "(rolls[0] == rolls[1]).mean()"
   ]
  },
  {
   "cell_type": "code",
   "execution_count": 65,
   "id": "48b271dc",
   "metadata": {},
   "outputs": [
    {
     "data": {
      "text/plain": [
       "array([2, 6, 4, ..., 4, 2, 6])"
      ]
     },
     "execution_count": 65,
     "metadata": {},
     "output_type": "execute_result"
    }
   ],
   "source": [
    "coinflips = np.random.choice(['H','T'], size=(simulations, n_coins))\n",
    "flips_sim = (coinflips == 'H').sum(axis=1)\n",
    "flips_sim"
   ]
  },
  {
   "cell_type": "code",
   "execution_count": 64,
   "id": "66fe3824",
   "metadata": {},
   "outputs": [
    {
     "data": {
      "text/plain": [
       "0.8568"
      ]
     },
     "execution_count": 64,
     "metadata": {},
     "output_type": "execute_result"
    }
   ],
   "source": [
    "(flips_sim >= 3).mean()"
   ]
  },
  {
   "cell_type": "code",
   "execution_count": 67,
   "id": "a4b2594f",
   "metadata": {},
   "outputs": [
    {
     "data": {
      "text/plain": [
       "array([['wd', 'wd'],\n",
       "       ['wd', 'wd'],\n",
       "       ['ds', 'ds'],\n",
       "       ...,\n",
       "       ['wd', 'wd'],\n",
       "       ['wd', 'wd'],\n",
       "       ['wd', 'ds']], dtype='<U2')"
      ]
     },
     "execution_count": 67,
     "metadata": {},
     "output_type": "execute_result"
    }
   ],
   "source": [
    "outcomes = ['wd','wd','wd','ds']\n",
    "n_billboards = 2\n",
    "billboards = np.random.choice(outcomes, size=(simulations, n_billboards))\n",
    "billboards"
   ]
  },
  {
   "cell_type": "code",
   "execution_count": 69,
   "id": "5a80cbc0",
   "metadata": {},
   "outputs": [
    {
     "data": {
      "text/plain": [
       "array([1, 1, 0, ..., 1, 0, 1])"
      ]
     },
     "execution_count": 69,
     "metadata": {},
     "output_type": "execute_result"
    }
   ],
   "source": [
    "outcomes = ['wd','ds']\n",
    "billboards = np.random.choice(outcomes, size=(simulations, n_billboards), p=[.75, .25])\n",
    "(billboards == 'ds').sum(axis=1)"
   ]
  },
  {
   "cell_type": "code",
   "execution_count": 70,
   "id": "d6a6cfb6",
   "metadata": {},
   "outputs": [
    {
     "data": {
      "text/plain": [
       "0.0622"
      ]
     },
     "execution_count": 70,
     "metadata": {},
     "output_type": "execute_result"
    }
   ],
   "source": [
    "prob = ((billboards == 'ds').sum(axis=1) == 2).mean()\n",
    "prob"
   ]
  },
  {
   "cell_type": "code",
   "execution_count": 17,
   "id": "a3097696",
   "metadata": {},
   "outputs": [
    {
     "data": {
      "text/plain": [
       "0.61772"
      ]
     },
     "execution_count": 17,
     "metadata": {},
     "output_type": "execute_result"
    }
   ],
   "source": [
    "pop_num = 17\n",
    "days = 5\n",
    "n_tests = 10 ** 5\n",
    "pop_per = np.random.normal(3, 1.5, size = (n_tests, days))\n",
    "pop_bought = pop_per.sum(axis = 1)\n",
    "pop_yay = (pop_bought <(pop_num - 1)).mean()\n",
    "pop_yay"
   ]
  },
  {
   "cell_type": "code",
   "execution_count": 78,
   "id": "5e8fe48a",
   "metadata": {},
   "outputs": [
    {
     "data": {
      "text/plain": [
       "0.7241"
      ]
     },
     "execution_count": 78,
     "metadata": {},
     "output_type": "execute_result"
    }
   ],
   "source": [
    "mean = 3\n",
    "sd = 1.5\n",
    "\n",
    "n_days = 5\n",
    "pop_per_day = np.random.normal(mean, sd, size=(simulations, n_days))\n",
    "\n",
    "poptarts_per_week = pop_per_day.sum(axis=1)\n",
    "(poptarts_per_week < 17).mean()"
   ]
  },
  {
   "cell_type": "code",
   "execution_count": 80,
   "id": "96a038a8",
   "metadata": {},
   "outputs": [
    {
     "data": {
      "text/plain": [
       "0.2105"
      ]
     },
     "execution_count": 80,
     "metadata": {},
     "output_type": "execute_result"
    }
   ],
   "source": [
    "m_avg = 178\n",
    "m_std = 8\n",
    "f_avg = 170\n",
    "f_std = 6\n",
    "\n",
    "height_men = np.random.normal(m_avg, m_std, simulations)\n",
    "height_women = np.random.normal(f_avg, f_std, simulations)\n",
    "\n",
    "(height_women > height_men).mean()\n"
   ]
  },
  {
   "cell_type": "code",
   "execution_count": 87,
   "id": "c925c548",
   "metadata": {},
   "outputs": [
    {
     "data": {
      "text/plain": [
       "0.8179"
      ]
     },
     "execution_count": 87,
     "metadata": {},
     "output_type": "execute_result"
    }
   ],
   "source": [
    "outcomes = ['s','f']\n",
    "n_students = 50\n",
    "\n",
    "downloads = np.random.choice(outcomes, size=(simulations, n_students), p=[249/250, 1/250])\n",
    "(downloads == 's').sum(axis=1)\n",
    "((downloads == 's').sum(axis=1) == n_students).mean()"
   ]
  },
  {
   "cell_type": "code",
   "execution_count": 102,
   "id": "250c9454",
   "metadata": {},
   "outputs": [
    {
     "data": {
      "text/plain": [
       "0.553"
      ]
     },
     "execution_count": 102,
     "metadata": {},
     "output_type": "execute_result"
    }
   ],
   "source": [
    "outcomes = ['s','f']\n",
    "n_students = 150\n",
    "\n",
    "downloads = np.random.choice(outcomes, size=(simulations, n_students), p=[249/250, 1/250])\n",
    "(downloads == 's').sum(axis=1)\n",
    "((downloads == 's').sum(axis=1) == n_students).mean()"
   ]
  },
  {
   "cell_type": "code",
   "execution_count": 90,
   "id": "47f765ff",
   "metadata": {},
   "outputs": [
    {
     "data": {
      "text/plain": [
       "0.2033"
      ]
     },
     "execution_count": 90,
     "metadata": {},
     "output_type": "execute_result"
    }
   ],
   "source": [
    "outcomes = ['s','f']\n",
    "n_students = 400\n",
    "\n",
    "downloads = np.random.choice(outcomes, size=(simulations, n_students), p=[249/250, 1/250])\n",
    "(downloads == 's').sum(axis=1)\n",
    "((downloads == 's').sum(axis=1) == n_students).mean()"
   ]
  },
  {
   "cell_type": "code",
   "execution_count": 106,
   "id": "7174ba95",
   "metadata": {},
   "outputs": [
    {
     "data": {
      "text/plain": [
       "0.9734"
      ]
     },
     "execution_count": 106,
     "metadata": {},
     "output_type": "execute_result"
    }
   ],
   "source": [
    "n_days = 3\n",
    "trucks = np.random.choice([0,1], size = (simulations, n_days), p=[0.3,0.7])\n",
    "(trucks.sum(axis=1) == 0).mean()\n",
    "\n",
    "(trucks.sum(axis=1) >= 1).mean()"
   ]
  },
  {
   "cell_type": "code",
   "execution_count": 28,
   "id": "c0df1898",
   "metadata": {},
   "outputs": [
    {
     "data": {
      "text/plain": [
       "0.99116"
      ]
     },
     "execution_count": 28,
     "metadata": {},
     "output_type": "execute_result"
    }
   ],
   "source": [
    "food_here = np.random.random((n_tests, n_days))\n",
    "foods = food_here <= food\n",
    "yay_food = (foods.sum(axis = 1) >= 1).mean()\n",
    "yay_food"
   ]
  },
  {
   "cell_type": "code",
   "execution_count": 114,
   "id": "ec6df7f2",
   "metadata": {},
   "outputs": [
    {
     "data": {
      "text/plain": [
       "0.507"
      ]
     },
     "execution_count": 114,
     "metadata": {},
     "output_type": "execute_result"
    }
   ],
   "source": [
    "outcomes = range(1, 366)\n",
    "n_students = 23\n",
    "\n",
    "birthdays = np.random.choice(outcomes, size=(simulations, n_students))\n",
    "birthdays = pd.DataFrame(birthdays)\n",
    "\n",
    "(birthdays.nunique(axis=1) < n_students).mean()"
   ]
  },
  {
   "cell_type": "code",
   "execution_count": 115,
   "id": "bdd5a8ec",
   "metadata": {},
   "outputs": [
    {
     "data": {
      "text/plain": [
       "0.4153"
      ]
     },
     "execution_count": 115,
     "metadata": {},
     "output_type": "execute_result"
    }
   ],
   "source": [
    "outcomes = range(1, 366)\n",
    "n_students = 20\n",
    "\n",
    "birthdays = np.random.choice(outcomes, size=(simulations, n_students))\n",
    "birthdays = pd.DataFrame(birthdays)\n",
    "\n",
    "(birthdays.nunique(axis=1) < n_students).mean()"
   ]
  },
  {
   "cell_type": "code",
   "execution_count": 116,
   "id": "121f61c5",
   "metadata": {},
   "outputs": [
    {
     "data": {
      "text/plain": [
       "0.8948"
      ]
     },
     "execution_count": 116,
     "metadata": {},
     "output_type": "execute_result"
    }
   ],
   "source": [
    "outcomes = range(1, 366)\n",
    "n_students = 40\n",
    "\n",
    "birthdays = np.random.choice(outcomes, size=(simulations, n_students))\n",
    "birthdays = pd.DataFrame(birthdays)\n",
    "\n",
    "(birthdays.nunique(axis=1) < n_students).mean()"
   ]
  },
  {
   "cell_type": "code",
   "execution_count": null,
   "id": "16ae7df1",
   "metadata": {},
   "outputs": [],
   "source": []
  }
 ],
 "metadata": {
  "kernelspec": {
   "display_name": "Python 3 (ipykernel)",
   "language": "python",
   "name": "python3"
  },
  "language_info": {
   "codemirror_mode": {
    "name": "ipython",
    "version": 3
   },
   "file_extension": ".py",
   "mimetype": "text/x-python",
   "name": "python",
   "nbconvert_exporter": "python",
   "pygments_lexer": "ipython3",
   "version": "3.9.13"
  }
 },
 "nbformat": 4,
 "nbformat_minor": 5
}
