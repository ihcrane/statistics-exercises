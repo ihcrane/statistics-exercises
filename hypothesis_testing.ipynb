{
 "cells": [
  {
   "cell_type": "code",
   "execution_count": 1,
   "id": "0d75e883",
   "metadata": {},
   "outputs": [],
   "source": [
    "# 1. Has the network latency gone up since we switched internet service providers?\n",
    "\n",
    "# null hypothesis: There is no change in network latency since we switched internet providers\n",
    "# alternate hypothesis: The network latency has gone up since we switched internet providers\n",
    "\n",
    "# true positive: The network latency has increased since the switch to the new internet provider \n",
    "# true negative: The network latency has not increased since the switch to the new internet provider\n",
    "# type I error: The network latency has not increased, however, the sample data suggests it has.\n",
    "# type II error: The network latency has increased, however, the sample data suggests it did not."
   ]
  },
  {
   "cell_type": "code",
   "execution_count": 2,
   "id": "955d63b9",
   "metadata": {},
   "outputs": [],
   "source": [
    "# 2. Is the website redesign any good?\n",
    "# Rewording: Is the website redesign has increased sales.\n",
    "\n",
    "# null hypothesis: The website redesign did not increase sales.\n",
    "# alternate hypothesis: The website redesign increased sales.\n",
    "\n",
    "# true positive: The website redesign increased sales\n",
    "# true negative: The website redesign did not increase sales.\n",
    "# type 1 error: The website redesign did not increase sales, however, the sample data suggests it did.\n",
    "# type 2 error: The website redesign increased sales, however, the sample data suggests it did not.\n"
   ]
  },
  {
   "cell_type": "code",
   "execution_count": null,
   "id": "784ccebf",
   "metadata": {},
   "outputs": [],
   "source": [
    "# 3. Is our television ad driving more sales?\n",
    "\n",
    "# null hypothesis: The television ad has not increased sales\n",
    "# alternate hypothesis: The televesion ad has increased sales\n",
    "\n",
    "# true positive: The televesion ad increased sales.\n",
    "# true negative: The television ad did not increase sales.\n",
    "# type 1 error: The television ad did not increase sales, however, the sample data suggests it did.\n",
    "# type 2 error: The television ad increased sales, however, the sample data suggests it did not.\n"
   ]
  },
  {
   "cell_type": "markdown",
   "id": "baf5d50b",
   "metadata": {},
   "source": [
    "### Central Limit Theorem\n",
    "\n",
    "- A population, that is not necessarily normally distributed.\n",
    "- Taking samples, of sufficient size, will result in normally distributed sample means."
   ]
  },
  {
   "cell_type": "code",
   "execution_count": 2,
   "id": "df1a976a",
   "metadata": {},
   "outputs": [],
   "source": [
    "import numpy as np\n",
    "import seaborn as sns\n",
    "import scipy.stats as stats\n",
    "import pandas as pd\n",
    "import matplotlib.pyplot as plt"
   ]
  },
  {
   "cell_type": "code",
   "execution_count": 6,
   "id": "e3749d28",
   "metadata": {},
   "outputs": [
    {
     "data": {
      "text/plain": [
       "array([[6, 3, 5, 3, 2, 4, 3, 4, 2, 2],\n",
       "       [1, 2, 2, 1, 1, 2, 4, 6, 5, 1],\n",
       "       [1, 5, 2, 4, 3, 5, 3, 5, 1, 6],\n",
       "       [1, 2, 4, 5, 5, 5, 2, 6, 4, 3]])"
      ]
     },
     "execution_count": 6,
     "metadata": {},
     "output_type": "execute_result"
    }
   ],
   "source": [
    "np.random.seed(123)\n",
    "\n",
    "n_dice_per_experiment = ncols = 10\n",
    "n_experiments = nrows = 100\n",
    "\n",
    "data = np.random.randint(1,7, (nrows, ncols))\n",
    "\n",
    "data[:4]"
   ]
  },
  {
   "cell_type": "code",
   "execution_count": 7,
   "id": "15686566",
   "metadata": {},
   "outputs": [
    {
     "data": {
      "text/plain": [
       "array([3.4, 2.5, 3.5, 3.7, 3.2, 4.7, 3.4, 3.2, 3.4, 3. , 3.7, 3.5, 4. ,\n",
       "       4.5, 2.9, 2.8, 2.9, 3.8, 3.2, 3.6, 3.4, 4. , 3.5, 3.3, 3.6, 3. ,\n",
       "       4.3, 3. , 3.3, 3.2, 4.2, 3.9, 3.2, 3.8, 3.6, 3.4, 2.7, 3.4, 3.2,\n",
       "       3.1, 3.2, 3. , 4.1, 3.3, 3. , 4.1, 3.4, 3.3, 2.9, 3.8, 3.4, 3.6,\n",
       "       3.9, 3.2, 4.7, 3.8, 3.5, 2.8, 3.8, 4.7, 4.1, 3.5, 2.8, 3.7, 3.4,\n",
       "       3.7, 3.6, 4.1, 3.6, 3.5, 2.9, 4. , 3.2, 3.4, 4.4, 2.9, 3.2, 3.9,\n",
       "       1.9, 3. , 3. , 3.5, 3.3, 4.4, 3.4, 4.2, 4.1, 3.2, 3.5, 3.5, 3.8,\n",
       "       3.1, 3.6, 2.9, 2.9, 4. , 3.3, 3.1, 3.4, 3.6])"
      ]
     },
     "execution_count": 7,
     "metadata": {},
     "output_type": "execute_result"
    }
   ],
   "source": [
    "calculated_averages = data.mean(axis=1)\n",
    "calculated_averages"
   ]
  },
  {
   "cell_type": "code",
   "execution_count": 8,
   "id": "6debcfcf",
   "metadata": {},
   "outputs": [
    {
     "data": {
      "text/plain": [
       "Text(0.5, 1.0, 'Out come of averaging 10 dice rolls 100 times')"
      ]
     },
     "execution_count": 8,
     "metadata": {},
     "output_type": "execute_result"
    },
    {
     "data": {
      "image/png": "[encoded data removed]",
      "text/plain": [
       "<Figure size 640x480 with 1 Axes>"
      ]
     },
     "metadata": {},
     "output_type": "display_data"
    }
   ],
   "source": [
    "plt.hist(calculated_averages)\n",
    "plt.xlabel(f'Average of {n_dice_per_experiment} dice rolls')\n",
    "plt.ylabel('# of Occurences')\n",
    "\n",
    "plt.title(f'Out come of averaging {n_dice_per_experiment} dice rolls {n_experiments} times')"
   ]
  },
  {
   "cell_type": "code",
   "execution_count": 20,
   "id": "c54003e5",
   "metadata": {},
   "outputs": [],
   "source": [
    "import env\n",
    "\n",
    "db_url = f'mysql+pymysql://{env.username}:{env.password}@{env.hostname}/telco_churn'\n",
    "df = pd.read_sql('SELECT * FROM customers', db_url)  "
   ]
  },
  {
   "cell_type": "code",
   "execution_count": 21,
   "id": "f8eb9131",
   "metadata": {},
   "outputs": [
    {
     "data": {
      "text/plain": [
       "Index(['customer_id', 'gender', 'senior_citizen', 'partner', 'dependents',\n",
       "       'tenure', 'phone_service', 'multiple_lines', 'internet_service_type_id',\n",
       "       'online_security', 'online_backup', 'device_protection', 'tech_support',\n",
       "       'streaming_tv', 'streaming_movies', 'contract_type_id',\n",
       "       'paperless_billing', 'payment_type_id', 'monthly_charges',\n",
       "       'total_charges', 'churn'],\n",
       "      dtype='object')"
      ]
     },
     "execution_count": 21,
     "metadata": {},
     "output_type": "execute_result"
    }
   ],
   "source": [
    "df.columns"
   ]
  },
  {
   "cell_type": "code",
   "execution_count": 22,
   "id": "c9b1a475",
   "metadata": {},
   "outputs": [
    {
     "data": {
      "text/plain": [
       "<AxesSubplot:>"
      ]
     },
     "execution_count": 22,
     "metadata": {},
     "output_type": "execute_result"
    },
    {
     "data": {
      "image/png": "[encoded data removed]",
      "text/plain": [
       "<Figure size 640x480 with 1 Axes>"
      ]
     },
     "metadata": {},
     "output_type": "display_data"
    }
   ],
   "source": [
    "df.monthly_charges.hist()"
   ]
  },
  {
   "cell_type": "code",
   "execution_count": 23,
   "id": "8ddefcde",
   "metadata": {},
   "outputs": [
    {
     "data": {
      "text/plain": [
       "<AxesSubplot:>"
      ]
     },
     "execution_count": 23,
     "metadata": {},
     "output_type": "execute_result"
    },
    {
     "data": {
      "image/png": "[encoded data removed]",
      "text/plain": [
       "<Figure size 640x480 with 1 Axes>"
      ]
     },
     "metadata": {},
     "output_type": "display_data"
    }
   ],
   "source": [
    "churn_sample = df[df.churn == 'Yes'].monthly_charges\n",
    "\n",
    "churn_sample.hist()"
   ]
  },
  {
   "cell_type": "markdown",
   "id": "d591a490",
   "metadata": {},
   "source": [
    "## Set hypothesis\n",
    "\n",
    "H_0: Mean of monthly charges of churned customers <= mean of monthly charges of all customers\n",
    "\n",
    "H_a: Mean of monthly charges of churned customers > mean of monthly charges of all customers\n",
    "    "
   ]
  },
  {
   "cell_type": "code",
   "execution_count": 29,
   "id": "4738d8b0",
   "metadata": {},
   "outputs": [],
   "source": [
    "## Set an alpha value\n",
    "\n",
    "alpha = .05"
   ]
  },
  {
   "cell_type": "code",
   "execution_count": 25,
   "id": "e957ba3c",
   "metadata": {},
   "outputs": [
    {
     "data": {
      "text/plain": [
       "No     5174\n",
       "Yes    1869\n",
       "Name: churn, dtype: int64"
      ]
     },
     "execution_count": 25,
     "metadata": {},
     "output_type": "execute_result"
    }
   ],
   "source": [
    "## Verify an assumption of sample size\n",
    "\n",
    "df['churn'].value_counts()"
   ]
  },
  {
   "cell_type": "code",
   "execution_count": 30,
   "id": "c0f5234a",
   "metadata": {},
   "outputs": [
    {
     "name": "stdout",
     "output_type": "stream",
     "text": [
      "16.96540308050567 1.8703196496911995e-60 0.05\n"
     ]
    }
   ],
   "source": [
    "## Compute Test Statistic \n",
    "\n",
    "\n",
    "# Churned customer sample\n",
    "churn_sample = df[df['churn'] == 'Yes']['monthly_charges']\n",
    "\n",
    "# The overall mean\n",
    "overall_mean = df['monthly_charges'].mean()\n",
    "\n",
    "\n",
    "## The output of a 1 tail, 1 sample, t-test\n",
    "# specified the sample\n",
    "# specified the overall mean\n",
    "\n",
    "# Assign the output to t (for the t-statistic) and p (the p-value)\n",
    "t, p = stats.ttest_1samp(churn_sample, overall_mean)\n",
    "\n",
    "print(t, p/2, alpha)"
   ]
  },
  {
   "cell_type": "code",
   "execution_count": 32,
   "id": "5e7880b4",
   "metadata": {},
   "outputs": [
    {
     "data": {
      "text/plain": [
       "True"
      ]
     },
     "execution_count": 32,
     "metadata": {},
     "output_type": "execute_result"
    }
   ],
   "source": [
    "# is t > 0\n",
    "\n",
    "t > 0\n",
    "\n",
    "# is p/2 < alpha\n",
    "\n",
    "p/2 < alpha"
   ]
  },
  {
   "cell_type": "code",
   "execution_count": 36,
   "id": "c7ab1a1e",
   "metadata": {},
   "outputs": [
    {
     "name": "stdout",
     "output_type": "stream",
     "text": [
      "We reject null hypothesis\n"
     ]
    }
   ],
   "source": [
    "## The results based on t-statistic and p-value\n",
    "\n",
    "if p/2 > alpha:\n",
    "    print(f'We fail to reject null hypothesis')\n",
    "elif t < 0:\n",
    "    print(f'We fail to reject null hypothesis')\n",
    "else:\n",
    "    print('We reject null hypothesis')"
   ]
  },
  {
   "cell_type": "markdown",
   "id": "0ce6fe0e",
   "metadata": {},
   "source": [
    "## ANOVA - Analysis of Variance\n",
    "\n",
    "Outcome: Compare means of groups A, B, and C\n",
    "    \n",
    "1. Plot distributions\n",
    "2. Estabilsh hypothesis\n",
    "\n",
    "\n",
    "## Format of Hypothesis\n",
    "\n",
    "$H_0$ Null hypothesis = $\\mu_{A} = \\mu_{B} = \\mu_{C}$\n",
    "\n",
    "$H_a$ Alternate hypothesis = $\\mu_{A} \\neq \\mu_{B} \\neq \\mu_{C}$\n",
    "\n",
    "## Significant Level\n",
    "\n",
    "alpha = .05\n",
    "\n",
    "## Verify assumptions\n",
    "\n",
    "- Normal distribution or at least 30 observations\n",
    "- Indpendent variables\n",
    "- Equal variances\n",
    "\n",
    "### Syntax for test\n",
    "```python\n",
    "scipy.stats.f_oneway\n",
    "```\n",
    "Return: test statistitics and a p-value"
   ]
  },
  {
   "cell_type": "code",
   "execution_count": 203,
   "id": "7520c872",
   "metadata": {},
   "outputs": [
    {
     "data": {
      "text/plain": [
       "setosa        50\n",
       "versicolor    50\n",
       "virginica     50\n",
       "Name: species, dtype: int64"
      ]
     },
     "execution_count": 203,
     "metadata": {},
     "output_type": "execute_result"
    }
   ],
   "source": [
    "### Load a dataset\n",
    "\n",
    "df = sns.load_dataset('iris')\n",
    "\n",
    "### Check sample size\n",
    "df. species.value_counts()\n",
    "\n",
    "\n",
    "# df.info()\n",
    "\n",
    "# Independent - belong to one species\n",
    "# Sample size - sufficient\n"
   ]
  },
  {
   "cell_type": "code",
   "execution_count": null,
   "id": "2f1a6610",
   "metadata": {},
   "outputs": [],
   "source": [
    "# Group A - setosa\n",
    "# Group B - versicolor\n",
    "# Group C - virginica"
   ]
  },
  {
   "cell_type": "code",
   "execution_count": 204,
   "id": "694c2263",
   "metadata": {},
   "outputs": [
    {
     "data": {
      "text/plain": [
       "count    150.000000\n",
       "mean       5.843333\n",
       "std        0.828066\n",
       "min        4.300000\n",
       "25%        5.100000\n",
       "50%        5.800000\n",
       "75%        6.400000\n",
       "max        7.900000\n",
       "Name: sepal_length, dtype: float64"
      ]
     },
     "execution_count": 204,
     "metadata": {},
     "output_type": "execute_result"
    }
   ],
   "source": [
    "# Statistical summary of sepal_length\n",
    "\n",
    "df.sepal_length.describe()"
   ]
  },
  {
   "cell_type": "code",
   "execution_count": 205,
   "id": "09aa9af0",
   "metadata": {},
   "outputs": [],
   "source": [
    "### Filter sepal_length by species\n",
    "\n",
    "versicolor_sepal_length = df[df['species'] == 'versicolor']['sepal_length']\n",
    "virginica_sepal_length = df[df['species'] == 'virginica']['sepal_length']\n",
    "setosa_sepal_length = df[df['species'] == 'setosa']['sepal_length']\n",
    "\n"
   ]
  },
  {
   "cell_type": "code",
   "execution_count": 209,
   "id": "8ba59fe1",
   "metadata": {},
   "outputs": [
    {
     "data": {
      "text/plain": [
       "<AxesSubplot:>"
      ]
     },
     "execution_count": 209,
     "metadata": {},
     "output_type": "execute_result"
    },
    {
     "data": {
      "image/png": "[encoded data removed]",
      "text/plain": [
       "<Figure size 640x480 with 1 Axes>"
      ]
     },
     "metadata": {},
     "output_type": "display_data"
    }
   ],
   "source": [
    "## Histograms\n",
    "\n",
    "versicolor_sepal_length.hist(alpha = .5)\n",
    "setosa_sepal_length.hist(alpha = .5)\n",
    "virginica_sepal_length.hist(alpha = .5)"
   ]
  },
  {
   "cell_type": "code",
   "execution_count": null,
   "id": "bb694ce6",
   "metadata": {},
   "outputs": [],
   "source": [
    "### State hypotheses\n",
    "\n",
    "H_0: For the mean of sepal_length - Versicolor = Virginica = Setosa\n",
    "H_a: For the mean of sepal_length - Not all equal"
   ]
  },
  {
   "cell_type": "code",
   "execution_count": 213,
   "id": "ef3f6d19",
   "metadata": {},
   "outputs": [],
   "source": [
    "# significance level\n",
    "\n",
    "alpha = .05\n",
    "\n",
    "# Independence? YES\n",
    "# 30 observations\n",
    "# Equal variance"
   ]
  },
  {
   "cell_type": "markdown",
   "id": "d9729072",
   "metadata": {},
   "source": [
    "Test for equal variance: Levene's Test\n",
    "\n",
    "H_0: population variances of sepal length across all 3 species are equal\n",
    "H_a: population variances of sepal lengths is different among at least 2 species"
   ]
  },
  {
   "cell_type": "code",
   "execution_count": 214,
   "id": "ab928e9d",
   "metadata": {},
   "outputs": [
    {
     "data": {
      "text/plain": [
       "LeveneResult(statistic=6.35272002048269, pvalue=0.0022585277836218586)"
      ]
     },
     "execution_count": 214,
     "metadata": {},
     "output_type": "execute_result"
    }
   ],
   "source": [
    "stats.levene(versicolor_sepal_length, setosa_sepal_length, virginica_sepal_length)"
   ]
  },
  {
   "cell_type": "markdown",
   "id": "648e1abe",
   "metadata": {},
   "source": [
    "The p-value is < .05 therefore the variance of at least 2 of the groups are significantly different. In this case, it would not be recommended to run an ANOVA because assumptions are violated.\n",
    "However, we will do it here to see what happens.\n",
    "In practice, we would resort to a non-parametric version of our test, which in the case of ANOVA, would be Kruskal-Wallis Test."
   ]
  },
  {
   "cell_type": "code",
   "execution_count": 215,
   "id": "696afbba",
   "metadata": {},
   "outputs": [
    {
     "data": {
      "text/plain": [
       "F_onewayResult(statistic=119.26450218450472, pvalue=1.6696691907693648e-31)"
      ]
     },
     "execution_count": 215,
     "metadata": {},
     "output_type": "execute_result"
    }
   ],
   "source": [
    "stats.f_oneway(versicolor_sepal_length, virginica_sepal_length, setosa_sepal_length)"
   ]
  },
  {
   "cell_type": "code",
   "execution_count": 216,
   "id": "e22b95ac",
   "metadata": {},
   "outputs": [
    {
     "data": {
      "text/plain": [
       "KruskalResult(statistic=96.93743600064833, pvalue=8.91873433246198e-22)"
      ]
     },
     "execution_count": 216,
     "metadata": {},
     "output_type": "execute_result"
    }
   ],
   "source": [
    "stats.kruskal(versicolor_sepal_length, virginica_sepal_length, setosa_sepal_length)"
   ]
  },
  {
   "cell_type": "markdown",
   "id": "289307b6",
   "metadata": {},
   "source": [
    "Because variances were not equal, we would go with the result of th Kruskal-Wallis Test.\n",
    "We still achieved significance here.\n",
    "\n",
    "Our takeaway is that there appears to be a significant difference in sepal length across at least 2 of the groups."
   ]
  },
  {
   "cell_type": "code",
   "execution_count": 217,
   "id": "f040a546",
   "metadata": {},
   "outputs": [
    {
     "name": "stdout",
     "output_type": "stream",
     "text": [
      "5.936\n",
      "6.587999999999998\n",
      "5.005999999999999\n"
     ]
    }
   ],
   "source": [
    "print(versicolor_sepal_length.mean())\n",
    "print(virginica_sepal_length.mean())\n",
    "print(setosa_sepal_length.mean())"
   ]
  },
  {
   "cell_type": "code",
   "execution_count": 220,
   "id": "55a2e2ae",
   "metadata": {},
   "outputs": [
    {
     "data": {
      "text/plain": [
       "Ttest_indResult(statistic=-5.629165259719801, pvalue=1.8661443873771226e-07)"
      ]
     },
     "execution_count": 220,
     "metadata": {},
     "output_type": "execute_result"
    }
   ],
   "source": [
    "stats.ttest_ind(versicolor_sepal_length, virginica_sepal_length, equal_var=False)"
   ]
  },
  {
   "cell_type": "code",
   "execution_count": 221,
   "id": "87b6ace6",
   "metadata": {},
   "outputs": [
    {
     "data": {
      "text/plain": [
       "Ttest_indResult(statistic=10.52098626754911, pvalue=3.746742613983842e-17)"
      ]
     },
     "execution_count": 221,
     "metadata": {},
     "output_type": "execute_result"
    }
   ],
   "source": [
    "stats.ttest_ind(versicolor_sepal_length, setosa_sepal_length, equal_var= False)"
   ]
  },
  {
   "cell_type": "markdown",
   "id": "d21da24c",
   "metadata": {},
   "source": [
    "In comparing each group combination, we can see there is a significant difference in the Sepal Length of each species"
   ]
  },
  {
   "cell_type": "code",
   "execution_count": 224,
   "id": "0cb32593",
   "metadata": {},
   "outputs": [],
   "source": [
    "import seaborn as sns\n",
    "mpg = sns.load_dataset('mpg')\n"
   ]
  },
  {
   "cell_type": "code",
   "execution_count": 225,
   "id": "1c3a95c7",
   "metadata": {},
   "outputs": [
    {
     "data": {
      "text/html": [
       "<div>\n",
       "<style scoped>\n",
       "    .dataframe tbody tr th:only-of-type {\n",
       "        vertical-align: middle;\n",
       "    }\n",
       "\n",
       "    .dataframe tbody tr th {\n",
       "        vertical-align: top;\n",
       "    }\n",
       "\n",
       "    .dataframe thead th {\n",
       "        text-align: right;\n",
       "    }\n",
       "</style>\n",
       "<table border=\"1\" class=\"dataframe\">\n",
       "  <thead>\n",
       "    <tr style=\"text-align: right;\">\n",
       "      <th></th>\n",
       "      <th>mpg</th>\n",
       "      <th>cylinders</th>\n",
       "      <th>displacement</th>\n",
       "      <th>horsepower</th>\n",
       "      <th>weight</th>\n",
       "      <th>acceleration</th>\n",
       "      <th>model_year</th>\n",
       "      <th>origin</th>\n",
       "      <th>name</th>\n",
       "    </tr>\n",
       "  </thead>\n",
       "  <tbody>\n",
       "    <tr>\n",
       "      <th>0</th>\n",
       "      <td>18.0</td>\n",
       "      <td>8</td>\n",
       "      <td>307.0</td>\n",
       "      <td>130.0</td>\n",
       "      <td>3504</td>\n",
       "      <td>12.0</td>\n",
       "      <td>70</td>\n",
       "      <td>usa</td>\n",
       "      <td>chevrolet chevelle malibu</td>\n",
       "    </tr>\n",
       "    <tr>\n",
       "      <th>1</th>\n",
       "      <td>15.0</td>\n",
       "      <td>8</td>\n",
       "      <td>350.0</td>\n",
       "      <td>165.0</td>\n",
       "      <td>3693</td>\n",
       "      <td>11.5</td>\n",
       "      <td>70</td>\n",
       "      <td>usa</td>\n",
       "      <td>buick skylark 320</td>\n",
       "    </tr>\n",
       "    <tr>\n",
       "      <th>2</th>\n",
       "      <td>18.0</td>\n",
       "      <td>8</td>\n",
       "      <td>318.0</td>\n",
       "      <td>150.0</td>\n",
       "      <td>3436</td>\n",
       "      <td>11.0</td>\n",
       "      <td>70</td>\n",
       "      <td>usa</td>\n",
       "      <td>plymouth satellite</td>\n",
       "    </tr>\n",
       "    <tr>\n",
       "      <th>3</th>\n",
       "      <td>16.0</td>\n",
       "      <td>8</td>\n",
       "      <td>304.0</td>\n",
       "      <td>150.0</td>\n",
       "      <td>3433</td>\n",
       "      <td>12.0</td>\n",
       "      <td>70</td>\n",
       "      <td>usa</td>\n",
       "      <td>amc rebel sst</td>\n",
       "    </tr>\n",
       "    <tr>\n",
       "      <th>4</th>\n",
       "      <td>17.0</td>\n",
       "      <td>8</td>\n",
       "      <td>302.0</td>\n",
       "      <td>140.0</td>\n",
       "      <td>3449</td>\n",
       "      <td>10.5</td>\n",
       "      <td>70</td>\n",
       "      <td>usa</td>\n",
       "      <td>ford torino</td>\n",
       "    </tr>\n",
       "  </tbody>\n",
       "</table>\n",
       "</div>"
      ],
      "text/plain": [
       "    mpg  cylinders  displacement  horsepower  weight  acceleration  \\\n",
       "0  18.0          8         307.0       130.0    3504          12.0   \n",
       "1  15.0          8         350.0       165.0    3693          11.5   \n",
       "2  18.0          8         318.0       150.0    3436          11.0   \n",
       "3  16.0          8         304.0       150.0    3433          12.0   \n",
       "4  17.0          8         302.0       140.0    3449          10.5   \n",
       "\n",
       "   model_year origin                       name  \n",
       "0          70    usa  chevrolet chevelle malibu  \n",
       "1          70    usa          buick skylark 320  \n",
       "2          70    usa         plymouth satellite  \n",
       "3          70    usa              amc rebel sst  \n",
       "4          70    usa                ford torino  "
      ]
     },
     "execution_count": 225,
     "metadata": {},
     "output_type": "execute_result"
    }
   ],
   "source": [
    "mpg.head()"
   ]
  },
  {
   "cell_type": "code",
   "execution_count": 227,
   "id": "1d6f5710",
   "metadata": {},
   "outputs": [
    {
     "data": {
      "text/plain": [
       "mpg             0\n",
       "cylinders       0\n",
       "displacement    0\n",
       "horsepower      0\n",
       "weight          0\n",
       "acceleration    0\n",
       "model_year      0\n",
       "origin          0\n",
       "name            0\n",
       "dtype: int64"
      ]
     },
     "execution_count": 227,
     "metadata": {},
     "output_type": "execute_result"
    }
   ],
   "source": [
    "mpg = mpg[~mpg['horsepower'].isna()]\n",
    "mpg.isna().sum()"
   ]
  },
  {
   "cell_type": "code",
   "execution_count": 228,
   "id": "59d98a41",
   "metadata": {},
   "outputs": [
    {
     "data": {
      "text/plain": [
       "array(['usa', 'japan', 'europe'], dtype=object)"
      ]
     },
     "execution_count": 228,
     "metadata": {},
     "output_type": "execute_result"
    }
   ],
   "source": [
    "mpg['origin'].unique()"
   ]
  },
  {
   "cell_type": "markdown",
   "id": "c9cb1163",
   "metadata": {},
   "source": [
    "Is the horsepower of vehicles different across the disctinct origins of the vehicles?\n",
    "\n",
    "$H_{0}$: mean_horsepower_USA = mean_horsepower_japan == mean_horsepower_europe \n",
    "\n",
    "$H_{a}$: mean horsepower form at least 2 countries are significantly different \n",
    "\n",
    "- Assumptions\n",
    "1. At least 30 observations: met(see unique above)\n",
    "2. Equal population variance across all 3 groups\n",
    "3. Groups are independent of each other"
   ]
  },
  {
   "cell_type": "code",
   "execution_count": 231,
   "id": "ffb476f8",
   "metadata": {},
   "outputs": [
    {
     "data": {
      "text/plain": [
       "<AxesSubplot:>"
      ]
     },
     "execution_count": 231,
     "metadata": {},
     "output_type": "execute_result"
    },
    {
     "data": {
      "image/png": "[encoded data removed]",
      "text/plain": [
       "<Figure size 640x480 with 1 Axes>"
      ]
     },
     "metadata": {},
     "output_type": "display_data"
    }
   ],
   "source": [
    "mpg[mpg['origin']=='usa'].horsepower.hist()\n",
    "mpg[mpg['origin']=='japan'].horsepower.hist()\n",
    "mpg[mpg['origin']=='europe'].horsepower.hist()"
   ]
  },
  {
   "cell_type": "code",
   "execution_count": 232,
   "id": "08646dfe",
   "metadata": {},
   "outputs": [],
   "source": [
    "usa = mpg[mpg['origin']=='usa'].horsepower\n",
    "japan = mpg[mpg['origin']=='japan'].horsepower\n",
    "europe = mpg[mpg['origin']=='europe'].horsepower"
   ]
  },
  {
   "cell_type": "code",
   "execution_count": 233,
   "id": "4885e9af",
   "metadata": {},
   "outputs": [
    {
     "data": {
      "text/plain": [
       "LeveneResult(statistic=26.526632103545772, pvalue=1.5863075873913356e-11)"
      ]
     },
     "execution_count": 233,
     "metadata": {},
     "output_type": "execute_result"
    }
   ],
   "source": [
    "# validate variance assumption\n",
    "\n",
    "stats.levene(usa, japan, europe)"
   ]
  },
  {
   "cell_type": "markdown",
   "id": "d2ed9b54",
   "metadata": {},
   "source": [
    "With a low p-value, we can assume the variances of the countries horsepower is significantly different across at least two of the countries\n",
    "With this information, we should not use the ANOVA test but should instead use the Krukal-Wallis Test"
   ]
  },
  {
   "cell_type": "code",
   "execution_count": 236,
   "id": "99d8926c",
   "metadata": {},
   "outputs": [
    {
     "data": {
      "text/plain": [
       "1.1759521262123952e-23"
      ]
     },
     "execution_count": 236,
     "metadata": {},
     "output_type": "execute_result"
    }
   ],
   "source": [
    "t, p = stats.kruskal(usa, japan, europe)\n",
    "p"
   ]
  },
  {
   "cell_type": "markdown",
   "id": "8ce531b6",
   "metadata": {},
   "source": [
    "With a p-value < .05 (alpha), we can say there exists a significant difference between the horsepower of vehicles in at least 2 of the countries. But which 2?\n",
    "\n",
    "Compare 2 groups, usa and japan\n",
    "\n",
    "H_0: hp_usa == hp_japan\n",
    "\n",
    "h_a: hp_usa != hp_japan"
   ]
  },
  {
   "cell_type": "code",
   "execution_count": 244,
   "id": "3b41f552",
   "metadata": {},
   "outputs": [
    {
     "name": "stdout",
     "output_type": "stream",
     "text": [
      "There is a significant difference between the horsepower of vehicles in the USA vs Japan. (p-value: 1.5146320352820458e-27)\n"
     ]
    }
   ],
   "source": [
    "# compare 2 groups to see if there is significance\n",
    "\n",
    "t, p = stats.ttest_ind(usa, japan, equal_var=False)\n",
    "\n",
    "if p < .05:\n",
    "    print(f'There is a significant difference between the horsepower of vehicles in the USA vs Japan. (p-value: {p})')\n",
    "else:\n",
    "    print('We fail to find a signifcant difference')"
   ]
  },
  {
   "cell_type": "code",
   "execution_count": 245,
   "id": "14718c35",
   "metadata": {},
   "outputs": [
    {
     "name": "stdout",
     "output_type": "stream",
     "text": [
      "There is a significant difference between the horsepower of vehicles in the USA vs Europe. (p-value: 2.1065705369888018e-22)\n"
     ]
    }
   ],
   "source": [
    "# compare 2 groups to see if there is significance\n",
    "\n",
    "t, p = stats.ttest_ind(usa, europe, equal_var=False)\n",
    "\n",
    "if p < .05:\n",
    "    print(f'There is a significant difference between the horsepower of vehicles in the USA vs Europe. (p-value: {p})')\n",
    "else:\n",
    "    print('We fail to find a signifcant difference')"
   ]
  },
  {
   "cell_type": "code",
   "execution_count": 247,
   "id": "eb06836f",
   "metadata": {},
   "outputs": [
    {
     "name": "stdout",
     "output_type": "stream",
     "text": [
      "We fail to find a signifcant difference. (p-value: 0.8193616065509621)\n"
     ]
    }
   ],
   "source": [
    "# compare 2 groups to see if there is significance\n",
    "\n",
    "t, p = stats.ttest_ind(japan, europe, equal_var=False)\n",
    "\n",
    "if p < .05:\n",
    "    print(f'There is a significant difference between the horsepower of vehicles in the Europe vs Japan. (p-value: {p})')\n",
    "else:\n",
    "    print(f'We fail to find a signifcant difference. (p-value: {p})')"
   ]
  },
  {
   "cell_type": "code",
   "execution_count": null,
   "id": "1dfb7b4b",
   "metadata": {},
   "outputs": [],
   "source": []
  },
  {
   "cell_type": "code",
   "execution_count": null,
   "id": "7d32a472",
   "metadata": {},
   "outputs": [],
   "source": []
  },
  {
   "cell_type": "code",
   "execution_count": null,
   "id": "e66ee11b",
   "metadata": {},
   "outputs": [],
   "source": []
  },
  {
   "cell_type": "markdown",
   "id": "d075ba99",
   "metadata": {},
   "source": [
    "- Answer with the type of test you would use (assume normal distribution):\n",
    "\n",
    "1. Is there a difference in grades of students on the second floor compared to grades of all students?\n",
    " - 1 sample t-test"
   ]
  },
  {
   "cell_type": "markdown",
   "id": "34472872",
   "metadata": {},
   "source": [
    "2. Are adults who drink milk taller than adults who dont drink milk?\n",
    " - independent t-test (two sample t-test)\n",
    " - 1 tail"
   ]
  },
  {
   "cell_type": "markdown",
   "id": "964d7d54",
   "metadata": {},
   "source": [
    "3. Is the price of gas higher in texas or in new mexico?\n",
    " - indepndent t-test (two sample t-test)\n",
    " - 1 tail"
   ]
  },
  {
   "cell_type": "markdown",
   "id": "8458d65e",
   "metadata": {},
   "source": [
    "4. Are there differences in stress levels between students who take data science vs students who take web development vs students who take cloud academy?\n",
    " - ANOVA"
   ]
  },
  {
   "cell_type": "markdown",
   "id": "857e42d1",
   "metadata": {},
   "source": [
    "#### 2. Ace Realty wants to determine whether the average time it takes to sell homes is different for its two offices. A sample of 40 sales from office #1 revealed a mean of 90 days and a standard deviation of 15 days. A sample of 50 sales from office #2 revealed a mean of 100 days and a standard deviation of 20 days. Use a .05 level of significance."
   ]
  },
  {
   "cell_type": "code",
   "execution_count": 7,
   "id": "e18e74fb",
   "metadata": {},
   "outputs": [],
   "source": [
    "np.random.seed(3)"
   ]
  },
  {
   "cell_type": "code",
   "execution_count": 15,
   "id": "f64b1e0d",
   "metadata": {},
   "outputs": [
    {
     "data": {
      "text/plain": [
       "(array([2., 4., 7., 5., 2., 6., 4., 5., 2., 3.]),\n",
       " array([ 44.3641537 ,  52.96703961,  61.56992553,  70.17281144,\n",
       "         78.77569736,  87.37858327,  95.98146919, 104.5843551 ,\n",
       "        113.18724101, 121.79012693, 130.39301284]),\n",
       " <BarContainer object of 10 artists>)"
      ]
     },
     "execution_count": 15,
     "metadata": {},
     "output_type": "execute_result"
    },
    {
     "data": {
      "image/png": "[encoded data removed]",
      "text/plain": [
       "<Figure size 640x480 with 1 Axes>"
      ]
     },
     "metadata": {},
     "output_type": "display_data"
    }
   ],
   "source": [
    "# Null Hypothesis: There is no significance betwen office 1 and office 2.\n",
    "# Alternate hypothesis: Office 1 takes less time to sell homes than office 2.\n",
    "# Alternate hypothesis: Office 2 takes less time to sell homes than office 1.\n",
    "\n",
    "alpha = .05\n",
    "off_1_mean = 90\n",
    "off_1_sd = 15\n",
    "\n",
    "off_2_mean = 100\n",
    "off_2_sd = 20\n",
    "\n",
    "off_1 = stats.norm(off_1_mean, off_2_sd).rvs(40)\n",
    "plt.hist(off_1)\n"
   ]
  },
  {
   "cell_type": "code",
   "execution_count": 16,
   "id": "02841020",
   "metadata": {},
   "outputs": [
    {
     "data": {
      "text/plain": [
       "(array([ 1.,  2.,  2.,  5.,  5.,  9., 13.,  5.,  4.,  4.]),\n",
       " array([ 40.3205959 ,  50.22148557,  60.12237523,  70.0232649 ,\n",
       "         79.92415456,  89.82504423,  99.7259339 , 109.62682356,\n",
       "        119.52771323, 129.42860289, 139.32949256]),\n",
       " <BarContainer object of 10 artists>)"
      ]
     },
     "execution_count": 16,
     "metadata": {},
     "output_type": "execute_result"
    },
    {
     "data": {
      "image/png": "[encoded data removed]",
      "text/plain": [
       "<Figure size 640x480 with 1 Axes>"
      ]
     },
     "metadata": {},
     "output_type": "display_data"
    }
   ],
   "source": [
    "off_2 = stats.norm(off_2_mean, off_2_sd).rvs(50)\n",
    "plt.hist(off_2)"
   ]
  },
  {
   "cell_type": "code",
   "execution_count": 17,
   "id": "08426de4",
   "metadata": {},
   "outputs": [
    {
     "name": "stdout",
     "output_type": "stream",
     "text": [
      "499.30818607061826\n",
      "457.8608621787491\n"
     ]
    }
   ],
   "source": [
    "print(off_1.var())\n",
    "print(off_2.var())"
   ]
  },
  {
   "cell_type": "code",
   "execution_count": 18,
   "id": "710c57a1",
   "metadata": {},
   "outputs": [
    {
     "data": {
      "text/plain": [
       "(-2.5417784840872564, 0.006456297713214296)"
      ]
     },
     "execution_count": 18,
     "metadata": {},
     "output_type": "execute_result"
    }
   ],
   "source": [
    "t, p = stats.ttest_ind(off_1, off_2, equal_var=False)\n",
    "t, p/2"
   ]
  },
  {
   "cell_type": "code",
   "execution_count": 24,
   "id": "4b9beae0",
   "metadata": {},
   "outputs": [],
   "source": [
    "# Null Hypothesis: There is no significance betwen office 1 and office 2.\n",
    "# Alternate hypothesis: There is a significant difference between the offices."
   ]
  },
  {
   "cell_type": "code",
   "execution_count": 25,
   "id": "46796cc3",
   "metadata": {},
   "outputs": [
    {
     "name": "stdout",
     "output_type": "stream",
     "text": [
      "Reject Null\n"
     ]
    }
   ],
   "source": [
    "if p <= alpha:\n",
    "    print(\"Reject Null\")\n",
    "else:\n",
    "    print(\"Fail to reject null\")\n",
    "\n"
   ]
  },
  {
   "cell_type": "markdown",
   "id": "c39217f4",
   "metadata": {},
   "source": [
    "#### 1. Is there a difference in fuel-efficiency in cars from 2008 vs 1999?\n",
    " - independent t-test"
   ]
  },
  {
   "cell_type": "code",
   "execution_count": null,
   "id": "9d3ae824",
   "metadata": {},
   "outputs": [],
   "source": [
    "# Null hypothesis: Mean of fuel-efficiency of 2008 cars <= Mean of fuel-efficiency of 1999 cars.\n",
    "# Alternate Hypothesis: Mean of fuel-efficiency of 2008 cars > Mean of fuel-efficiency of 1999 cars."
   ]
  },
  {
   "cell_type": "code",
   "execution_count": 26,
   "id": "b3139e50",
   "metadata": {},
   "outputs": [
    {
     "data": {
      "text/html": [
       "<div>\n",
       "<style scoped>\n",
       "    .dataframe tbody tr th:only-of-type {\n",
       "        vertical-align: middle;\n",
       "    }\n",
       "\n",
       "    .dataframe tbody tr th {\n",
       "        vertical-align: top;\n",
       "    }\n",
       "\n",
       "    .dataframe thead th {\n",
       "        text-align: right;\n",
       "    }\n",
       "</style>\n",
       "<table border=\"1\" class=\"dataframe\">\n",
       "  <thead>\n",
       "    <tr style=\"text-align: right;\">\n",
       "      <th></th>\n",
       "      <th>manufacturer</th>\n",
       "      <th>model</th>\n",
       "      <th>displ</th>\n",
       "      <th>year</th>\n",
       "      <th>cyl</th>\n",
       "      <th>trans</th>\n",
       "      <th>drv</th>\n",
       "      <th>cty</th>\n",
       "      <th>hwy</th>\n",
       "      <th>fl</th>\n",
       "      <th>class</th>\n",
       "    </tr>\n",
       "  </thead>\n",
       "  <tbody>\n",
       "    <tr>\n",
       "      <th>1</th>\n",
       "      <td>audi</td>\n",
       "      <td>a4</td>\n",
       "      <td>1.8</td>\n",
       "      <td>1999</td>\n",
       "      <td>4</td>\n",
       "      <td>auto(l5)</td>\n",
       "      <td>f</td>\n",
       "      <td>18</td>\n",
       "      <td>29</td>\n",
       "      <td>p</td>\n",
       "      <td>compact</td>\n",
       "    </tr>\n",
       "    <tr>\n",
       "      <th>2</th>\n",
       "      <td>audi</td>\n",
       "      <td>a4</td>\n",
       "      <td>1.8</td>\n",
       "      <td>1999</td>\n",
       "      <td>4</td>\n",
       "      <td>manual(m5)</td>\n",
       "      <td>f</td>\n",
       "      <td>21</td>\n",
       "      <td>29</td>\n",
       "      <td>p</td>\n",
       "      <td>compact</td>\n",
       "    </tr>\n",
       "    <tr>\n",
       "      <th>3</th>\n",
       "      <td>audi</td>\n",
       "      <td>a4</td>\n",
       "      <td>2.0</td>\n",
       "      <td>2008</td>\n",
       "      <td>4</td>\n",
       "      <td>manual(m6)</td>\n",
       "      <td>f</td>\n",
       "      <td>20</td>\n",
       "      <td>31</td>\n",
       "      <td>p</td>\n",
       "      <td>compact</td>\n",
       "    </tr>\n",
       "    <tr>\n",
       "      <th>4</th>\n",
       "      <td>audi</td>\n",
       "      <td>a4</td>\n",
       "      <td>2.0</td>\n",
       "      <td>2008</td>\n",
       "      <td>4</td>\n",
       "      <td>auto(av)</td>\n",
       "      <td>f</td>\n",
       "      <td>21</td>\n",
       "      <td>30</td>\n",
       "      <td>p</td>\n",
       "      <td>compact</td>\n",
       "    </tr>\n",
       "    <tr>\n",
       "      <th>5</th>\n",
       "      <td>audi</td>\n",
       "      <td>a4</td>\n",
       "      <td>2.8</td>\n",
       "      <td>1999</td>\n",
       "      <td>6</td>\n",
       "      <td>auto(l5)</td>\n",
       "      <td>f</td>\n",
       "      <td>16</td>\n",
       "      <td>26</td>\n",
       "      <td>p</td>\n",
       "      <td>compact</td>\n",
       "    </tr>\n",
       "    <tr>\n",
       "      <th>...</th>\n",
       "      <td>...</td>\n",
       "      <td>...</td>\n",
       "      <td>...</td>\n",
       "      <td>...</td>\n",
       "      <td>...</td>\n",
       "      <td>...</td>\n",
       "      <td>...</td>\n",
       "      <td>...</td>\n",
       "      <td>...</td>\n",
       "      <td>...</td>\n",
       "      <td>...</td>\n",
       "    </tr>\n",
       "    <tr>\n",
       "      <th>230</th>\n",
       "      <td>volkswagen</td>\n",
       "      <td>passat</td>\n",
       "      <td>2.0</td>\n",
       "      <td>2008</td>\n",
       "      <td>4</td>\n",
       "      <td>auto(s6)</td>\n",
       "      <td>f</td>\n",
       "      <td>19</td>\n",
       "      <td>28</td>\n",
       "      <td>p</td>\n",
       "      <td>midsize</td>\n",
       "    </tr>\n",
       "    <tr>\n",
       "      <th>231</th>\n",
       "      <td>volkswagen</td>\n",
       "      <td>passat</td>\n",
       "      <td>2.0</td>\n",
       "      <td>2008</td>\n",
       "      <td>4</td>\n",
       "      <td>manual(m6)</td>\n",
       "      <td>f</td>\n",
       "      <td>21</td>\n",
       "      <td>29</td>\n",
       "      <td>p</td>\n",
       "      <td>midsize</td>\n",
       "    </tr>\n",
       "    <tr>\n",
       "      <th>232</th>\n",
       "      <td>volkswagen</td>\n",
       "      <td>passat</td>\n",
       "      <td>2.8</td>\n",
       "      <td>1999</td>\n",
       "      <td>6</td>\n",
       "      <td>auto(l5)</td>\n",
       "      <td>f</td>\n",
       "      <td>16</td>\n",
       "      <td>26</td>\n",
       "      <td>p</td>\n",
       "      <td>midsize</td>\n",
       "    </tr>\n",
       "    <tr>\n",
       "      <th>233</th>\n",
       "      <td>volkswagen</td>\n",
       "      <td>passat</td>\n",
       "      <td>2.8</td>\n",
       "      <td>1999</td>\n",
       "      <td>6</td>\n",
       "      <td>manual(m5)</td>\n",
       "      <td>f</td>\n",
       "      <td>18</td>\n",
       "      <td>26</td>\n",
       "      <td>p</td>\n",
       "      <td>midsize</td>\n",
       "    </tr>\n",
       "    <tr>\n",
       "      <th>234</th>\n",
       "      <td>volkswagen</td>\n",
       "      <td>passat</td>\n",
       "      <td>3.6</td>\n",
       "      <td>2008</td>\n",
       "      <td>6</td>\n",
       "      <td>auto(s6)</td>\n",
       "      <td>f</td>\n",
       "      <td>17</td>\n",
       "      <td>26</td>\n",
       "      <td>p</td>\n",
       "      <td>midsize</td>\n",
       "    </tr>\n",
       "  </tbody>\n",
       "</table>\n",
       "<p>234 rows × 11 columns</p>\n",
       "</div>"
      ],
      "text/plain": [
       "    manufacturer   model  displ  year  cyl       trans drv  cty  hwy fl  \\\n",
       "1           audi      a4    1.8  1999    4    auto(l5)   f   18   29  p   \n",
       "2           audi      a4    1.8  1999    4  manual(m5)   f   21   29  p   \n",
       "3           audi      a4    2.0  2008    4  manual(m6)   f   20   31  p   \n",
       "4           audi      a4    2.0  2008    4    auto(av)   f   21   30  p   \n",
       "5           audi      a4    2.8  1999    6    auto(l5)   f   16   26  p   \n",
       "..           ...     ...    ...   ...  ...         ...  ..  ...  ... ..   \n",
       "230   volkswagen  passat    2.0  2008    4    auto(s6)   f   19   28  p   \n",
       "231   volkswagen  passat    2.0  2008    4  manual(m6)   f   21   29  p   \n",
       "232   volkswagen  passat    2.8  1999    6    auto(l5)   f   16   26  p   \n",
       "233   volkswagen  passat    2.8  1999    6  manual(m5)   f   18   26  p   \n",
       "234   volkswagen  passat    3.6  2008    6    auto(s6)   f   17   26  p   \n",
       "\n",
       "       class  \n",
       "1    compact  \n",
       "2    compact  \n",
       "3    compact  \n",
       "4    compact  \n",
       "5    compact  \n",
       "..       ...  \n",
       "230  midsize  \n",
       "231  midsize  \n",
       "232  midsize  \n",
       "233  midsize  \n",
       "234  midsize  \n",
       "\n",
       "[234 rows x 11 columns]"
      ]
     },
     "execution_count": 26,
     "metadata": {},
     "output_type": "execute_result"
    }
   ],
   "source": [
    "from pydataset import data\n",
    "\n",
    "mpg = data('mpg')\n",
    "mpg = pd.DataFrame(mpg)\n",
    "mpg"
   ]
  },
  {
   "cell_type": "code",
   "execution_count": 27,
   "id": "17bc63ba",
   "metadata": {},
   "outputs": [
    {
     "data": {
      "text/html": [
       "<div>\n",
       "<style scoped>\n",
       "    .dataframe tbody tr th:only-of-type {\n",
       "        vertical-align: middle;\n",
       "    }\n",
       "\n",
       "    .dataframe tbody tr th {\n",
       "        vertical-align: top;\n",
       "    }\n",
       "\n",
       "    .dataframe thead th {\n",
       "        text-align: right;\n",
       "    }\n",
       "</style>\n",
       "<table border=\"1\" class=\"dataframe\">\n",
       "  <thead>\n",
       "    <tr style=\"text-align: right;\">\n",
       "      <th></th>\n",
       "      <th>manufacturer</th>\n",
       "      <th>model</th>\n",
       "      <th>displ</th>\n",
       "      <th>year</th>\n",
       "      <th>cyl</th>\n",
       "      <th>trans</th>\n",
       "      <th>drv</th>\n",
       "      <th>cty</th>\n",
       "      <th>hwy</th>\n",
       "      <th>fl</th>\n",
       "      <th>class</th>\n",
       "      <th>avg_mileage</th>\n",
       "    </tr>\n",
       "  </thead>\n",
       "  <tbody>\n",
       "    <tr>\n",
       "      <th>1</th>\n",
       "      <td>audi</td>\n",
       "      <td>a4</td>\n",
       "      <td>1.8</td>\n",
       "      <td>1999</td>\n",
       "      <td>4</td>\n",
       "      <td>auto(l5)</td>\n",
       "      <td>f</td>\n",
       "      <td>18</td>\n",
       "      <td>29</td>\n",
       "      <td>p</td>\n",
       "      <td>compact</td>\n",
       "      <td>23.5</td>\n",
       "    </tr>\n",
       "    <tr>\n",
       "      <th>2</th>\n",
       "      <td>audi</td>\n",
       "      <td>a4</td>\n",
       "      <td>1.8</td>\n",
       "      <td>1999</td>\n",
       "      <td>4</td>\n",
       "      <td>manual(m5)</td>\n",
       "      <td>f</td>\n",
       "      <td>21</td>\n",
       "      <td>29</td>\n",
       "      <td>p</td>\n",
       "      <td>compact</td>\n",
       "      <td>25.0</td>\n",
       "    </tr>\n",
       "    <tr>\n",
       "      <th>3</th>\n",
       "      <td>audi</td>\n",
       "      <td>a4</td>\n",
       "      <td>2.0</td>\n",
       "      <td>2008</td>\n",
       "      <td>4</td>\n",
       "      <td>manual(m6)</td>\n",
       "      <td>f</td>\n",
       "      <td>20</td>\n",
       "      <td>31</td>\n",
       "      <td>p</td>\n",
       "      <td>compact</td>\n",
       "      <td>25.5</td>\n",
       "    </tr>\n",
       "    <tr>\n",
       "      <th>4</th>\n",
       "      <td>audi</td>\n",
       "      <td>a4</td>\n",
       "      <td>2.0</td>\n",
       "      <td>2008</td>\n",
       "      <td>4</td>\n",
       "      <td>auto(av)</td>\n",
       "      <td>f</td>\n",
       "      <td>21</td>\n",
       "      <td>30</td>\n",
       "      <td>p</td>\n",
       "      <td>compact</td>\n",
       "      <td>25.5</td>\n",
       "    </tr>\n",
       "    <tr>\n",
       "      <th>5</th>\n",
       "      <td>audi</td>\n",
       "      <td>a4</td>\n",
       "      <td>2.8</td>\n",
       "      <td>1999</td>\n",
       "      <td>6</td>\n",
       "      <td>auto(l5)</td>\n",
       "      <td>f</td>\n",
       "      <td>16</td>\n",
       "      <td>26</td>\n",
       "      <td>p</td>\n",
       "      <td>compact</td>\n",
       "      <td>21.0</td>\n",
       "    </tr>\n",
       "    <tr>\n",
       "      <th>...</th>\n",
       "      <td>...</td>\n",
       "      <td>...</td>\n",
       "      <td>...</td>\n",
       "      <td>...</td>\n",
       "      <td>...</td>\n",
       "      <td>...</td>\n",
       "      <td>...</td>\n",
       "      <td>...</td>\n",
       "      <td>...</td>\n",
       "      <td>...</td>\n",
       "      <td>...</td>\n",
       "      <td>...</td>\n",
       "    </tr>\n",
       "    <tr>\n",
       "      <th>230</th>\n",
       "      <td>volkswagen</td>\n",
       "      <td>passat</td>\n",
       "      <td>2.0</td>\n",
       "      <td>2008</td>\n",
       "      <td>4</td>\n",
       "      <td>auto(s6)</td>\n",
       "      <td>f</td>\n",
       "      <td>19</td>\n",
       "      <td>28</td>\n",
       "      <td>p</td>\n",
       "      <td>midsize</td>\n",
       "      <td>23.5</td>\n",
       "    </tr>\n",
       "    <tr>\n",
       "      <th>231</th>\n",
       "      <td>volkswagen</td>\n",
       "      <td>passat</td>\n",
       "      <td>2.0</td>\n",
       "      <td>2008</td>\n",
       "      <td>4</td>\n",
       "      <td>manual(m6)</td>\n",
       "      <td>f</td>\n",
       "      <td>21</td>\n",
       "      <td>29</td>\n",
       "      <td>p</td>\n",
       "      <td>midsize</td>\n",
       "      <td>25.0</td>\n",
       "    </tr>\n",
       "    <tr>\n",
       "      <th>232</th>\n",
       "      <td>volkswagen</td>\n",
       "      <td>passat</td>\n",
       "      <td>2.8</td>\n",
       "      <td>1999</td>\n",
       "      <td>6</td>\n",
       "      <td>auto(l5)</td>\n",
       "      <td>f</td>\n",
       "      <td>16</td>\n",
       "      <td>26</td>\n",
       "      <td>p</td>\n",
       "      <td>midsize</td>\n",
       "      <td>21.0</td>\n",
       "    </tr>\n",
       "    <tr>\n",
       "      <th>233</th>\n",
       "      <td>volkswagen</td>\n",
       "      <td>passat</td>\n",
       "      <td>2.8</td>\n",
       "      <td>1999</td>\n",
       "      <td>6</td>\n",
       "      <td>manual(m5)</td>\n",
       "      <td>f</td>\n",
       "      <td>18</td>\n",
       "      <td>26</td>\n",
       "      <td>p</td>\n",
       "      <td>midsize</td>\n",
       "      <td>22.0</td>\n",
       "    </tr>\n",
       "    <tr>\n",
       "      <th>234</th>\n",
       "      <td>volkswagen</td>\n",
       "      <td>passat</td>\n",
       "      <td>3.6</td>\n",
       "      <td>2008</td>\n",
       "      <td>6</td>\n",
       "      <td>auto(s6)</td>\n",
       "      <td>f</td>\n",
       "      <td>17</td>\n",
       "      <td>26</td>\n",
       "      <td>p</td>\n",
       "      <td>midsize</td>\n",
       "      <td>21.5</td>\n",
       "    </tr>\n",
       "  </tbody>\n",
       "</table>\n",
       "<p>234 rows × 12 columns</p>\n",
       "</div>"
      ],
      "text/plain": [
       "    manufacturer   model  displ  year  cyl       trans drv  cty  hwy fl  \\\n",
       "1           audi      a4    1.8  1999    4    auto(l5)   f   18   29  p   \n",
       "2           audi      a4    1.8  1999    4  manual(m5)   f   21   29  p   \n",
       "3           audi      a4    2.0  2008    4  manual(m6)   f   20   31  p   \n",
       "4           audi      a4    2.0  2008    4    auto(av)   f   21   30  p   \n",
       "5           audi      a4    2.8  1999    6    auto(l5)   f   16   26  p   \n",
       "..           ...     ...    ...   ...  ...         ...  ..  ...  ... ..   \n",
       "230   volkswagen  passat    2.0  2008    4    auto(s6)   f   19   28  p   \n",
       "231   volkswagen  passat    2.0  2008    4  manual(m6)   f   21   29  p   \n",
       "232   volkswagen  passat    2.8  1999    6    auto(l5)   f   16   26  p   \n",
       "233   volkswagen  passat    2.8  1999    6  manual(m5)   f   18   26  p   \n",
       "234   volkswagen  passat    3.6  2008    6    auto(s6)   f   17   26  p   \n",
       "\n",
       "       class  avg_mileage  \n",
       "1    compact         23.5  \n",
       "2    compact         25.0  \n",
       "3    compact         25.5  \n",
       "4    compact         25.5  \n",
       "5    compact         21.0  \n",
       "..       ...          ...  \n",
       "230  midsize         23.5  \n",
       "231  midsize         25.0  \n",
       "232  midsize         21.0  \n",
       "233  midsize         22.0  \n",
       "234  midsize         21.5  \n",
       "\n",
       "[234 rows x 12 columns]"
      ]
     },
     "execution_count": 27,
     "metadata": {},
     "output_type": "execute_result"
    }
   ],
   "source": [
    "mpg['avg_mileage'] = (mpg['cty'] + mpg['hwy']) / 2\n",
    "mpg"
   ]
  },
  {
   "cell_type": "code",
   "execution_count": 28,
   "id": "7e3dfb30",
   "metadata": {},
   "outputs": [
    {
     "data": {
      "text/plain": [
       "count    117.000000\n",
       "mean      20.076923\n",
       "std        4.908918\n",
       "min       10.500000\n",
       "25%       16.000000\n",
       "50%       20.500000\n",
       "75%       23.500000\n",
       "max       32.500000\n",
       "Name: avg_mileage, dtype: float64"
      ]
     },
     "execution_count": 28,
     "metadata": {},
     "output_type": "execute_result"
    }
   ],
   "source": [
    "cars_08_mileage = mpg[mpg['year'] == 2008]['avg_mileage']\n",
    "cars_99_mileage = mpg[mpg['year'] == 1999]['avg_mileage']\n",
    "\n",
    "cars_08_mileage.describe()"
   ]
  },
  {
   "cell_type": "code",
   "execution_count": 29,
   "id": "91c8a8f7",
   "metadata": {},
   "outputs": [],
   "source": [
    "mean_08 = cars_08_mileage.mean()\n",
    "sd_08 = cars_08_mileage.std()"
   ]
  },
  {
   "cell_type": "code",
   "execution_count": 30,
   "id": "77273f4d",
   "metadata": {},
   "outputs": [
    {
     "data": {
      "text/plain": [
       "count    117.000000\n",
       "mean      20.222222\n",
       "std        5.207937\n",
       "min       13.000000\n",
       "25%       15.500000\n",
       "50%       21.000000\n",
       "75%       22.500000\n",
       "max       39.500000\n",
       "Name: avg_mileage, dtype: float64"
      ]
     },
     "execution_count": 30,
     "metadata": {},
     "output_type": "execute_result"
    }
   ],
   "source": [
    "cars_99_mileage.describe()"
   ]
  },
  {
   "cell_type": "code",
   "execution_count": 31,
   "id": "53dc4490",
   "metadata": {},
   "outputs": [],
   "source": [
    "mean_99 = cars_99_mileage.mean()\n",
    "sd_99 = cars_99_mileage.std()"
   ]
  },
  {
   "cell_type": "code",
   "execution_count": 32,
   "id": "209a7c04",
   "metadata": {},
   "outputs": [
    {
     "data": {
      "text/plain": [
       "(array([ 1.,  3.,  7., 14., 25., 18., 14., 17., 11.,  7.]),\n",
       " array([ 6.93809803,  9.2565086 , 11.57491918, 13.89332975, 16.21174032,\n",
       "        18.53015089, 20.84856146, 23.16697203, 25.4853826 , 27.80379318,\n",
       "        30.12220375]),\n",
       " <BarContainer object of 10 artists>)"
      ]
     },
     "execution_count": 32,
     "metadata": {},
     "output_type": "execute_result"
    },
    {
     "data": {
      "image/png": "[encoded data removed]",
      "text/plain": [
       "<Figure size 640x480 with 1 Axes>"
      ]
     },
     "metadata": {},
     "output_type": "display_data"
    }
   ],
   "source": [
    "cars_08 = stats.norm(mean_08, sd_08).rvs(117)\n",
    "cars_99 = stats.norm(mean_99, sd_99).rvs(117)\n",
    "plt.hist(cars_08)"
   ]
  },
  {
   "cell_type": "code",
   "execution_count": 33,
   "id": "11789d4d",
   "metadata": {},
   "outputs": [
    {
     "data": {
      "text/plain": [
       "(array([ 6.,  7., 26., 13., 30., 21.,  8.,  5.,  0.,  1.]),\n",
       " array([ 8.70855916, 11.58599416, 14.46342915, 17.34086415, 20.21829915,\n",
       "        23.09573414, 25.97316914, 28.85060414, 31.72803913, 34.60547413,\n",
       "        37.48290913]),\n",
       " <BarContainer object of 10 artists>)"
      ]
     },
     "execution_count": 33,
     "metadata": {},
     "output_type": "execute_result"
    },
    {
     "data": {
      "image/png": "[encoded data removed]",
      "text/plain": [
       "<Figure size 640x480 with 1 Axes>"
      ]
     },
     "metadata": {},
     "output_type": "display_data"
    }
   ],
   "source": [
    "plt.hist(cars_99)"
   ]
  },
  {
   "cell_type": "code",
   "execution_count": 34,
   "id": "272530ba",
   "metadata": {},
   "outputs": [
    {
     "name": "stdout",
     "output_type": "stream",
     "text": [
      "22.544067743119697\n",
      "27.649686476987128\n"
     ]
    }
   ],
   "source": [
    "print(cars_08.var())\n",
    "print(cars_99.var())"
   ]
  },
  {
   "cell_type": "code",
   "execution_count": 40,
   "id": "71b531df",
   "metadata": {},
   "outputs": [
    {
     "data": {
      "text/plain": [
       "(-0.2587896432078211, 0.7960293793246775)"
      ]
     },
     "execution_count": 40,
     "metadata": {},
     "output_type": "execute_result"
    }
   ],
   "source": [
    "t2, p2 = stats.ttest_ind(cars_08, cars_99, equal_var=False)\n",
    "t2, p2"
   ]
  },
  {
   "cell_type": "code",
   "execution_count": 42,
   "id": "4447c713",
   "metadata": {},
   "outputs": [
    {
     "name": "stdout",
     "output_type": "stream",
     "text": [
      "Fail to reject null\n"
     ]
    }
   ],
   "source": [
    "alpha = .05\n",
    "\n",
    "if p2 <= alpha:\n",
    "    print('Reject null')\n",
    "else:\n",
    "    print('Fail to reject null')\n"
   ]
  },
  {
   "cell_type": "markdown",
   "id": "3f722d64",
   "metadata": {},
   "source": [
    "Takeaway: we failed to reject the null hypothesis there is no significant difference in fuel efficiency between cars made between the years 1999 and 2008"
   ]
  },
  {
   "cell_type": "markdown",
   "id": "f1f0223f",
   "metadata": {},
   "source": [
    "#### Are compact cars more fuel-efficient than the average car?\n",
    " - 1 sample t-test"
   ]
  },
  {
   "cell_type": "markdown",
   "id": "ca46f4b2",
   "metadata": {},
   "source": [
    "Null: compact cars are not more efficient than the average car\n",
    "\n",
    "Alternate: copact cars are more efficient than the average car"
   ]
  },
  {
   "cell_type": "code",
   "execution_count": 43,
   "id": "52c34235",
   "metadata": {},
   "outputs": [
    {
     "data": {
      "text/plain": [
       "count    47.000000\n",
       "mean     24.212766\n",
       "std       3.527446\n",
       "min      19.500000\n",
       "25%      22.000000\n",
       "50%      23.500000\n",
       "75%      25.250000\n",
       "max      38.500000\n",
       "Name: avg_mileage, dtype: float64"
      ]
     },
     "execution_count": 43,
     "metadata": {},
     "output_type": "execute_result"
    }
   ],
   "source": [
    "compact_mpg = mpg[mpg['class'] == 'compact']['avg_mileage']\n",
    "compact_mpg.describe()"
   ]
  },
  {
   "cell_type": "code",
   "execution_count": 46,
   "id": "4328554b",
   "metadata": {},
   "outputs": [],
   "source": [
    "comp_mean = compact_mpg.mean()\n",
    "comp_sd = compact_mpg.std()"
   ]
  },
  {
   "cell_type": "code",
   "execution_count": 47,
   "id": "0ae8a16d",
   "metadata": {},
   "outputs": [],
   "source": [
    "avg_mile_mean = mpg['avg_mileage'].mean()"
   ]
  },
  {
   "cell_type": "code",
   "execution_count": 48,
   "id": "da987664",
   "metadata": {},
   "outputs": [],
   "source": [
    "comp = stats.norm(comp_mean, comp_sd).rvs(47)"
   ]
  },
  {
   "cell_type": "code",
   "execution_count": 49,
   "id": "b8c19455",
   "metadata": {},
   "outputs": [
    {
     "data": {
      "text/plain": [
       "(array([3., 5., 5., 8., 5., 6., 8., 3., 3., 1.]),\n",
       " array([18.36009041, 19.7583458 , 21.15660119, 22.55485658, 23.95311197,\n",
       "        25.35136736, 26.74962275, 28.14787814, 29.54613353, 30.94438892,\n",
       "        32.34264431]),\n",
       " <BarContainer object of 10 artists>)"
      ]
     },
     "execution_count": 49,
     "metadata": {},
     "output_type": "execute_result"
    },
    {
     "data": {
      "image/png": "[encoded data removed]",
      "text/plain": [
       "<Figure size 640x480 with 1 Axes>"
      ]
     },
     "metadata": {},
     "output_type": "display_data"
    }
   ],
   "source": [
    "plt.hist(comp)"
   ]
  },
  {
   "cell_type": "code",
   "execution_count": 51,
   "id": "1a7c5f32",
   "metadata": {},
   "outputs": [
    {
     "data": {
      "text/plain": [
       "(9.168673201310149, 5.969308389098781e-12)"
      ]
     },
     "execution_count": 51,
     "metadata": {},
     "output_type": "execute_result"
    }
   ],
   "source": [
    "t3, p3 = stats.ttest_1samp(comp, avg_mile_mean)\n",
    "t3, p3"
   ]
  },
  {
   "cell_type": "code",
   "execution_count": 53,
   "id": "695bf1c2",
   "metadata": {},
   "outputs": [
    {
     "name": "stdout",
     "output_type": "stream",
     "text": [
      "Reject null\n"
     ]
    }
   ],
   "source": [
    "alpha = .05\n",
    "\n",
    "if t3 > 0 and p3/2 <= alpha:\n",
    "    print('Reject null')\n",
    "else:\n",
    "    print('Fail to reject null')"
   ]
  },
  {
   "cell_type": "markdown",
   "id": "0c43b607",
   "metadata": {},
   "source": [
    "Takeaway: reject the null hypothesis, compact cars are significantly more efficient than the average car."
   ]
  },
  {
   "cell_type": "markdown",
   "id": "775a6db5",
   "metadata": {},
   "source": [
    "#### Do manual cars get better gas mileage than automatic cars?\n",
    " - indpendent t-test\n",
    " - 1 tail"
   ]
  },
  {
   "cell_type": "markdown",
   "id": "7cc6d69c",
   "metadata": {},
   "source": [
    "Null: Manual cars are not more efficient than automatics.\n",
    "\n",
    "Alternate: manual cars are more efficient than automatics"
   ]
  },
  {
   "cell_type": "code",
   "execution_count": 54,
   "id": "15631a49",
   "metadata": {},
   "outputs": [
    {
     "data": {
      "text/plain": [
       "count    77.000000\n",
       "mean     22.227273\n",
       "std       5.160927\n",
       "min      10.500000\n",
       "25%      19.500000\n",
       "50%      22.000000\n",
       "75%      25.000000\n",
       "max      39.500000\n",
       "Name: avg_mileage, dtype: float64"
      ]
     },
     "execution_count": 54,
     "metadata": {},
     "output_type": "execute_result"
    }
   ],
   "source": [
    "manual_mpg = mpg[mpg['trans'].str.startswith('m')]['avg_mileage']\n",
    "manual_mpg.describe()"
   ]
  },
  {
   "cell_type": "code",
   "execution_count": 55,
   "id": "9263ed7c",
   "metadata": {},
   "outputs": [
    {
     "data": {
      "text/plain": [
       "count    157.000000\n",
       "mean      19.130573\n",
       "std        4.684312\n",
       "min       10.500000\n",
       "25%       15.000000\n",
       "50%       19.000000\n",
       "75%       22.500000\n",
       "max       35.000000\n",
       "Name: avg_mileage, dtype: float64"
      ]
     },
     "execution_count": 55,
     "metadata": {},
     "output_type": "execute_result"
    }
   ],
   "source": [
    "auto_mpg = mpg[mpg['trans'].str.startswith('a')]['avg_mileage']\n",
    "auto_mpg.describe()"
   ]
  },
  {
   "cell_type": "code",
   "execution_count": 56,
   "id": "f588a0aa",
   "metadata": {},
   "outputs": [],
   "source": [
    "manual_mean = manual_mpg.mean()\n",
    "manual_sd = manual_mpg.std()"
   ]
  },
  {
   "cell_type": "code",
   "execution_count": 57,
   "id": "57241b0c",
   "metadata": {},
   "outputs": [],
   "source": [
    "auto_mean = auto_mpg.mean()\n",
    "auto_sd = auto_mpg.std()"
   ]
  },
  {
   "cell_type": "code",
   "execution_count": 58,
   "id": "bad4e841",
   "metadata": {},
   "outputs": [],
   "source": [
    "manual = stats.norm(manual_mean, manual_sd).rvs(77)\n",
    "auto = stats.norm(auto_mean, auto_sd).rvs(157)"
   ]
  },
  {
   "cell_type": "code",
   "execution_count": 59,
   "id": "2453f73f",
   "metadata": {},
   "outputs": [
    {
     "data": {
      "text/plain": [
       "(array([ 6.,  6., 12., 13., 22., 13.,  4.,  0.,  0.,  1.]),\n",
       " array([10.55201057, 13.63034845, 16.70868633, 19.78702422, 22.8653621 ,\n",
       "        25.94369998, 29.02203787, 32.10037575, 35.17871363, 38.25705152,\n",
       "        41.3353894 ]),\n",
       " <BarContainer object of 10 artists>)"
      ]
     },
     "execution_count": 59,
     "metadata": {},
     "output_type": "execute_result"
    },
    {
     "data": {
      "image/png": "[encoded data removed]",
      "text/plain": [
       "<Figure size 640x480 with 1 Axes>"
      ]
     },
     "metadata": {},
     "output_type": "display_data"
    }
   ],
   "source": [
    "plt.hist(manual)"
   ]
  },
  {
   "cell_type": "code",
   "execution_count": 60,
   "id": "b7d21646",
   "metadata": {},
   "outputs": [
    {
     "data": {
      "text/plain": [
       "(array([ 1.,  4.,  8., 27., 31., 29., 30., 16.,  8.,  3.]),\n",
       " array([ 5.18478996,  7.75602848, 10.327267  , 12.89850552, 15.46974404,\n",
       "        18.04098256, 20.61222109, 23.18345961, 25.75469813, 28.32593665,\n",
       "        30.89717517]),\n",
       " <BarContainer object of 10 artists>)"
      ]
     },
     "execution_count": 60,
     "metadata": {},
     "output_type": "execute_result"
    },
    {
     "data": {
      "image/png": "[encoded data removed]",
      "text/plain": [
       "<Figure size 640x480 with 1 Axes>"
      ]
     },
     "metadata": {},
     "output_type": "display_data"
    }
   ],
   "source": [
    "plt.hist(auto)"
   ]
  },
  {
   "cell_type": "code",
   "execution_count": 61,
   "id": "b4f0b51c",
   "metadata": {},
   "outputs": [
    {
     "name": "stdout",
     "output_type": "stream",
     "text": [
      "28.394113909947002\n",
      "21.26560091287369\n"
     ]
    }
   ],
   "source": [
    "print(manual.var())\n",
    "print(auto.var())"
   ]
  },
  {
   "cell_type": "code",
   "execution_count": 62,
   "id": "10c1589e",
   "metadata": {},
   "outputs": [
    {
     "data": {
      "text/plain": [
       "(4.710915177652656, 6.127944456722254e-06)"
      ]
     },
     "execution_count": 62,
     "metadata": {},
     "output_type": "execute_result"
    }
   ],
   "source": [
    "t4, p4 = stats.ttest_ind(manual, auto, equal_var=False)\n",
    "t4, p4"
   ]
  },
  {
   "cell_type": "code",
   "execution_count": 64,
   "id": "0ab92b81",
   "metadata": {},
   "outputs": [
    {
     "name": "stdout",
     "output_type": "stream",
     "text": [
      "Reject null\n"
     ]
    }
   ],
   "source": [
    "alpha = .05\n",
    "\n",
    "if t4 > 0 and p4/2 < alpha:\n",
    "    print('Reject null')\n",
    "else:\n",
    "    print('Fail to reject null')"
   ]
  },
  {
   "cell_type": "markdown",
   "id": "9e912c22",
   "metadata": {},
   "source": [
    "Takaway: manual cars are significantly more efficient than automatic cars"
   ]
  },
  {
   "cell_type": "markdown",
   "id": "178ac18f",
   "metadata": {},
   "source": [
    "## Exercises"
   ]
  },
  {
   "cell_type": "markdown",
   "id": "bd6e4d0e",
   "metadata": {},
   "source": [
    "###Answer with the type of stats test you would use (assume normal distribution):\n",
    "1. Is there a relationship between the length of your arm and the length of your foot?\n",
    "- 1 sample t-test"
   ]
  },
  {
   "cell_type": "markdown",
   "id": "5469b93b",
   "metadata": {},
   "source": [
    "2. Do guys and gals quit their jobs at the same rate?\n",
    "- indepdent t-test"
   ]
  },
  {
   "cell_type": "markdown",
   "id": "ad930d0c",
   "metadata": {},
   "source": [
    "3. Does the length of time of the lecture correlate with a students grade?\n",
    "- 1 sample t-test"
   ]
  },
  {
   "cell_type": "markdown",
   "id": "f75209c0",
   "metadata": {},
   "source": [
    "1. Does tenure correlate with monthly charges?\n"
   ]
  },
  {
   "cell_type": "code",
   "execution_count": 4,
   "id": "4a964d5b",
   "metadata": {},
   "outputs": [],
   "source": [
    "import numpy as np\n",
    "import seaborn as sns\n",
    "import scipy.stats as stats\n",
    "import pandas as pd\n",
    "import matplotlib.pyplot as plt"
   ]
  },
  {
   "cell_type": "code",
   "execution_count": 145,
   "id": "3cd20fa3",
   "metadata": {},
   "outputs": [
    {
     "name": "stdout",
     "output_type": "stream",
     "text": [
      "<class 'pandas.core.frame.DataFrame'>\n",
      "RangeIndex: 7043 entries, 0 to 7042\n",
      "Data columns (total 21 columns):\n",
      " #   Column                    Non-Null Count  Dtype  \n",
      "---  ------                    --------------  -----  \n",
      " 0   customer_id               7043 non-null   object \n",
      " 1   gender                    7043 non-null   object \n",
      " 2   senior_citizen            7043 non-null   int64  \n",
      " 3   partner                   7043 non-null   object \n",
      " 4   dependents                7043 non-null   object \n",
      " 5   tenure                    7043 non-null   int64  \n",
      " 6   phone_service             7043 non-null   object \n",
      " 7   multiple_lines            7043 non-null   object \n",
      " 8   internet_service_type_id  7043 non-null   int64  \n",
      " 9   online_security           7043 non-null   object \n",
      " 10  online_backup             7043 non-null   object \n",
      " 11  device_protection         7043 non-null   object \n",
      " 12  tech_support              7043 non-null   object \n",
      " 13  streaming_tv              7043 non-null   object \n",
      " 14  streaming_movies          7043 non-null   object \n",
      " 15  contract_type_id          7043 non-null   int64  \n",
      " 16  paperless_billing         7043 non-null   object \n",
      " 17  payment_type_id           7043 non-null   int64  \n",
      " 18  monthly_charges           7043 non-null   float64\n",
      " 19  total_charges             7043 non-null   object \n",
      " 20  churn                     7043 non-null   object \n",
      "dtypes: float64(1), int64(5), object(15)\n",
      "memory usage: 1.1+ MB\n"
     ]
    }
   ],
   "source": [
    "import env\n",
    "\n",
    "db_url = f'mysql+pymysql://{env.username}:{env.password}@{env.hostname}/telco_churn'\n",
    "df = pd.read_sql('SELECT * FROM customers', db_url) \n",
    "df = pd.DataFrame(df)\n",
    "df.info()"
   ]
  },
  {
   "cell_type": "code",
   "execution_count": 147,
   "id": "3d92ab9f",
   "metadata": {},
   "outputs": [
    {
     "data": {
      "text/plain": [
       "<AxesSubplot:xlabel='tenure', ylabel='monthly_charges'>"
      ]
     },
     "execution_count": 147,
     "metadata": {},
     "output_type": "execute_result"
    },
    {
     "data": {
      "image/png": "[encoded data removed]",
      "text/plain": [
       "<Figure size 640x480 with 1 Axes>"
      ]
     },
     "metadata": {},
     "output_type": "display_data"
    }
   ],
   "source": [
    "sns.regplot(x = 'tenure', y= 'monthly_charges', data = df, marker = '.', line_kws = {'color': 'red'})"
   ]
  },
  {
   "cell_type": "code",
   "execution_count": 148,
   "id": "a985bf93",
   "metadata": {},
   "outputs": [
    {
     "data": {
      "text/plain": [
       "<AxesSubplot:>"
      ]
     },
     "execution_count": 148,
     "metadata": {},
     "output_type": "execute_result"
    },
    {
     "data": {
      "image/png": "[encoded data removed]",
      "text/plain": [
       "<Figure size 640x480 with 1 Axes>"
      ]
     },
     "metadata": {},
     "output_type": "display_data"
    }
   ],
   "source": [
    "df.monthly_charges.hist()\n",
    "df.tenure.hist()"
   ]
  },
  {
   "cell_type": "code",
   "execution_count": 149,
   "id": "25d3ecdc",
   "metadata": {},
   "outputs": [
    {
     "data": {
      "text/plain": [
       "NormaltestResult(statistic=76258.50517392668, pvalue=0.0)"
      ]
     },
     "execution_count": 149,
     "metadata": {},
     "output_type": "execute_result"
    }
   ],
   "source": [
    "stats.normaltest(df.tenure, None)"
   ]
  },
  {
   "cell_type": "code",
   "execution_count": 151,
   "id": "bbb6202f",
   "metadata": {},
   "outputs": [],
   "source": [
    "df.total_charges = df.total_charges.replace(' ', np.nan).astype(float)"
   ]
  },
  {
   "cell_type": "code",
   "execution_count": 152,
   "id": "3f81b510",
   "metadata": {},
   "outputs": [
    {
     "name": "stderr",
     "output_type": "stream",
     "text": [
      "/opt/homebrew/anaconda3/lib/python3.9/site-packages/seaborn/_decorators.py:36: FutureWarning: Pass the following variables as keyword args: x, y. From version 0.12, the only valid positional argument will be `data`, and passing other arguments without an explicit keyword will result in an error or misinterpretation.\n",
      "  warnings.warn(\n"
     ]
    },
    {
     "data": {
      "text/plain": [
       "<AxesSubplot:xlabel='tenure', ylabel='total_charges'>"
      ]
     },
     "execution_count": 152,
     "metadata": {},
     "output_type": "execute_result"
    },
    {
     "data": {
      "image/png": "[encoded data removed]",
      "text/plain": [
       "<Figure size 640x480 with 1 Axes>"
      ]
     },
     "metadata": {},
     "output_type": "display_data"
    }
   ],
   "source": [
    "sns.regplot(df.tenure, df.total_charges, marker = '.', line_kws = {'color': 'red'})"
   ]
  },
  {
   "cell_type": "code",
   "execution_count": 160,
   "id": "e90892c4",
   "metadata": {},
   "outputs": [
    {
     "data": {
      "text/plain": [
       "(0.27641678933130215, 1.0271266876409408e-123)"
      ]
     },
     "execution_count": 160,
     "metadata": {},
     "output_type": "execute_result"
    }
   ],
   "source": [
    "corr, p = stats.spearmanr(df.tenure, df.monthly_charges)\n",
    "corr, p"
   ]
  },
  {
   "cell_type": "code",
   "execution_count": 161,
   "id": "1052f9d2",
   "metadata": {},
   "outputs": [
    {
     "data": {
      "text/plain": [
       "(nan, nan)"
      ]
     },
     "execution_count": 161,
     "metadata": {},
     "output_type": "execute_result"
    }
   ],
   "source": [
    "corr1, p1 = stats.spearmanr(df.tenure, df.total_charges)\n",
    "corr1, p1\n",
    "# Strongly related"
   ]
  },
  {
   "cell_type": "code",
   "execution_count": 162,
   "id": "b6341011",
   "metadata": {},
   "outputs": [],
   "source": [
    "def rtest(sql): \n",
    "    return pd.Series(stats.spearmanr(sql.tenure, sql.monthly_charges), index = ['r', 'p'])"
   ]
  },
  {
   "cell_type": "code",
   "execution_count": 163,
   "id": "6478288f",
   "metadata": {},
   "outputs": [
    {
     "data": {
      "text/html": [
       "<div>\n",
       "<style scoped>\n",
       "    .dataframe tbody tr th:only-of-type {\n",
       "        vertical-align: middle;\n",
       "    }\n",
       "\n",
       "    .dataframe tbody tr th {\n",
       "        vertical-align: top;\n",
       "    }\n",
       "\n",
       "    .dataframe thead th {\n",
       "        text-align: right;\n",
       "    }\n",
       "</style>\n",
       "<table border=\"1\" class=\"dataframe\">\n",
       "  <thead>\n",
       "    <tr style=\"text-align: right;\">\n",
       "      <th></th>\n",
       "      <th></th>\n",
       "      <th>r</th>\n",
       "      <th>p</th>\n",
       "    </tr>\n",
       "    <tr>\n",
       "      <th>phone_service</th>\n",
       "      <th>internet_service_type_id</th>\n",
       "      <th></th>\n",
       "      <th></th>\n",
       "    </tr>\n",
       "  </thead>\n",
       "  <tbody>\n",
       "    <tr>\n",
       "      <th>No</th>\n",
       "      <th>1</th>\n",
       "      <td>0.585916</td>\n",
       "      <td>4.185046e-64</td>\n",
       "    </tr>\n",
       "    <tr>\n",
       "      <th rowspan=\"3\" valign=\"top\">Yes</th>\n",
       "      <th>1</th>\n",
       "      <td>0.664471</td>\n",
       "      <td>5.423602e-222</td>\n",
       "    </tr>\n",
       "    <tr>\n",
       "      <th>2</th>\n",
       "      <td>0.627984</td>\n",
       "      <td>0.000000e+00</td>\n",
       "    </tr>\n",
       "    <tr>\n",
       "      <th>3</th>\n",
       "      <td>0.241361</td>\n",
       "      <td>1.149195e-21</td>\n",
       "    </tr>\n",
       "  </tbody>\n",
       "</table>\n",
       "</div>"
      ],
      "text/plain": [
       "                                               r              p\n",
       "phone_service internet_service_type_id                         \n",
       "No            1                         0.585916   4.185046e-64\n",
       "Yes           1                         0.664471  5.423602e-222\n",
       "              2                         0.627984   0.000000e+00\n",
       "              3                         0.241361   1.149195e-21"
      ]
     },
     "execution_count": 163,
     "metadata": {},
     "output_type": "execute_result"
    }
   ],
   "source": [
    "df.groupby(['phone_service', 'internet_service_type_id']).apply(rtest)"
   ]
  },
  {
   "cell_type": "code",
   "execution_count": 169,
   "id": "5cc0a7c8",
   "metadata": {},
   "outputs": [
    {
     "data": {
      "text/html": [
       "<div>\n",
       "<style scoped>\n",
       "    .dataframe tbody tr th:only-of-type {\n",
       "        vertical-align: middle;\n",
       "    }\n",
       "\n",
       "    .dataframe tbody tr th {\n",
       "        vertical-align: top;\n",
       "    }\n",
       "\n",
       "    .dataframe thead th {\n",
       "        text-align: right;\n",
       "    }\n",
       "</style>\n",
       "<table border=\"1\" class=\"dataframe\">\n",
       "  <thead>\n",
       "    <tr style=\"text-align: right;\">\n",
       "      <th></th>\n",
       "      <th>emp_no</th>\n",
       "      <th>salary</th>\n",
       "      <th>to_date</th>\n",
       "      <th>hire_date</th>\n",
       "    </tr>\n",
       "  </thead>\n",
       "  <tbody>\n",
       "    <tr>\n",
       "      <th>0</th>\n",
       "      <td>10001</td>\n",
       "      <td>88958</td>\n",
       "      <td>9999-01-01</td>\n",
       "      <td>1986-06-26</td>\n",
       "    </tr>\n",
       "    <tr>\n",
       "      <th>1</th>\n",
       "      <td>10002</td>\n",
       "      <td>72527</td>\n",
       "      <td>9999-01-01</td>\n",
       "      <td>1985-11-21</td>\n",
       "    </tr>\n",
       "    <tr>\n",
       "      <th>2</th>\n",
       "      <td>10003</td>\n",
       "      <td>43311</td>\n",
       "      <td>9999-01-01</td>\n",
       "      <td>1986-08-28</td>\n",
       "    </tr>\n",
       "    <tr>\n",
       "      <th>3</th>\n",
       "      <td>10004</td>\n",
       "      <td>74057</td>\n",
       "      <td>9999-01-01</td>\n",
       "      <td>1986-12-01</td>\n",
       "    </tr>\n",
       "    <tr>\n",
       "      <th>4</th>\n",
       "      <td>10005</td>\n",
       "      <td>94692</td>\n",
       "      <td>9999-01-01</td>\n",
       "      <td>1989-09-12</td>\n",
       "    </tr>\n",
       "  </tbody>\n",
       "</table>\n",
       "</div>"
      ],
      "text/plain": [
       "   emp_no  salary     to_date   hire_date\n",
       "0   10001   88958  9999-01-01  1986-06-26\n",
       "1   10002   72527  9999-01-01  1985-11-21\n",
       "2   10003   43311  9999-01-01  1986-08-28\n",
       "3   10004   74057  9999-01-01  1986-12-01\n",
       "4   10005   94692  9999-01-01  1989-09-12"
      ]
     },
     "execution_count": 169,
     "metadata": {},
     "output_type": "execute_result"
    }
   ],
   "source": [
    "db_url = f'mysql+pymysql://{env.username}:{env.password}@{env.hostname}/employees'\n",
    "df3 = pd.read_sql('''SELECT s.emp_no, s.salary, s.to_date, e.hire_date FROM salaries AS s \n",
    "                JOIN employees AS e ON e.emp_no = s.emp_no WHERE s.to_date >= NOW();''', db_url)\n",
    "df3.head()"
   ]
  },
  {
   "cell_type": "code",
   "execution_count": 170,
   "id": "57aa9267",
   "metadata": {},
   "outputs": [],
   "source": [
    "df3['tenure'] = (df3.to_date - df3.hire_date).astype(str).str.split(' ', expand = True)[0].astype(int)"
   ]
  },
  {
   "cell_type": "code",
   "execution_count": 172,
   "id": "6082c7bc",
   "metadata": {},
   "outputs": [
    {
     "data": {
      "text/plain": [
       "(0.3128783525010577, 0.0)"
      ]
     },
     "execution_count": 172,
     "metadata": {},
     "output_type": "execute_result"
    }
   ],
   "source": [
    "corr, p= stats.spearmanr(df3.tenure, df3.salary)\n",
    "corr, p\n",
    "# Significant relationship but not very strong"
   ]
  },
  {
   "cell_type": "code",
   "execution_count": 174,
   "id": "1f3ecea7",
   "metadata": {},
   "outputs": [
    {
     "name": "stderr",
     "output_type": "stream",
     "text": [
      "/opt/homebrew/anaconda3/lib/python3.9/site-packages/seaborn/_decorators.py:36: FutureWarning: Pass the following variables as keyword args: x, y. From version 0.12, the only valid positional argument will be `data`, and passing other arguments without an explicit keyword will result in an error or misinterpretation.\n",
      "  warnings.warn(\n"
     ]
    },
    {
     "data": {
      "text/plain": [
       "<AxesSubplot:xlabel='tenure', ylabel='salary'>"
      ]
     },
     "execution_count": 174,
     "metadata": {},
     "output_type": "execute_result"
    },
    {
     "data": {
      "image/png": "[encoded data removed]",
      "text/plain": [
       "<Figure size 640x480 with 1 Axes>"
      ]
     },
     "metadata": {},
     "output_type": "display_data"
    }
   ],
   "source": [
    "sns.regplot(df3.tenure, df3.salary, marker = '.', line_kws = {'color': 'red'})"
   ]
  },
  {
   "cell_type": "code",
   "execution_count": 176,
   "id": "410903d9",
   "metadata": {},
   "outputs": [
    {
     "data": {
      "text/html": [
       "<div>\n",
       "<style scoped>\n",
       "    .dataframe tbody tr th:only-of-type {\n",
       "        vertical-align: middle;\n",
       "    }\n",
       "\n",
       "    .dataframe tbody tr th {\n",
       "        vertical-align: top;\n",
       "    }\n",
       "\n",
       "    .dataframe thead th {\n",
       "        text-align: right;\n",
       "    }\n",
       "</style>\n",
       "<table border=\"1\" class=\"dataframe\">\n",
       "  <thead>\n",
       "    <tr style=\"text-align: right;\">\n",
       "      <th></th>\n",
       "      <th>emp_no</th>\n",
       "      <th>salary</th>\n",
       "      <th>to_date</th>\n",
       "      <th>hire_date</th>\n",
       "    </tr>\n",
       "  </thead>\n",
       "  <tbody>\n",
       "    <tr>\n",
       "      <th>0</th>\n",
       "      <td>10001</td>\n",
       "      <td>88958</td>\n",
       "      <td>9999-01-01</td>\n",
       "      <td>1986-06-26</td>\n",
       "    </tr>\n",
       "    <tr>\n",
       "      <th>1</th>\n",
       "      <td>10002</td>\n",
       "      <td>72527</td>\n",
       "      <td>9999-01-01</td>\n",
       "      <td>1985-11-21</td>\n",
       "    </tr>\n",
       "    <tr>\n",
       "      <th>2</th>\n",
       "      <td>10003</td>\n",
       "      <td>43311</td>\n",
       "      <td>9999-01-01</td>\n",
       "      <td>1986-08-28</td>\n",
       "    </tr>\n",
       "    <tr>\n",
       "      <th>3</th>\n",
       "      <td>10004</td>\n",
       "      <td>74057</td>\n",
       "      <td>9999-01-01</td>\n",
       "      <td>1986-12-01</td>\n",
       "    </tr>\n",
       "    <tr>\n",
       "      <th>4</th>\n",
       "      <td>10005</td>\n",
       "      <td>94692</td>\n",
       "      <td>9999-01-01</td>\n",
       "      <td>1989-09-12</td>\n",
       "    </tr>\n",
       "  </tbody>\n",
       "</table>\n",
       "</div>"
      ],
      "text/plain": [
       "   emp_no  salary     to_date   hire_date\n",
       "0   10001   88958  9999-01-01  1986-06-26\n",
       "1   10002   72527  9999-01-01  1985-11-21\n",
       "2   10003   43311  9999-01-01  1986-08-28\n",
       "3   10004   74057  9999-01-01  1986-12-01\n",
       "4   10005   94692  9999-01-01  1989-09-12"
      ]
     },
     "execution_count": 176,
     "metadata": {},
     "output_type": "execute_result"
    }
   ],
   "source": [
    "query2 = 'SELECT count(title), emp_no FROM titles GROUP BY emp_no'\n",
    "\n",
    "df4 = pd.read_sql(query2, db_url)\n",
    "df.head()"
   ]
  },
  {
   "cell_type": "code",
   "execution_count": 177,
   "id": "3329d046",
   "metadata": {},
   "outputs": [
    {
     "data": {
      "text/html": [
       "<div>\n",
       "<style scoped>\n",
       "    .dataframe tbody tr th:only-of-type {\n",
       "        vertical-align: middle;\n",
       "    }\n",
       "\n",
       "    .dataframe tbody tr th {\n",
       "        vertical-align: top;\n",
       "    }\n",
       "\n",
       "    .dataframe thead th {\n",
       "        text-align: right;\n",
       "    }\n",
       "</style>\n",
       "<table border=\"1\" class=\"dataframe\">\n",
       "  <thead>\n",
       "    <tr style=\"text-align: right;\">\n",
       "      <th></th>\n",
       "      <th>emp_no</th>\n",
       "      <th>salary</th>\n",
       "      <th>to_date</th>\n",
       "      <th>hire_date</th>\n",
       "      <th>tenure</th>\n",
       "      <th>count(title)</th>\n",
       "      <th>_merge</th>\n",
       "    </tr>\n",
       "  </thead>\n",
       "  <tbody>\n",
       "    <tr>\n",
       "      <th>0</th>\n",
       "      <td>10001</td>\n",
       "      <td>88958</td>\n",
       "      <td>9999-01-01</td>\n",
       "      <td>1986-06-26</td>\n",
       "      <td>2926512</td>\n",
       "      <td>1</td>\n",
       "      <td>both</td>\n",
       "    </tr>\n",
       "    <tr>\n",
       "      <th>1</th>\n",
       "      <td>10002</td>\n",
       "      <td>72527</td>\n",
       "      <td>9999-01-01</td>\n",
       "      <td>1985-11-21</td>\n",
       "      <td>2926729</td>\n",
       "      <td>1</td>\n",
       "      <td>both</td>\n",
       "    </tr>\n",
       "    <tr>\n",
       "      <th>2</th>\n",
       "      <td>10003</td>\n",
       "      <td>43311</td>\n",
       "      <td>9999-01-01</td>\n",
       "      <td>1986-08-28</td>\n",
       "      <td>2926449</td>\n",
       "      <td>1</td>\n",
       "      <td>both</td>\n",
       "    </tr>\n",
       "    <tr>\n",
       "      <th>3</th>\n",
       "      <td>10004</td>\n",
       "      <td>74057</td>\n",
       "      <td>9999-01-01</td>\n",
       "      <td>1986-12-01</td>\n",
       "      <td>2926354</td>\n",
       "      <td>2</td>\n",
       "      <td>both</td>\n",
       "    </tr>\n",
       "    <tr>\n",
       "      <th>4</th>\n",
       "      <td>10005</td>\n",
       "      <td>94692</td>\n",
       "      <td>9999-01-01</td>\n",
       "      <td>1989-09-12</td>\n",
       "      <td>2925338</td>\n",
       "      <td>2</td>\n",
       "      <td>both</td>\n",
       "    </tr>\n",
       "    <tr>\n",
       "      <th>...</th>\n",
       "      <td>...</td>\n",
       "      <td>...</td>\n",
       "      <td>...</td>\n",
       "      <td>...</td>\n",
       "      <td>...</td>\n",
       "      <td>...</td>\n",
       "      <td>...</td>\n",
       "    </tr>\n",
       "    <tr>\n",
       "      <th>240119</th>\n",
       "      <td>499995</td>\n",
       "      <td>52868</td>\n",
       "      <td>9999-01-01</td>\n",
       "      <td>1993-01-12</td>\n",
       "      <td>2924120</td>\n",
       "      <td>1</td>\n",
       "      <td>both</td>\n",
       "    </tr>\n",
       "    <tr>\n",
       "      <th>240120</th>\n",
       "      <td>499996</td>\n",
       "      <td>69501</td>\n",
       "      <td>9999-01-01</td>\n",
       "      <td>1990-09-27</td>\n",
       "      <td>2924958</td>\n",
       "      <td>2</td>\n",
       "      <td>both</td>\n",
       "    </tr>\n",
       "    <tr>\n",
       "      <th>240121</th>\n",
       "      <td>499997</td>\n",
       "      <td>83441</td>\n",
       "      <td>9999-01-01</td>\n",
       "      <td>1986-04-21</td>\n",
       "      <td>2926578</td>\n",
       "      <td>2</td>\n",
       "      <td>both</td>\n",
       "    </tr>\n",
       "    <tr>\n",
       "      <th>240122</th>\n",
       "      <td>499998</td>\n",
       "      <td>55003</td>\n",
       "      <td>9999-01-01</td>\n",
       "      <td>1993-10-13</td>\n",
       "      <td>2923846</td>\n",
       "      <td>2</td>\n",
       "      <td>both</td>\n",
       "    </tr>\n",
       "    <tr>\n",
       "      <th>240123</th>\n",
       "      <td>499999</td>\n",
       "      <td>77303</td>\n",
       "      <td>9999-01-01</td>\n",
       "      <td>1997-11-30</td>\n",
       "      <td>2922337</td>\n",
       "      <td>1</td>\n",
       "      <td>both</td>\n",
       "    </tr>\n",
       "  </tbody>\n",
       "</table>\n",
       "<p>240124 rows × 7 columns</p>\n",
       "</div>"
      ],
      "text/plain": [
       "        emp_no  salary     to_date   hire_date   tenure  count(title) _merge\n",
       "0        10001   88958  9999-01-01  1986-06-26  2926512             1   both\n",
       "1        10002   72527  9999-01-01  1985-11-21  2926729             1   both\n",
       "2        10003   43311  9999-01-01  1986-08-28  2926449             1   both\n",
       "3        10004   74057  9999-01-01  1986-12-01  2926354             2   both\n",
       "4        10005   94692  9999-01-01  1989-09-12  2925338             2   both\n",
       "...        ...     ...         ...         ...      ...           ...    ...\n",
       "240119  499995   52868  9999-01-01  1993-01-12  2924120             1   both\n",
       "240120  499996   69501  9999-01-01  1990-09-27  2924958             2   both\n",
       "240121  499997   83441  9999-01-01  1986-04-21  2926578             2   both\n",
       "240122  499998   55003  9999-01-01  1993-10-13  2923846             2   both\n",
       "240123  499999   77303  9999-01-01  1997-11-30  2922337             1   both\n",
       "\n",
       "[240124 rows x 7 columns]"
      ]
     },
     "execution_count": 177,
     "metadata": {},
     "output_type": "execute_result"
    }
   ],
   "source": [
    "df5 = df3.merge(df4, left_on= 'emp_no', right_on = 'emp_no', how = 'left', indicator = True)\n",
    "df5"
   ]
  },
  {
   "cell_type": "code",
   "execution_count": 178,
   "id": "31a37f72",
   "metadata": {},
   "outputs": [
    {
     "data": {
      "text/plain": [
       "(0.25489028077289544, 0.0)"
      ]
     },
     "execution_count": 178,
     "metadata": {},
     "output_type": "execute_result"
    }
   ],
   "source": [
    "corr, p = stats.spearmanr(df5.tenure, df5['count(title)'])\n",
    "corr, p"
   ]
  },
  {
   "cell_type": "code",
   "execution_count": 180,
   "id": "8df7619b",
   "metadata": {},
   "outputs": [
    {
     "data": {
      "text/html": [
       "<div>\n",
       "<style scoped>\n",
       "    .dataframe tbody tr th:only-of-type {\n",
       "        vertical-align: middle;\n",
       "    }\n",
       "\n",
       "    .dataframe tbody tr th {\n",
       "        vertical-align: top;\n",
       "    }\n",
       "\n",
       "    .dataframe thead th {\n",
       "        text-align: right;\n",
       "    }\n",
       "</style>\n",
       "<table border=\"1\" class=\"dataframe\">\n",
       "  <thead>\n",
       "    <tr style=\"text-align: right;\">\n",
       "      <th></th>\n",
       "      <th>Reaction</th>\n",
       "      <th>Days</th>\n",
       "      <th>Subject</th>\n",
       "    </tr>\n",
       "  </thead>\n",
       "  <tbody>\n",
       "    <tr>\n",
       "      <th>1</th>\n",
       "      <td>249.5600</td>\n",
       "      <td>0</td>\n",
       "      <td>308</td>\n",
       "    </tr>\n",
       "    <tr>\n",
       "      <th>2</th>\n",
       "      <td>258.7047</td>\n",
       "      <td>1</td>\n",
       "      <td>308</td>\n",
       "    </tr>\n",
       "    <tr>\n",
       "      <th>3</th>\n",
       "      <td>250.8006</td>\n",
       "      <td>2</td>\n",
       "      <td>308</td>\n",
       "    </tr>\n",
       "    <tr>\n",
       "      <th>4</th>\n",
       "      <td>321.4398</td>\n",
       "      <td>3</td>\n",
       "      <td>308</td>\n",
       "    </tr>\n",
       "    <tr>\n",
       "      <th>5</th>\n",
       "      <td>356.8519</td>\n",
       "      <td>4</td>\n",
       "      <td>308</td>\n",
       "    </tr>\n",
       "    <tr>\n",
       "      <th>...</th>\n",
       "      <td>...</td>\n",
       "      <td>...</td>\n",
       "      <td>...</td>\n",
       "    </tr>\n",
       "    <tr>\n",
       "      <th>176</th>\n",
       "      <td>329.6076</td>\n",
       "      <td>5</td>\n",
       "      <td>372</td>\n",
       "    </tr>\n",
       "    <tr>\n",
       "      <th>177</th>\n",
       "      <td>334.4818</td>\n",
       "      <td>6</td>\n",
       "      <td>372</td>\n",
       "    </tr>\n",
       "    <tr>\n",
       "      <th>178</th>\n",
       "      <td>343.2199</td>\n",
       "      <td>7</td>\n",
       "      <td>372</td>\n",
       "    </tr>\n",
       "    <tr>\n",
       "      <th>179</th>\n",
       "      <td>369.1417</td>\n",
       "      <td>8</td>\n",
       "      <td>372</td>\n",
       "    </tr>\n",
       "    <tr>\n",
       "      <th>180</th>\n",
       "      <td>364.1236</td>\n",
       "      <td>9</td>\n",
       "      <td>372</td>\n",
       "    </tr>\n",
       "  </tbody>\n",
       "</table>\n",
       "<p>180 rows × 3 columns</p>\n",
       "</div>"
      ],
      "text/plain": [
       "     Reaction  Days  Subject\n",
       "1    249.5600     0      308\n",
       "2    258.7047     1      308\n",
       "3    250.8006     2      308\n",
       "4    321.4398     3      308\n",
       "5    356.8519     4      308\n",
       "..        ...   ...      ...\n",
       "176  329.6076     5      372\n",
       "177  334.4818     6      372\n",
       "178  343.2199     7      372\n",
       "179  369.1417     8      372\n",
       "180  364.1236     9      372\n",
       "\n",
       "[180 rows x 3 columns]"
      ]
     },
     "execution_count": 180,
     "metadata": {},
     "output_type": "execute_result"
    }
   ],
   "source": [
    "slp = data('sleepstudy')\n",
    "slp"
   ]
  },
  {
   "cell_type": "code",
   "execution_count": 181,
   "id": "07daf851",
   "metadata": {},
   "outputs": [
    {
     "data": {
      "text/html": [
       "<div>\n",
       "<style scoped>\n",
       "    .dataframe tbody tr th:only-of-type {\n",
       "        vertical-align: middle;\n",
       "    }\n",
       "\n",
       "    .dataframe tbody tr th {\n",
       "        vertical-align: top;\n",
       "    }\n",
       "\n",
       "    .dataframe thead th {\n",
       "        text-align: right;\n",
       "    }\n",
       "</style>\n",
       "<table border=\"1\" class=\"dataframe\">\n",
       "  <thead>\n",
       "    <tr style=\"text-align: right;\">\n",
       "      <th></th>\n",
       "      <th>Days</th>\n",
       "      <th>Reaction</th>\n",
       "    </tr>\n",
       "  </thead>\n",
       "  <tbody>\n",
       "    <tr>\n",
       "      <th>0</th>\n",
       "      <td>0</td>\n",
       "      <td>256.651806</td>\n",
       "    </tr>\n",
       "    <tr>\n",
       "      <th>1</th>\n",
       "      <td>1</td>\n",
       "      <td>264.495756</td>\n",
       "    </tr>\n",
       "    <tr>\n",
       "      <th>2</th>\n",
       "      <td>2</td>\n",
       "      <td>265.361900</td>\n",
       "    </tr>\n",
       "    <tr>\n",
       "      <th>3</th>\n",
       "      <td>3</td>\n",
       "      <td>282.992011</td>\n",
       "    </tr>\n",
       "    <tr>\n",
       "      <th>4</th>\n",
       "      <td>4</td>\n",
       "      <td>288.649422</td>\n",
       "    </tr>\n",
       "    <tr>\n",
       "      <th>5</th>\n",
       "      <td>5</td>\n",
       "      <td>308.518456</td>\n",
       "    </tr>\n",
       "    <tr>\n",
       "      <th>6</th>\n",
       "      <td>6</td>\n",
       "      <td>312.178256</td>\n",
       "    </tr>\n",
       "    <tr>\n",
       "      <th>7</th>\n",
       "      <td>7</td>\n",
       "      <td>318.750583</td>\n",
       "    </tr>\n",
       "    <tr>\n",
       "      <th>8</th>\n",
       "      <td>8</td>\n",
       "      <td>336.629506</td>\n",
       "    </tr>\n",
       "    <tr>\n",
       "      <th>9</th>\n",
       "      <td>9</td>\n",
       "      <td>350.851222</td>\n",
       "    </tr>\n",
       "  </tbody>\n",
       "</table>\n",
       "</div>"
      ],
      "text/plain": [
       "   Days    Reaction\n",
       "0     0  256.651806\n",
       "1     1  264.495756\n",
       "2     2  265.361900\n",
       "3     3  282.992011\n",
       "4     4  288.649422\n",
       "5     5  308.518456\n",
       "6     6  312.178256\n",
       "7     7  318.750583\n",
       "8     8  336.629506\n",
       "9     9  350.851222"
      ]
     },
     "execution_count": 181,
     "metadata": {},
     "output_type": "execute_result"
    }
   ],
   "source": [
    "slp_r = slp[['Days', 'Reaction']].groupby(slp.Days).Reaction.mean().reset_index()\n",
    "slp_r"
   ]
  },
  {
   "cell_type": "code",
   "execution_count": 182,
   "id": "13f79f78",
   "metadata": {},
   "outputs": [
    {
     "data": {
      "text/plain": [
       "(0.5228138502259547, 5.132878057706873e-14)"
      ]
     },
     "execution_count": 182,
     "metadata": {},
     "output_type": "execute_result"
    }
   ],
   "source": [
    "corr, x = stats.spearmanr(slp.Days, slp.Reaction)\n",
    "corr, x"
   ]
  },
  {
   "cell_type": "markdown",
   "id": "3bb54b52",
   "metadata": {},
   "source": [
    "### Answer with the type of stats test you would use (assume normal distribution):\n",
    "\n",
    "1. Do students get better test grades if they have a rubber duck on their desk?\n"
   ]
  },
  {
   "cell_type": "markdown",
   "id": "75b379e3",
   "metadata": {},
   "source": [
    "- 1 sample t-test"
   ]
  },
  {
   "cell_type": "markdown",
   "id": "80a783d3",
   "metadata": {},
   "source": [
    "2. Does smoking affect when or not someone has lung cancer?\n"
   ]
  },
  {
   "cell_type": "markdown",
   "id": "82cfbf7b",
   "metadata": {},
   "source": [
    "- Chi-Square Contingency Test"
   ]
  },
  {
   "cell_type": "markdown",
   "id": "ae11a1dc",
   "metadata": {},
   "source": [
    "3. Is gender independent of a person’s blood type?\n"
   ]
  },
  {
   "cell_type": "markdown",
   "id": "3c64574a",
   "metadata": {},
   "source": [
    "- Chi-Square Contigency Test"
   ]
  },
  {
   "cell_type": "markdown",
   "id": "33fcc1d3",
   "metadata": {},
   "source": [
    "4. A farming company wants to know if a new fertilizer has improved crop yield or not\n"
   ]
  },
  {
   "cell_type": "markdown",
   "id": "939c2a78",
   "metadata": {},
   "source": [
    "- 2 Sample t-test"
   ]
  },
  {
   "cell_type": "markdown",
   "id": "174369fa",
   "metadata": {},
   "source": [
    "5 .Does the length of time of the lecture correlate with a students grade?\n"
   ]
  },
  {
   "cell_type": "markdown",
   "id": "f078cbef",
   "metadata": {},
   "source": [
    "- 2 Sample t-test"
   ]
  },
  {
   "cell_type": "markdown",
   "id": "4f105de8",
   "metadata": {},
   "source": [
    "6. Do people with dogs live in apartments more than people with cats?\n"
   ]
  },
  {
   "cell_type": "markdown",
   "id": "07b0622f",
   "metadata": {},
   "source": [
    "- Chi-Square Contingency Test"
   ]
  },
  {
   "cell_type": "markdown",
   "id": "5e4b4b51",
   "metadata": {},
   "source": [
    "7. Use the following contingency table to help answer the question of whether using a macbook and being a codeup student are independent of each other."
   ]
  },
  {
   "cell_type": "code",
   "execution_count": 70,
   "id": "fbd90dc3",
   "metadata": {},
   "outputs": [],
   "source": [
    "import pandas as pd\n",
    "import numpy as np\n",
    "import seaborn as sns\n",
    "from scipy import stats\n",
    "from pydataset import data"
   ]
  },
  {
   "cell_type": "code",
   "execution_count": 67,
   "id": "12a93963",
   "metadata": {},
   "outputs": [],
   "source": [
    "alpha = 0.05\n",
    "\n",
    "def eval_results(p, alpha, group1, group2):\n",
    "    '''\n",
    "    this function will take in the p-value, alpha, and a name for the 2 variables \n",
    "    you are comparing (group 1 and group 2)\n",
    "    '''\n",
    "    if p < alpha:\n",
    "        print(f'There exists some relationship between {group1} and the {group2}. (p-value: {p})')\n",
    "    else:\n",
    "        print(f'There is not a significant relationship between {group1} and {group2}. (p-value: {p})')\n"
   ]
  },
  {
   "cell_type": "code",
   "execution_count": 62,
   "id": "e29ce4a1",
   "metadata": {},
   "outputs": [
    {
     "data": {
      "text/html": [
       "<div>\n",
       "<style scoped>\n",
       "    .dataframe tbody tr th:only-of-type {\n",
       "        vertical-align: middle;\n",
       "    }\n",
       "\n",
       "    .dataframe tbody tr th {\n",
       "        vertical-align: top;\n",
       "    }\n",
       "\n",
       "    .dataframe thead th {\n",
       "        text-align: right;\n",
       "    }\n",
       "</style>\n",
       "<table border=\"1\" class=\"dataframe\">\n",
       "  <thead>\n",
       "    <tr style=\"text-align: right;\">\n",
       "      <th></th>\n",
       "      <th>Codeup Student</th>\n",
       "      <th>Not Codeup Student</th>\n",
       "    </tr>\n",
       "  </thead>\n",
       "  <tbody>\n",
       "    <tr>\n",
       "      <th>0</th>\n",
       "      <td>1</td>\n",
       "      <td>30</td>\n",
       "    </tr>\n",
       "    <tr>\n",
       "      <th>1</th>\n",
       "      <td>49</td>\n",
       "      <td>20</td>\n",
       "    </tr>\n",
       "  </tbody>\n",
       "</table>\n",
       "</div>"
      ],
      "text/plain": [
       "   Codeup Student  Not Codeup Student\n",
       "0               1                  30\n",
       "1              49                  20"
      ]
     },
     "execution_count": 62,
     "metadata": {},
     "output_type": "execute_result"
    }
   ],
   "source": [
    "data = {'Codeup Student': [1, 49], 'Not Codeup Student': [30, 20]}\n",
    "students = pd.DataFrame(data)\n",
    "students"
   ]
  },
  {
   "cell_type": "code",
   "execution_count": 63,
   "id": "283fe9c9",
   "metadata": {},
   "outputs": [],
   "source": [
    "chi2, p, degf, expected = stats.chi2_contingency(students)"
   ]
  },
  {
   "cell_type": "code",
   "execution_count": 66,
   "id": "3dcd3b81",
   "metadata": {},
   "outputs": [
    {
     "name": "stdout",
     "output_type": "stream",
     "text": [
      "36.65264142122487\n",
      "1.4116760526193828e-09\n",
      "1\n",
      "[[15.5 15.5]\n",
      " [34.5 34.5]]\n"
     ]
    }
   ],
   "source": [
    "print(chi2)\n",
    "print(p)\n",
    "print(degf)\n",
    "print(expected)"
   ]
  },
  {
   "cell_type": "code",
   "execution_count": 68,
   "id": "9cece911",
   "metadata": {},
   "outputs": [
    {
     "name": "stdout",
     "output_type": "stream",
     "text": [
      "There exists some relationship between Codeup Student and the Not Codeup Student. (p-value: 1.4116760526193828e-09)\n"
     ]
    }
   ],
   "source": [
    "eval_results(p, alpha, group1='Codeup Student', group2='Not Codeup Student')"
   ]
  },
  {
   "cell_type": "code",
   "execution_count": 73,
   "id": "f0875e3f",
   "metadata": {},
   "outputs": [
    {
     "data": {
      "text/html": [
       "<div>\n",
       "<style scoped>\n",
       "    .dataframe tbody tr th:only-of-type {\n",
       "        vertical-align: middle;\n",
       "    }\n",
       "\n",
       "    .dataframe tbody tr th {\n",
       "        vertical-align: top;\n",
       "    }\n",
       "\n",
       "    .dataframe thead th {\n",
       "        text-align: right;\n",
       "    }\n",
       "</style>\n",
       "<table border=\"1\" class=\"dataframe\">\n",
       "  <thead>\n",
       "    <tr style=\"text-align: right;\">\n",
       "      <th></th>\n",
       "      <th>manufacturer</th>\n",
       "      <th>model</th>\n",
       "      <th>displ</th>\n",
       "      <th>year</th>\n",
       "      <th>cyl</th>\n",
       "      <th>trans</th>\n",
       "      <th>drv</th>\n",
       "      <th>cty</th>\n",
       "      <th>hwy</th>\n",
       "      <th>fl</th>\n",
       "      <th>class</th>\n",
       "    </tr>\n",
       "  </thead>\n",
       "  <tbody>\n",
       "    <tr>\n",
       "      <th>1</th>\n",
       "      <td>audi</td>\n",
       "      <td>a4</td>\n",
       "      <td>1.8</td>\n",
       "      <td>1999</td>\n",
       "      <td>4</td>\n",
       "      <td>auto(l5)</td>\n",
       "      <td>f</td>\n",
       "      <td>18</td>\n",
       "      <td>29</td>\n",
       "      <td>p</td>\n",
       "      <td>compact</td>\n",
       "    </tr>\n",
       "    <tr>\n",
       "      <th>2</th>\n",
       "      <td>audi</td>\n",
       "      <td>a4</td>\n",
       "      <td>1.8</td>\n",
       "      <td>1999</td>\n",
       "      <td>4</td>\n",
       "      <td>manual(m5)</td>\n",
       "      <td>f</td>\n",
       "      <td>21</td>\n",
       "      <td>29</td>\n",
       "      <td>p</td>\n",
       "      <td>compact</td>\n",
       "    </tr>\n",
       "    <tr>\n",
       "      <th>3</th>\n",
       "      <td>audi</td>\n",
       "      <td>a4</td>\n",
       "      <td>2.0</td>\n",
       "      <td>2008</td>\n",
       "      <td>4</td>\n",
       "      <td>manual(m6)</td>\n",
       "      <td>f</td>\n",
       "      <td>20</td>\n",
       "      <td>31</td>\n",
       "      <td>p</td>\n",
       "      <td>compact</td>\n",
       "    </tr>\n",
       "    <tr>\n",
       "      <th>4</th>\n",
       "      <td>audi</td>\n",
       "      <td>a4</td>\n",
       "      <td>2.0</td>\n",
       "      <td>2008</td>\n",
       "      <td>4</td>\n",
       "      <td>auto(av)</td>\n",
       "      <td>f</td>\n",
       "      <td>21</td>\n",
       "      <td>30</td>\n",
       "      <td>p</td>\n",
       "      <td>compact</td>\n",
       "    </tr>\n",
       "    <tr>\n",
       "      <th>5</th>\n",
       "      <td>audi</td>\n",
       "      <td>a4</td>\n",
       "      <td>2.8</td>\n",
       "      <td>1999</td>\n",
       "      <td>6</td>\n",
       "      <td>auto(l5)</td>\n",
       "      <td>f</td>\n",
       "      <td>16</td>\n",
       "      <td>26</td>\n",
       "      <td>p</td>\n",
       "      <td>compact</td>\n",
       "    </tr>\n",
       "  </tbody>\n",
       "</table>\n",
       "</div>"
      ],
      "text/plain": [
       "  manufacturer model  displ  year  cyl       trans drv  cty  hwy fl    class\n",
       "1         audi    a4    1.8  1999    4    auto(l5)   f   18   29  p  compact\n",
       "2         audi    a4    1.8  1999    4  manual(m5)   f   21   29  p  compact\n",
       "3         audi    a4    2.0  2008    4  manual(m6)   f   20   31  p  compact\n",
       "4         audi    a4    2.0  2008    4    auto(av)   f   21   30  p  compact\n",
       "5         audi    a4    2.8  1999    6    auto(l5)   f   16   26  p  compact"
      ]
     },
     "execution_count": 73,
     "metadata": {},
     "output_type": "execute_result"
    }
   ],
   "source": [
    "mpg = data('mpg')\n",
    "mpg = pd.DataFrame(mpg)\n",
    "mpg.head()"
   ]
  },
  {
   "cell_type": "code",
   "execution_count": 77,
   "id": "70df28d0",
   "metadata": {},
   "outputs": [
    {
     "data": {
      "text/html": [
       "<div>\n",
       "<style scoped>\n",
       "    .dataframe tbody tr th:only-of-type {\n",
       "        vertical-align: middle;\n",
       "    }\n",
       "\n",
       "    .dataframe tbody tr th {\n",
       "        vertical-align: top;\n",
       "    }\n",
       "\n",
       "    .dataframe thead th {\n",
       "        text-align: right;\n",
       "    }\n",
       "</style>\n",
       "<table border=\"1\" class=\"dataframe\">\n",
       "  <thead>\n",
       "    <tr style=\"text-align: right;\">\n",
       "      <th>cyl</th>\n",
       "      <th>4</th>\n",
       "      <th>5</th>\n",
       "      <th>6</th>\n",
       "      <th>8</th>\n",
       "    </tr>\n",
       "    <tr>\n",
       "      <th>year</th>\n",
       "      <th></th>\n",
       "      <th></th>\n",
       "      <th></th>\n",
       "      <th></th>\n",
       "    </tr>\n",
       "  </thead>\n",
       "  <tbody>\n",
       "    <tr>\n",
       "      <th>1999</th>\n",
       "      <td>45</td>\n",
       "      <td>0</td>\n",
       "      <td>45</td>\n",
       "      <td>27</td>\n",
       "    </tr>\n",
       "    <tr>\n",
       "      <th>2008</th>\n",
       "      <td>36</td>\n",
       "      <td>4</td>\n",
       "      <td>34</td>\n",
       "      <td>43</td>\n",
       "    </tr>\n",
       "  </tbody>\n",
       "</table>\n",
       "</div>"
      ],
      "text/plain": [
       "cyl    4  5   6   8\n",
       "year               \n",
       "1999  45  0  45  27\n",
       "2008  36  4  34  43"
      ]
     },
     "execution_count": 77,
     "metadata": {},
     "output_type": "execute_result"
    }
   ],
   "source": [
    "# Is there a relationshiip between year and cylinder\n",
    "observed = pd.crosstab(mpg['year'], mpg['cyl'])\n",
    "observed"
   ]
  },
  {
   "cell_type": "code",
   "execution_count": 80,
   "id": "f5003141",
   "metadata": {},
   "outputs": [
    {
     "data": {
      "text/plain": [
       "0.01702768537665195"
      ]
     },
     "execution_count": 80,
     "metadata": {},
     "output_type": "execute_result"
    }
   ],
   "source": [
    "chi2, p2, degf, expected = stats.chi2_contingency(observed)\n",
    "p2"
   ]
  },
  {
   "cell_type": "code",
   "execution_count": 81,
   "id": "8a4b10b6",
   "metadata": {},
   "outputs": [
    {
     "name": "stdout",
     "output_type": "stream",
     "text": [
      "There exists some relationship between year and the cyl. (p-value: 0.01702768537665195)\n"
     ]
    }
   ],
   "source": [
    "eval_results(p2, alpha, group1='year', group2='cyl')"
   ]
  },
  {
   "cell_type": "code",
   "execution_count": 133,
   "id": "87b41ac9",
   "metadata": {},
   "outputs": [
    {
     "data": {
      "text/html": [
       "<div>\n",
       "<style scoped>\n",
       "    .dataframe tbody tr th:only-of-type {\n",
       "        vertical-align: middle;\n",
       "    }\n",
       "\n",
       "    .dataframe tbody tr th {\n",
       "        vertical-align: top;\n",
       "    }\n",
       "\n",
       "    .dataframe thead th {\n",
       "        text-align: right;\n",
       "    }\n",
       "</style>\n",
       "<table border=\"1\" class=\"dataframe\">\n",
       "  <thead>\n",
       "    <tr style=\"text-align: right;\">\n",
       "      <th></th>\n",
       "      <th>emp_no</th>\n",
       "      <th>birth_date</th>\n",
       "      <th>first_name</th>\n",
       "      <th>last_name</th>\n",
       "      <th>gender</th>\n",
       "      <th>hire_date</th>\n",
       "      <th>emp_no</th>\n",
       "      <th>dept_no</th>\n",
       "      <th>from_date</th>\n",
       "      <th>to_date</th>\n",
       "      <th>emp_no</th>\n",
       "      <th>title</th>\n",
       "      <th>from_date</th>\n",
       "      <th>to_date</th>\n",
       "    </tr>\n",
       "  </thead>\n",
       "  <tbody>\n",
       "    <tr>\n",
       "      <th>0</th>\n",
       "      <td>10001</td>\n",
       "      <td>1953-09-02</td>\n",
       "      <td>Georgi</td>\n",
       "      <td>Facello</td>\n",
       "      <td>M</td>\n",
       "      <td>1986-06-26</td>\n",
       "      <td>10001</td>\n",
       "      <td>d005</td>\n",
       "      <td>1986-06-26</td>\n",
       "      <td>9999-01-01</td>\n",
       "      <td>10001</td>\n",
       "      <td>Senior Engineer</td>\n",
       "      <td>1986-06-26</td>\n",
       "      <td>9999-01-01</td>\n",
       "    </tr>\n",
       "    <tr>\n",
       "      <th>1</th>\n",
       "      <td>10002</td>\n",
       "      <td>1964-06-02</td>\n",
       "      <td>Bezalel</td>\n",
       "      <td>Simmel</td>\n",
       "      <td>F</td>\n",
       "      <td>1985-11-21</td>\n",
       "      <td>10002</td>\n",
       "      <td>d007</td>\n",
       "      <td>1996-08-03</td>\n",
       "      <td>9999-01-01</td>\n",
       "      <td>10002</td>\n",
       "      <td>Staff</td>\n",
       "      <td>1996-08-03</td>\n",
       "      <td>9999-01-01</td>\n",
       "    </tr>\n",
       "    <tr>\n",
       "      <th>2</th>\n",
       "      <td>10003</td>\n",
       "      <td>1959-12-03</td>\n",
       "      <td>Parto</td>\n",
       "      <td>Bamford</td>\n",
       "      <td>M</td>\n",
       "      <td>1986-08-28</td>\n",
       "      <td>10003</td>\n",
       "      <td>d004</td>\n",
       "      <td>1995-12-03</td>\n",
       "      <td>9999-01-01</td>\n",
       "      <td>10003</td>\n",
       "      <td>Senior Engineer</td>\n",
       "      <td>1995-12-03</td>\n",
       "      <td>9999-01-01</td>\n",
       "    </tr>\n",
       "    <tr>\n",
       "      <th>3</th>\n",
       "      <td>10004</td>\n",
       "      <td>1954-05-01</td>\n",
       "      <td>Chirstian</td>\n",
       "      <td>Koblick</td>\n",
       "      <td>M</td>\n",
       "      <td>1986-12-01</td>\n",
       "      <td>10004</td>\n",
       "      <td>d004</td>\n",
       "      <td>1986-12-01</td>\n",
       "      <td>9999-01-01</td>\n",
       "      <td>10004</td>\n",
       "      <td>Senior Engineer</td>\n",
       "      <td>1995-12-01</td>\n",
       "      <td>9999-01-01</td>\n",
       "    </tr>\n",
       "    <tr>\n",
       "      <th>4</th>\n",
       "      <td>10005</td>\n",
       "      <td>1955-01-21</td>\n",
       "      <td>Kyoichi</td>\n",
       "      <td>Maliniak</td>\n",
       "      <td>M</td>\n",
       "      <td>1989-09-12</td>\n",
       "      <td>10005</td>\n",
       "      <td>d003</td>\n",
       "      <td>1989-09-12</td>\n",
       "      <td>9999-01-01</td>\n",
       "      <td>10005</td>\n",
       "      <td>Senior Staff</td>\n",
       "      <td>1996-09-12</td>\n",
       "      <td>9999-01-01</td>\n",
       "    </tr>\n",
       "  </tbody>\n",
       "</table>\n",
       "</div>"
      ],
      "text/plain": [
       "   emp_no  birth_date first_name last_name gender   hire_date  emp_no dept_no  \\\n",
       "0   10001  1953-09-02     Georgi   Facello      M  1986-06-26   10001    d005   \n",
       "1   10002  1964-06-02    Bezalel    Simmel      F  1985-11-21   10002    d007   \n",
       "2   10003  1959-12-03      Parto   Bamford      M  1986-08-28   10003    d004   \n",
       "3   10004  1954-05-01  Chirstian   Koblick      M  1986-12-01   10004    d004   \n",
       "4   10005  1955-01-21    Kyoichi  Maliniak      M  1989-09-12   10005    d003   \n",
       "\n",
       "    from_date     to_date  emp_no            title   from_date     to_date  \n",
       "0  1986-06-26  9999-01-01   10001  Senior Engineer  1986-06-26  9999-01-01  \n",
       "1  1996-08-03  9999-01-01   10002            Staff  1996-08-03  9999-01-01  \n",
       "2  1995-12-03  9999-01-01   10003  Senior Engineer  1995-12-03  9999-01-01  \n",
       "3  1986-12-01  9999-01-01   10004  Senior Engineer  1995-12-01  9999-01-01  \n",
       "4  1989-09-12  9999-01-01   10005     Senior Staff  1996-09-12  9999-01-01  "
      ]
     },
     "execution_count": 133,
     "metadata": {},
     "output_type": "execute_result"
    }
   ],
   "source": [
    "import env\n",
    "\n",
    "db_url = f'mysql+pymysql://{env.username}:{env.password}@{env.hostname}/employees'\n",
    "df = pd.read_sql('SELECT * FROM employees AS e ' \n",
    "                 'JOIN dept_emp AS de ON de.emp_no = e.emp_no AND de.to_date > CURDATE() '\n",
    "                 'JOIN titles AS t ON t.emp_no = e.emp_no AND t.to_date > CURDATE()', db_url)\n",
    "df.head()"
   ]
  },
  {
   "cell_type": "markdown",
   "id": "094c938f",
   "metadata": {},
   "source": [
    "### Is an employee's gender independent of whether an employee works in sales or marketing? (only look at current employees)"
   ]
  },
  {
   "cell_type": "code",
   "execution_count": 134,
   "id": "dccebdd2",
   "metadata": {},
   "outputs": [
    {
     "data": {
      "text/html": [
       "<div>\n",
       "<style scoped>\n",
       "    .dataframe tbody tr th:only-of-type {\n",
       "        vertical-align: middle;\n",
       "    }\n",
       "\n",
       "    .dataframe tbody tr th {\n",
       "        vertical-align: top;\n",
       "    }\n",
       "\n",
       "    .dataframe thead th {\n",
       "        text-align: right;\n",
       "    }\n",
       "</style>\n",
       "<table border=\"1\" class=\"dataframe\">\n",
       "  <thead>\n",
       "    <tr style=\"text-align: right;\">\n",
       "      <th></th>\n",
       "      <th>first_name</th>\n",
       "      <th>last_name</th>\n",
       "      <th>gender</th>\n",
       "      <th>dept_no</th>\n",
       "      <th>title</th>\n",
       "    </tr>\n",
       "  </thead>\n",
       "  <tbody>\n",
       "    <tr>\n",
       "      <th>0</th>\n",
       "      <td>Georgi</td>\n",
       "      <td>Facello</td>\n",
       "      <td>M</td>\n",
       "      <td>d005</td>\n",
       "      <td>Senior Engineer</td>\n",
       "    </tr>\n",
       "    <tr>\n",
       "      <th>1</th>\n",
       "      <td>Bezalel</td>\n",
       "      <td>Simmel</td>\n",
       "      <td>F</td>\n",
       "      <td>d007</td>\n",
       "      <td>Staff</td>\n",
       "    </tr>\n",
       "    <tr>\n",
       "      <th>2</th>\n",
       "      <td>Parto</td>\n",
       "      <td>Bamford</td>\n",
       "      <td>M</td>\n",
       "      <td>d004</td>\n",
       "      <td>Senior Engineer</td>\n",
       "    </tr>\n",
       "    <tr>\n",
       "      <th>3</th>\n",
       "      <td>Chirstian</td>\n",
       "      <td>Koblick</td>\n",
       "      <td>M</td>\n",
       "      <td>d004</td>\n",
       "      <td>Senior Engineer</td>\n",
       "    </tr>\n",
       "    <tr>\n",
       "      <th>4</th>\n",
       "      <td>Kyoichi</td>\n",
       "      <td>Maliniak</td>\n",
       "      <td>M</td>\n",
       "      <td>d003</td>\n",
       "      <td>Senior Staff</td>\n",
       "    </tr>\n",
       "  </tbody>\n",
       "</table>\n",
       "</div>"
      ],
      "text/plain": [
       "  first_name last_name gender dept_no            title\n",
       "0     Georgi   Facello      M    d005  Senior Engineer\n",
       "1    Bezalel    Simmel      F    d007            Staff\n",
       "2      Parto   Bamford      M    d004  Senior Engineer\n",
       "3  Chirstian   Koblick      M    d004  Senior Engineer\n",
       "4    Kyoichi  Maliniak      M    d003     Senior Staff"
      ]
     },
     "execution_count": 134,
     "metadata": {},
     "output_type": "execute_result"
    }
   ],
   "source": [
    "df = df.drop(columns=['hire_date', 'emp_no', 'birth_date', 'from_date', 'to_date'])\n",
    "df.head()"
   ]
  },
  {
   "cell_type": "code",
   "execution_count": 135,
   "id": "230b723c",
   "metadata": {},
   "outputs": [
    {
     "data": {
      "text/html": [
       "<div>\n",
       "<style scoped>\n",
       "    .dataframe tbody tr th:only-of-type {\n",
       "        vertical-align: middle;\n",
       "    }\n",
       "\n",
       "    .dataframe tbody tr th {\n",
       "        vertical-align: top;\n",
       "    }\n",
       "\n",
       "    .dataframe thead th {\n",
       "        text-align: right;\n",
       "    }\n",
       "</style>\n",
       "<table border=\"1\" class=\"dataframe\">\n",
       "  <thead>\n",
       "    <tr style=\"text-align: right;\">\n",
       "      <th>gender</th>\n",
       "      <th>F</th>\n",
       "      <th>M</th>\n",
       "    </tr>\n",
       "    <tr>\n",
       "      <th>dept_no</th>\n",
       "      <th></th>\n",
       "      <th></th>\n",
       "    </tr>\n",
       "  </thead>\n",
       "  <tbody>\n",
       "    <tr>\n",
       "      <th>d001</th>\n",
       "      <td>5864</td>\n",
       "      <td>8978</td>\n",
       "    </tr>\n",
       "    <tr>\n",
       "      <th>d007</th>\n",
       "      <td>14999</td>\n",
       "      <td>22702</td>\n",
       "    </tr>\n",
       "  </tbody>\n",
       "</table>\n",
       "</div>"
      ],
      "text/plain": [
       "gender       F      M\n",
       "dept_no              \n",
       "d001      5864   8978\n",
       "d007     14999  22702"
      ]
     },
     "execution_count": 135,
     "metadata": {},
     "output_type": "execute_result"
    }
   ],
   "source": [
    "# d001 - Marketing\n",
    "# d007 - Sales \n",
    "df1 = df[(df['dept_no']=='d001') | (df['dept_no']=='d007')]\n",
    "\n",
    "\n",
    "table = pd.crosstab(df1['dept_no'], df1['gender'])\n",
    "table"
   ]
  },
  {
   "cell_type": "code",
   "execution_count": 136,
   "id": "8b550765",
   "metadata": {},
   "outputs": [
    {
     "data": {
      "text/plain": [
       "0.5691938610810126"
      ]
     },
     "execution_count": 136,
     "metadata": {},
     "output_type": "execute_result"
    }
   ],
   "source": [
    "chi2, p3, degf, expected = stats.chi2_contingency(table)\n",
    "p3"
   ]
  },
  {
   "cell_type": "code",
   "execution_count": 137,
   "id": "d36157de",
   "metadata": {},
   "outputs": [
    {
     "name": "stdout",
     "output_type": "stream",
     "text": [
      "There is not a significant relationship between Sales or Marketing and gender. (p-value: 0.5691938610810126)\n"
     ]
    }
   ],
   "source": [
    "eval_results(p3, alpha, group1='Sales or Marketing', group2='gender')"
   ]
  },
  {
   "cell_type": "markdown",
   "id": "a1fc3be5",
   "metadata": {},
   "source": [
    "### Is an employee's gender independent of whether or not they are or have been a manager?"
   ]
  },
  {
   "cell_type": "code",
   "execution_count": 139,
   "id": "e7d5a46f",
   "metadata": {},
   "outputs": [
    {
     "data": {
      "text/html": [
       "<div>\n",
       "<style scoped>\n",
       "    .dataframe tbody tr th:only-of-type {\n",
       "        vertical-align: middle;\n",
       "    }\n",
       "\n",
       "    .dataframe tbody tr th {\n",
       "        vertical-align: top;\n",
       "    }\n",
       "\n",
       "    .dataframe thead th {\n",
       "        text-align: right;\n",
       "    }\n",
       "</style>\n",
       "<table border=\"1\" class=\"dataframe\">\n",
       "  <thead>\n",
       "    <tr style=\"text-align: right;\">\n",
       "      <th></th>\n",
       "      <th>first_name</th>\n",
       "      <th>last_name</th>\n",
       "      <th>gender</th>\n",
       "      <th>dept_no</th>\n",
       "      <th>title</th>\n",
       "      <th>is_manager</th>\n",
       "    </tr>\n",
       "  </thead>\n",
       "  <tbody>\n",
       "    <tr>\n",
       "      <th>0</th>\n",
       "      <td>Georgi</td>\n",
       "      <td>Facello</td>\n",
       "      <td>M</td>\n",
       "      <td>d005</td>\n",
       "      <td>Senior Engineer</td>\n",
       "      <td>False</td>\n",
       "    </tr>\n",
       "    <tr>\n",
       "      <th>1</th>\n",
       "      <td>Bezalel</td>\n",
       "      <td>Simmel</td>\n",
       "      <td>F</td>\n",
       "      <td>d007</td>\n",
       "      <td>Staff</td>\n",
       "      <td>False</td>\n",
       "    </tr>\n",
       "    <tr>\n",
       "      <th>2</th>\n",
       "      <td>Parto</td>\n",
       "      <td>Bamford</td>\n",
       "      <td>M</td>\n",
       "      <td>d004</td>\n",
       "      <td>Senior Engineer</td>\n",
       "      <td>False</td>\n",
       "    </tr>\n",
       "    <tr>\n",
       "      <th>3</th>\n",
       "      <td>Chirstian</td>\n",
       "      <td>Koblick</td>\n",
       "      <td>M</td>\n",
       "      <td>d004</td>\n",
       "      <td>Senior Engineer</td>\n",
       "      <td>False</td>\n",
       "    </tr>\n",
       "    <tr>\n",
       "      <th>4</th>\n",
       "      <td>Kyoichi</td>\n",
       "      <td>Maliniak</td>\n",
       "      <td>M</td>\n",
       "      <td>d003</td>\n",
       "      <td>Senior Staff</td>\n",
       "      <td>False</td>\n",
       "    </tr>\n",
       "    <tr>\n",
       "      <th>...</th>\n",
       "      <td>...</td>\n",
       "      <td>...</td>\n",
       "      <td>...</td>\n",
       "      <td>...</td>\n",
       "      <td>...</td>\n",
       "      <td>...</td>\n",
       "    </tr>\n",
       "    <tr>\n",
       "      <th>240119</th>\n",
       "      <td>Dekang</td>\n",
       "      <td>Lichtner</td>\n",
       "      <td>F</td>\n",
       "      <td>d004</td>\n",
       "      <td>Engineer</td>\n",
       "      <td>False</td>\n",
       "    </tr>\n",
       "    <tr>\n",
       "      <th>240120</th>\n",
       "      <td>Zito</td>\n",
       "      <td>Baaz</td>\n",
       "      <td>M</td>\n",
       "      <td>d004</td>\n",
       "      <td>Senior Engineer</td>\n",
       "      <td>False</td>\n",
       "    </tr>\n",
       "    <tr>\n",
       "      <th>240121</th>\n",
       "      <td>Berhard</td>\n",
       "      <td>Lenart</td>\n",
       "      <td>M</td>\n",
       "      <td>d005</td>\n",
       "      <td>Senior Engineer</td>\n",
       "      <td>False</td>\n",
       "    </tr>\n",
       "    <tr>\n",
       "      <th>240122</th>\n",
       "      <td>Patricia</td>\n",
       "      <td>Breugel</td>\n",
       "      <td>M</td>\n",
       "      <td>d002</td>\n",
       "      <td>Senior Staff</td>\n",
       "      <td>False</td>\n",
       "    </tr>\n",
       "    <tr>\n",
       "      <th>240123</th>\n",
       "      <td>Sachin</td>\n",
       "      <td>Tsukuda</td>\n",
       "      <td>M</td>\n",
       "      <td>d004</td>\n",
       "      <td>Engineer</td>\n",
       "      <td>False</td>\n",
       "    </tr>\n",
       "  </tbody>\n",
       "</table>\n",
       "<p>240124 rows × 6 columns</p>\n",
       "</div>"
      ],
      "text/plain": [
       "       first_name last_name gender dept_no            title  is_manager\n",
       "0          Georgi   Facello      M    d005  Senior Engineer       False\n",
       "1         Bezalel    Simmel      F    d007            Staff       False\n",
       "2           Parto   Bamford      M    d004  Senior Engineer       False\n",
       "3       Chirstian   Koblick      M    d004  Senior Engineer       False\n",
       "4         Kyoichi  Maliniak      M    d003     Senior Staff       False\n",
       "...           ...       ...    ...     ...              ...         ...\n",
       "240119     Dekang  Lichtner      F    d004         Engineer       False\n",
       "240120       Zito      Baaz      M    d004  Senior Engineer       False\n",
       "240121    Berhard    Lenart      M    d005  Senior Engineer       False\n",
       "240122   Patricia   Breugel      M    d002     Senior Staff       False\n",
       "240123     Sachin   Tsukuda      M    d004         Engineer       False\n",
       "\n",
       "[240124 rows x 6 columns]"
      ]
     },
     "execution_count": 139,
     "metadata": {},
     "output_type": "execute_result"
    }
   ],
   "source": [
    "df['is_manager'] = df['title']=='Manager'\n",
    "df"
   ]
  },
  {
   "cell_type": "code",
   "execution_count": 140,
   "id": "4730cc03",
   "metadata": {},
   "outputs": [
    {
     "data": {
      "text/html": [
       "<div>\n",
       "<style scoped>\n",
       "    .dataframe tbody tr th:only-of-type {\n",
       "        vertical-align: middle;\n",
       "    }\n",
       "\n",
       "    .dataframe tbody tr th {\n",
       "        vertical-align: top;\n",
       "    }\n",
       "\n",
       "    .dataframe thead th {\n",
       "        text-align: right;\n",
       "    }\n",
       "</style>\n",
       "<table border=\"1\" class=\"dataframe\">\n",
       "  <thead>\n",
       "    <tr style=\"text-align: right;\">\n",
       "      <th>gender</th>\n",
       "      <th>F</th>\n",
       "      <th>M</th>\n",
       "    </tr>\n",
       "    <tr>\n",
       "      <th>is_manager</th>\n",
       "      <th></th>\n",
       "      <th></th>\n",
       "    </tr>\n",
       "  </thead>\n",
       "  <tbody>\n",
       "    <tr>\n",
       "      <th>False</th>\n",
       "      <td>96006</td>\n",
       "      <td>144109</td>\n",
       "    </tr>\n",
       "    <tr>\n",
       "      <th>True</th>\n",
       "      <td>4</td>\n",
       "      <td>5</td>\n",
       "    </tr>\n",
       "  </tbody>\n",
       "</table>\n",
       "</div>"
      ],
      "text/plain": [
       "gender          F       M\n",
       "is_manager               \n",
       "False       96006  144109\n",
       "True            4       5"
      ]
     },
     "execution_count": 140,
     "metadata": {},
     "output_type": "execute_result"
    }
   ],
   "source": [
    "table1 = pd.crosstab(df['is_manager'], df['gender'])\n",
    "table1"
   ]
  },
  {
   "cell_type": "code",
   "execution_count": 141,
   "id": "c651b248",
   "metadata": {},
   "outputs": [
    {
     "data": {
      "text/plain": [
       "1.0"
      ]
     },
     "execution_count": 141,
     "metadata": {},
     "output_type": "execute_result"
    }
   ],
   "source": [
    "chi2, p4, degf, expected = stats.chi2_contingency(table1)\n",
    "p4"
   ]
  },
  {
   "cell_type": "code",
   "execution_count": 142,
   "id": "bcf0d3c3",
   "metadata": {},
   "outputs": [
    {
     "name": "stdout",
     "output_type": "stream",
     "text": [
      "There is not a significant relationship between is_manager and gender. (p-value: 0.5691938610810126)\n"
     ]
    }
   ],
   "source": [
    "eval_results(p3, alpha, group1='is_manager', group2='gender')"
   ]
  },
  {
   "cell_type": "code",
   "execution_count": null,
   "id": "1ada8d92",
   "metadata": {},
   "outputs": [],
   "source": []
  }
 ],
 "metadata": {
  "kernelspec": {
   "display_name": "Python 3 (ipykernel)",
   "language": "python",
   "name": "python3"
  },
  "language_info": {
   "codemirror_mode": {
    "name": "ipython",
    "version": 3
   },
   "file_extension": ".py",
   "mimetype": "text/x-python",
   "name": "python",
   "nbconvert_exporter": "python",
   "pygments_lexer": "ipython3",
   "version": "3.9.13"
  }
 },
 "nbformat": 4,
 "nbformat_minor": 5
}
