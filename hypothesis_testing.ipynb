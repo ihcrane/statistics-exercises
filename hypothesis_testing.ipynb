{
 "cells": [
  {
   "cell_type": "code",
   "execution_count": 1,
   "id": "0d75e883",
   "metadata": {},
   "outputs": [],
   "source": [
    "# 1. Has the network latency gone up since we switched internet service providers?\n",
    "\n",
    "# null hypothesis: There is no change in network latency since we switched internet providers\n",
    "# alternate hypothesis: The network latency has gone up since we switched internet providers\n",
    "\n",
    "# true positive: The network latency has increased since the switch to the new internet provider \n",
    "# true negative: The network latency has not increased since the switch to the new internet provider\n",
    "# type I error: The network latency has not increased, however, the sample data suggests it has.\n",
    "# type II error: The network latency has increased, however, the sample data suggests it did not."
   ]
  },
  {
   "cell_type": "code",
   "execution_count": 2,
   "id": "955d63b9",
   "metadata": {},
   "outputs": [],
   "source": [
    "# 2. Is the website redesign any good?\n",
    "# Rewording: Is the website redesign has increased sales.\n",
    "\n",
    "# null hypothesis: The website redesign did not increase sales.\n",
    "# alternate hypothesis: The website redesign increased sales.\n",
    "\n",
    "# true positive: The website redesign increased sales\n",
    "# true negative: The website redesign did not increase sales.\n",
    "# type 1 error: The website redesign did not increase sales, however, the sample data suggests it did.\n",
    "# type 2 error: The website redesign increased sales, however, the sample data suggests it did not.\n"
   ]
  },
  {
   "cell_type": "code",
   "execution_count": null,
   "id": "784ccebf",
   "metadata": {},
   "outputs": [],
   "source": [
    "# 3. Is our television ad driving more sales?\n",
    "\n",
    "# null hypothesis: The television ad has not increased sales\n",
    "# alternate hypothesis: The televesion ad has increased sales\n",
    "\n",
    "# true positive: The televesion ad increased sales.\n",
    "# true negative: The television ad did not increase sales.\n",
    "# type 1 error: The television ad did not increase sales, however, the sample data suggests it did.\n",
    "# type 2 error: The television ad increased sales, however, the sample data suggests it did not.\n"
   ]
  },
  {
   "cell_type": "markdown",
   "id": "baf5d50b",
   "metadata": {},
   "source": [
    "### Central Limit Theorem\n",
    "\n",
    "- A population, that is not necessarily normally distributed.\n",
    "- Taking samples, of sufficient size, will result in normally distributed sample means."
   ]
  },
  {
   "cell_type": "code",
   "execution_count": 2,
   "id": "df1a976a",
   "metadata": {},
   "outputs": [],
   "source": [
    "import numpy as np\n",
    "import seaborn as sns\n",
    "import scipy.stats as stats\n",
    "import pandas as pd\n",
    "import matplotlib.pyplot as plt"
   ]
  },
  {
   "cell_type": "code",
   "execution_count": 6,
   "id": "e3749d28",
   "metadata": {},
   "outputs": [
    {
     "data": {
      "text/plain": [
       "array([[6, 3, 5, 3, 2, 4, 3, 4, 2, 2],\n",
       "       [1, 2, 2, 1, 1, 2, 4, 6, 5, 1],\n",
       "       [1, 5, 2, 4, 3, 5, 3, 5, 1, 6],\n",
       "       [1, 2, 4, 5, 5, 5, 2, 6, 4, 3]])"
      ]
     },
     "execution_count": 6,
     "metadata": {},
     "output_type": "execute_result"
    }
   ],
   "source": [
    "np.random.seed(123)\n",
    "\n",
    "n_dice_per_experiment = ncols = 10\n",
    "n_experiments = nrows = 100\n",
    "\n",
    "data = np.random.randint(1,7, (nrows, ncols))\n",
    "\n",
    "data[:4]"
   ]
  },
  {
   "cell_type": "code",
   "execution_count": 7,
   "id": "15686566",
   "metadata": {},
   "outputs": [
    {
     "data": {
      "text/plain": [
       "array([3.4, 2.5, 3.5, 3.7, 3.2, 4.7, 3.4, 3.2, 3.4, 3. , 3.7, 3.5, 4. ,\n",
       "       4.5, 2.9, 2.8, 2.9, 3.8, 3.2, 3.6, 3.4, 4. , 3.5, 3.3, 3.6, 3. ,\n",
       "       4.3, 3. , 3.3, 3.2, 4.2, 3.9, 3.2, 3.8, 3.6, 3.4, 2.7, 3.4, 3.2,\n",
       "       3.1, 3.2, 3. , 4.1, 3.3, 3. , 4.1, 3.4, 3.3, 2.9, 3.8, 3.4, 3.6,\n",
       "       3.9, 3.2, 4.7, 3.8, 3.5, 2.8, 3.8, 4.7, 4.1, 3.5, 2.8, 3.7, 3.4,\n",
       "       3.7, 3.6, 4.1, 3.6, 3.5, 2.9, 4. , 3.2, 3.4, 4.4, 2.9, 3.2, 3.9,\n",
       "       1.9, 3. , 3. , 3.5, 3.3, 4.4, 3.4, 4.2, 4.1, 3.2, 3.5, 3.5, 3.8,\n",
       "       3.1, 3.6, 2.9, 2.9, 4. , 3.3, 3.1, 3.4, 3.6])"
      ]
     },
     "execution_count": 7,
     "metadata": {},
     "output_type": "execute_result"
    }
   ],
   "source": [
    "calculated_averages = data.mean(axis=1)\n",
    "calculated_averages"
   ]
  },
  {
   "cell_type": "code",
   "execution_count": 8,
   "id": "6debcfcf",
   "metadata": {},
   "outputs": [
    {
     "data": {
      "text/plain": [
       "Text(0.5, 1.0, 'Out come of averaging 10 dice rolls 100 times')"
      ]
     },
     "execution_count": 8,
     "metadata": {},
     "output_type": "execute_result"
    },
    {
     "data": {
      "image/png": "[encoded data removed]",
      "text/plain": [
       "<Figure size 640x480 with 1 Axes>"
      ]
     },
     "metadata": {},
     "output_type": "display_data"
    }
   ],
   "source": [
    "plt.hist(calculated_averages)\n",
    "plt.xlabel(f'Average of {n_dice_per_experiment} dice rolls')\n",
    "plt.ylabel('# of Occurences')\n",
    "\n",
    "plt.title(f'Out come of averaging {n_dice_per_experiment} dice rolls {n_experiments} times')"
   ]
  },
  {
   "cell_type": "code",
   "execution_count": 20,
   "id": "c54003e5",
   "metadata": {},
   "outputs": [],
   "source": [
    "import env\n",
    "\n",
    "db_url = f'mysql+pymysql://{env.username}:{env.password}@{env.hostname}/telco_churn'\n",
    "df = pd.read_sql('SELECT * FROM customers', db_url)  "
   ]
  },
  {
   "cell_type": "code",
   "execution_count": 21,
   "id": "f8eb9131",
   "metadata": {},
   "outputs": [
    {
     "data": {
      "text/plain": [
       "Index(['customer_id', 'gender', 'senior_citizen', 'partner', 'dependents',\n",
       "       'tenure', 'phone_service', 'multiple_lines', 'internet_service_type_id',\n",
       "       'online_security', 'online_backup', 'device_protection', 'tech_support',\n",
       "       'streaming_tv', 'streaming_movies', 'contract_type_id',\n",
       "       'paperless_billing', 'payment_type_id', 'monthly_charges',\n",
       "       'total_charges', 'churn'],\n",
       "      dtype='object')"
      ]
     },
     "execution_count": 21,
     "metadata": {},
     "output_type": "execute_result"
    }
   ],
   "source": [
    "df.columns"
   ]
  },
  {
   "cell_type": "code",
   "execution_count": 22,
   "id": "c9b1a475",
   "metadata": {},
   "outputs": [
    {
     "data": {
      "text/plain": [
       "<AxesSubplot:>"
      ]
     },
     "execution_count": 22,
     "metadata": {},
     "output_type": "execute_result"
    },
    {
     "data": {
      "image/png": "[encoded data removed]",
      "text/plain": [
       "<Figure size 640x480 with 1 Axes>"
      ]
     },
     "metadata": {},
     "output_type": "display_data"
    }
   ],
   "source": [
    "df.monthly_charges.hist()"
   ]
  },
  {
   "cell_type": "code",
   "execution_count": 23,
   "id": "8ddefcde",
   "metadata": {},
   "outputs": [
    {
     "data": {
      "text/plain": [
       "<AxesSubplot:>"
      ]
     },
     "execution_count": 23,
     "metadata": {},
     "output_type": "execute_result"
    },
    {
     "data": {
      "image/png": "[encoded data removed]",
      "text/plain": [
       "<Figure size 640x480 with 1 Axes>"
      ]
     },
     "metadata": {},
     "output_type": "display_data"
    }
   ],
   "source": [
    "churn_sample = df[df.churn == 'Yes'].monthly_charges\n",
    "\n",
    "churn_sample.hist()"
   ]
  },
  {
   "cell_type": "markdown",
   "id": "d591a490",
   "metadata": {},
   "source": [
    "## Set hypothesis\n",
    "\n",
    "H_0: Mean of monthly charges of churned customers <= mean of monthly charges of all customers\n",
    "\n",
    "H_a: Mean of monthly charges of churned customers > mean of monthly charges of all customers\n",
    "    "
   ]
  },
  {
   "cell_type": "code",
   "execution_count": 29,
   "id": "4738d8b0",
   "metadata": {},
   "outputs": [],
   "source": [
    "## Set an alpha value\n",
    "\n",
    "alpha = .05"
   ]
  },
  {
   "cell_type": "code",
   "execution_count": 25,
   "id": "e957ba3c",
   "metadata": {},
   "outputs": [
    {
     "data": {
      "text/plain": [
       "No     5174\n",
       "Yes    1869\n",
       "Name: churn, dtype: int64"
      ]
     },
     "execution_count": 25,
     "metadata": {},
     "output_type": "execute_result"
    }
   ],
   "source": [
    "## Verify an assumption of sample size\n",
    "\n",
    "df['churn'].value_counts()"
   ]
  },
  {
   "cell_type": "code",
   "execution_count": 30,
   "id": "c0f5234a",
   "metadata": {},
   "outputs": [
    {
     "name": "stdout",
     "output_type": "stream",
     "text": [
      "16.96540308050567 1.8703196496911995e-60 0.05\n"
     ]
    }
   ],
   "source": [
    "## Compute Test Statistic \n",
    "\n",
    "\n",
    "# Churned customer sample\n",
    "churn_sample = df[df['churn'] == 'Yes']['monthly_charges']\n",
    "\n",
    "# The overall mean\n",
    "overall_mean = df['monthly_charges'].mean()\n",
    "\n",
    "\n",
    "## The output of a 1 tail, 1 sample, t-test\n",
    "# specified the sample\n",
    "# specified the overall mean\n",
    "\n",
    "# Assign the output to t (for the t-statistic) and p (the p-value)\n",
    "t, p = stats.ttest_1samp(churn_sample, overall_mean)\n",
    "\n",
    "print(t, p/2, alpha)"
   ]
  },
  {
   "cell_type": "code",
   "execution_count": 32,
   "id": "5e7880b4",
   "metadata": {},
   "outputs": [
    {
     "data": {
      "text/plain": [
       "True"
      ]
     },
     "execution_count": 32,
     "metadata": {},
     "output_type": "execute_result"
    }
   ],
   "source": [
    "# is t > 0\n",
    "\n",
    "t > 0\n",
    "\n",
    "# is p/2 < alpha\n",
    "\n",
    "p/2 < alpha"
   ]
  },
  {
   "cell_type": "code",
   "execution_count": 36,
   "id": "c7ab1a1e",
   "metadata": {},
   "outputs": [
    {
     "name": "stdout",
     "output_type": "stream",
     "text": [
      "We reject null hypothesis\n"
     ]
    }
   ],
   "source": [
    "## The results based on t-statistic and p-value\n",
    "\n",
    "if p/2 > alpha:\n",
    "    print(f'We fail to reject null hypothesis')\n",
    "elif t < 0:\n",
    "    print(f'We fail to reject null hypothesis')\n",
    "else:\n",
    "    print('We reject null hypothesis')"
   ]
  },
  {
   "cell_type": "markdown",
   "id": "0ce6fe0e",
   "metadata": {},
   "source": [
    "## ANOVA - Analysis of Variance\n",
    "\n",
    "Outcome: Compare means of groups A, B, and C\n",
    "    \n",
    "1. Plot distributions\n",
    "2. Estabilsh hypothesis\n",
    "\n",
    "\n",
    "## Format of Hypothesis\n",
    "\n",
    "$H_0$ Null hypothesis = $\\mu_{A} = \\mu_{B} = \\mu_{C}$\n",
    "\n",
    "$H_a$ Alternate hypothesis = $\\mu_{A} \\neq \\mu_{B} \\neq \\mu_{C}$\n",
    "\n",
    "## Significant Level\n",
    "\n",
    "alpha = .05\n",
    "\n",
    "## Verify assumptions\n",
    "\n",
    "- Normal distribution or at least 30 observations\n",
    "- Indpendent variables\n",
    "- Equal variances\n",
    "\n",
    "### Syntax for test\n",
    "```python\n",
    "scipy.stats.f_oneway\n",
    "```\n",
    "Return: test statistitics and a p-value"
   ]
  },
  {
   "cell_type": "code",
   "execution_count": 203,
   "id": "7520c872",
   "metadata": {},
   "outputs": [
    {
     "data": {
      "text/plain": [
       "setosa        50\n",
       "versicolor    50\n",
       "virginica     50\n",
       "Name: species, dtype: int64"
      ]
     },
     "execution_count": 203,
     "metadata": {},
     "output_type": "execute_result"
    }
   ],
   "source": [
    "### Load a dataset\n",
    "\n",
    "df = sns.load_dataset('iris')\n",
    "\n",
    "### Check sample size\n",
    "df. species.value_counts()\n",
    "\n",
    "\n",
    "# df.info()\n",
    "\n",
    "# Independent - belong to one species\n",
    "# Sample size - sufficient\n"
   ]
  },
  {
   "cell_type": "code",
   "execution_count": null,
   "id": "2f1a6610",
   "metadata": {},
   "outputs": [],
   "source": [
    "# Group A - setosa\n",
    "# Group B - versicolor\n",
    "# Group C - virginica"
   ]
  },
  {
   "cell_type": "code",
   "execution_count": 204,
   "id": "694c2263",
   "metadata": {},
   "outputs": [
    {
     "data": {
      "text/plain": [
       "count    150.000000\n",
       "mean       5.843333\n",
       "std        0.828066\n",
       "min        4.300000\n",
       "25%        5.100000\n",
       "50%        5.800000\n",
       "75%        6.400000\n",
       "max        7.900000\n",
       "Name: sepal_length, dtype: float64"
      ]
     },
     "execution_count": 204,
     "metadata": {},
     "output_type": "execute_result"
    }
   ],
   "source": [
    "# Statistical summary of sepal_length\n",
    "\n",
    "df.sepal_length.describe()"
   ]
  },
  {
   "cell_type": "code",
   "execution_count": 205,
   "id": "09aa9af0",
   "metadata": {},
   "outputs": [],
   "source": [
    "### Filter sepal_length by species\n",
    "\n",
    "versicolor_sepal_length = df[df['species'] == 'versicolor']['sepal_length']\n",
    "virginica_sepal_length = df[df['species'] == 'virginica']['sepal_length']\n",
    "setosa_sepal_length = df[df['species'] == 'setosa']['sepal_length']\n",
    "\n"
   ]
  },
  {
   "cell_type": "code",
   "execution_count": 209,
   "id": "8ba59fe1",
   "metadata": {},
   "outputs": [
    {
     "data": {
      "text/plain": [
       "<AxesSubplot:>"
      ]
     },
     "execution_count": 209,
     "metadata": {},
     "output_type": "execute_result"
    },
    {
     "data": {
      "image/png": "[encoded data removed]",
      "text/plain": [
       "<Figure size 640x480 with 1 Axes>"
      ]
     },
     "metadata": {},
     "output_type": "display_data"
    }
   ],
   "source": [
    "## Histograms\n",
    "\n",
    "versicolor_sepal_length.hist(alpha = .5)\n",
    "setosa_sepal_length.hist(alpha = .5)\n",
    "virginica_sepal_length.hist(alpha = .5)"
   ]
  },
  {
   "cell_type": "code",
   "execution_count": null,
   "id": "bb694ce6",
   "metadata": {},
   "outputs": [],
   "source": [
    "### State hypotheses\n",
    "\n",
    "H_0: For the mean of sepal_length - Versicolor = Virginica = Setosa\n",
    "H_a: For the mean of sepal_length - Not all equal"
   ]
  },
  {
   "cell_type": "code",
   "execution_count": 213,
   "id": "ef3f6d19",
   "metadata": {},
   "outputs": [],
   "source": [
    "# significance level\n",
    "\n",
    "alpha = .05\n",
    "\n",
    "# Independence? YES\n",
    "# 30 observations\n",
    "# Equal variance"
   ]
  },
  {
   "cell_type": "markdown",
   "id": "d9729072",
   "metadata": {},
   "source": [
    "Test for equal variance: Levene's Test\n",
    "\n",
    "H_0: population variances of sepal length across all 3 species are equal\n",
    "H_a: population variances of sepal lengths is different among at least 2 species"
   ]
  },
  {
   "cell_type": "code",
   "execution_count": 214,
   "id": "ab928e9d",
   "metadata": {},
   "outputs": [
    {
     "data": {
      "text/plain": [
       "LeveneResult(statistic=6.35272002048269, pvalue=0.0022585277836218586)"
      ]
     },
     "execution_count": 214,
     "metadata": {},
     "output_type": "execute_result"
    }
   ],
   "source": [
    "stats.levene(versicolor_sepal_length, setosa_sepal_length, virginica_sepal_length)"
   ]
  },
  {
   "cell_type": "markdown",
   "id": "648e1abe",
   "metadata": {},
   "source": [
    "The p-value is < .05 therefore the variance of at least 2 of the groups are significantly different. In this case, it would not be recommended to run an ANOVA because assumptions are violated.\n",
    "However, we will do it here to see what happens.\n",
    "In practice, we would resort to a non-parametric version of our test, which in the case of ANOVA, would be Kruskal-Wallis Test."
   ]
  },
  {
   "cell_type": "code",
   "execution_count": 215,
   "id": "696afbba",
   "metadata": {},
   "outputs": [
    {
     "data": {
      "text/plain": [
       "F_onewayResult(statistic=119.26450218450472, pvalue=1.6696691907693648e-31)"
      ]
     },
     "execution_count": 215,
     "metadata": {},
     "output_type": "execute_result"
    }
   ],
   "source": [
    "stats.f_oneway(versicolor_sepal_length, virginica_sepal_length, setosa_sepal_length)"
   ]
  },
  {
   "cell_type": "code",
   "execution_count": 216,
   "id": "e22b95ac",
   "metadata": {},
   "outputs": [
    {
     "data": {
      "text/plain": [
       "KruskalResult(statistic=96.93743600064833, pvalue=8.91873433246198e-22)"
      ]
     },
     "execution_count": 216,
     "metadata": {},
     "output_type": "execute_result"
    }
   ],
   "source": [
    "stats.kruskal(versicolor_sepal_length, virginica_sepal_length, setosa_sepal_length)"
   ]
  },
  {
   "cell_type": "markdown",
   "id": "289307b6",
   "metadata": {},
   "source": [
    "Because variances were not equal, we would go with the result of th Kruskal-Wallis Test.\n",
    "We still achieved significance here.\n",
    "\n",
    "Our takeaway is that there appears to be a significant difference in sepal length across at least 2 of the groups."
   ]
  },
  {
   "cell_type": "code",
   "execution_count": 217,
   "id": "f040a546",
   "metadata": {},
   "outputs": [
    {
     "name": "stdout",
     "output_type": "stream",
     "text": [
      "5.936\n",
      "6.587999999999998\n",
      "5.005999999999999\n"
     ]
    }
   ],
   "source": [
    "print(versicolor_sepal_length.mean())\n",
    "print(virginica_sepal_length.mean())\n",
    "print(setosa_sepal_length.mean())"
   ]
  },
  {
   "cell_type": "code",
   "execution_count": 220,
   "id": "55a2e2ae",
   "metadata": {},
   "outputs": [
    {
     "data": {
      "text/plain": [
       "Ttest_indResult(statistic=-5.629165259719801, pvalue=1.8661443873771226e-07)"
      ]
     },
     "execution_count": 220,
     "metadata": {},
     "output_type": "execute_result"
    }
   ],
   "source": [
    "stats.ttest_ind(versicolor_sepal_length, virginica_sepal_length, equal_var=False)"
   ]
  },
  {
   "cell_type": "code",
   "execution_count": 221,
   "id": "87b6ace6",
   "metadata": {},
   "outputs": [
    {
     "data": {
      "text/plain": [
       "Ttest_indResult(statistic=10.52098626754911, pvalue=3.746742613983842e-17)"
      ]
     },
     "execution_count": 221,
     "metadata": {},
     "output_type": "execute_result"
    }
   ],
   "source": [
    "stats.ttest_ind(versicolor_sepal_length, setosa_sepal_length, equal_var= False)"
   ]
  },
  {
   "cell_type": "markdown",
   "id": "d21da24c",
   "metadata": {},
   "source": [
    "In comparing each group combination, we can see there is a significant difference in the Sepal Length of each species"
   ]
  },
  {
   "cell_type": "code",
   "execution_count": 224,
   "id": "0cb32593",
   "metadata": {},
   "outputs": [],
   "source": [
    "import seaborn as sns\n",
    "mpg = sns.load_dataset('mpg')\n"
   ]
  },
  {
   "cell_type": "code",
   "execution_count": 225,
   "id": "1c3a95c7",
   "metadata": {},
   "outputs": [
    {
     "data": {
      "text/html": [
       "<div>\n",
       "<style scoped>\n",
       "    .dataframe tbody tr th:only-of-type {\n",
       "        vertical-align: middle;\n",
       "    }\n",
       "\n",
       "    .dataframe tbody tr th {\n",
       "        vertical-align: top;\n",
       "    }\n",
       "\n",
       "    .dataframe thead th {\n",
       "        text-align: right;\n",
       "    }\n",
       "</style>\n",
       "<table border=\"1\" class=\"dataframe\">\n",
       "  <thead>\n",
       "    <tr style=\"text-align: right;\">\n",
       "      <th></th>\n",
       "      <th>mpg</th>\n",
       "      <th>cylinders</th>\n",
       "      <th>displacement</th>\n",
       "      <th>horsepower</th>\n",
       "      <th>weight</th>\n",
       "      <th>acceleration</th>\n",
       "      <th>model_year</th>\n",
       "      <th>origin</th>\n",
       "      <th>name</th>\n",
       "    </tr>\n",
       "  </thead>\n",
       "  <tbody>\n",
       "    <tr>\n",
       "      <th>0</th>\n",
       "      <td>18.0</td>\n",
       "      <td>8</td>\n",
       "      <td>307.0</td>\n",
       "      <td>130.0</td>\n",
       "      <td>3504</td>\n",
       "      <td>12.0</td>\n",
       "      <td>70</td>\n",
       "      <td>usa</td>\n",
       "      <td>chevrolet chevelle malibu</td>\n",
       "    </tr>\n",
       "    <tr>\n",
       "      <th>1</th>\n",
       "      <td>15.0</td>\n",
       "      <td>8</td>\n",
       "      <td>350.0</td>\n",
       "      <td>165.0</td>\n",
       "      <td>3693</td>\n",
       "      <td>11.5</td>\n",
       "      <td>70</td>\n",
       "      <td>usa</td>\n",
       "      <td>buick skylark 320</td>\n",
       "    </tr>\n",
       "    <tr>\n",
       "      <th>2</th>\n",
       "      <td>18.0</td>\n",
       "      <td>8</td>\n",
       "      <td>318.0</td>\n",
       "      <td>150.0</td>\n",
       "      <td>3436</td>\n",
       "      <td>11.0</td>\n",
       "      <td>70</td>\n",
       "      <td>usa</td>\n",
       "      <td>plymouth satellite</td>\n",
       "    </tr>\n",
       "    <tr>\n",
       "      <th>3</th>\n",
       "      <td>16.0</td>\n",
       "      <td>8</td>\n",
       "      <td>304.0</td>\n",
       "      <td>150.0</td>\n",
       "      <td>3433</td>\n",
       "      <td>12.0</td>\n",
       "      <td>70</td>\n",
       "      <td>usa</td>\n",
       "      <td>amc rebel sst</td>\n",
       "    </tr>\n",
       "    <tr>\n",
       "      <th>4</th>\n",
       "      <td>17.0</td>\n",
       "      <td>8</td>\n",
       "      <td>302.0</td>\n",
       "      <td>140.0</td>\n",
       "      <td>3449</td>\n",
       "      <td>10.5</td>\n",
       "      <td>70</td>\n",
       "      <td>usa</td>\n",
       "      <td>ford torino</td>\n",
       "    </tr>\n",
       "  </tbody>\n",
       "</table>\n",
       "</div>"
      ],
      "text/plain": [
       "    mpg  cylinders  displacement  horsepower  weight  acceleration  \\\n",
       "0  18.0          8         307.0       130.0    3504          12.0   \n",
       "1  15.0          8         350.0       165.0    3693          11.5   \n",
       "2  18.0          8         318.0       150.0    3436          11.0   \n",
       "3  16.0          8         304.0       150.0    3433          12.0   \n",
       "4  17.0          8         302.0       140.0    3449          10.5   \n",
       "\n",
       "   model_year origin                       name  \n",
       "0          70    usa  chevrolet chevelle malibu  \n",
       "1          70    usa          buick skylark 320  \n",
       "2          70    usa         plymouth satellite  \n",
       "3          70    usa              amc rebel sst  \n",
       "4          70    usa                ford torino  "
      ]
     },
     "execution_count": 225,
     "metadata": {},
     "output_type": "execute_result"
    }
   ],
   "source": [
    "mpg.head()"
   ]
  },
  {
   "cell_type": "code",
   "execution_count": 227,
   "id": "1d6f5710",
   "metadata": {},
   "outputs": [
    {
     "data": {
      "text/plain": [
       "mpg             0\n",
       "cylinders       0\n",
       "displacement    0\n",
       "horsepower      0\n",
       "weight          0\n",
       "acceleration    0\n",
       "model_year      0\n",
       "origin          0\n",
       "name            0\n",
       "dtype: int64"
      ]
     },
     "execution_count": 227,
     "metadata": {},
     "output_type": "execute_result"
    }
   ],
   "source": [
    "mpg = mpg[~mpg['horsepower'].isna()]\n",
    "mpg.isna().sum()"
   ]
  },
  {
   "cell_type": "code",
   "execution_count": 228,
   "id": "59d98a41",
   "metadata": {},
   "outputs": [
    {
     "data": {
      "text/plain": [
       "array(['usa', 'japan', 'europe'], dtype=object)"
      ]
     },
     "execution_count": 228,
     "metadata": {},
     "output_type": "execute_result"
    }
   ],
   "source": [
    "mpg['origin'].unique()"
   ]
  },
  {
   "cell_type": "markdown",
   "id": "c9cb1163",
   "metadata": {},
   "source": [
    "Is the horsepower of vehicles different across the disctinct origins of the vehicles?\n",
    "\n",
    "$H_{0}$: mean_horsepower_USA = mean_horsepower_japan == mean_horsepower_europe \n",
    "\n",
    "$H_{a}$: mean horsepower form at least 2 countries are significantly different \n",
    "\n",
    "- Assumptions\n",
    "1. At least 30 observations: met(see unique above)\n",
    "2. Equal population variance across all 3 groups\n",
    "3. Groups are independent of each other"
   ]
  },
  {
   "cell_type": "code",
   "execution_count": 231,
   "id": "ffb476f8",
   "metadata": {},
   "outputs": [
    {
     "data": {
      "text/plain": [
       "<AxesSubplot:>"
      ]
     },
     "execution_count": 231,
     "metadata": {},
     "output_type": "execute_result"
    },
    {
     "data": {
      "image/png": "[encoded data removed]",
      "text/plain": [
       "<Figure size 640x480 with 1 Axes>"
      ]
     },
     "metadata": {},
     "output_type": "display_data"
    }
   ],
   "source": [
    "mpg[mpg['origin']=='usa'].horsepower.hist()\n",
    "mpg[mpg['origin']=='japan'].horsepower.hist()\n",
    "mpg[mpg['origin']=='europe'].horsepower.hist()"
   ]
  },
  {
   "cell_type": "code",
   "execution_count": 232,
   "id": "08646dfe",
   "metadata": {},
   "outputs": [],
   "source": [
    "usa = mpg[mpg['origin']=='usa'].horsepower\n",
    "japan = mpg[mpg['origin']=='japan'].horsepower\n",
    "europe = mpg[mpg['origin']=='europe'].horsepower"
   ]
  },
  {
   "cell_type": "code",
   "execution_count": 233,
   "id": "4885e9af",
   "metadata": {},
   "outputs": [
    {
     "data": {
      "text/plain": [
       "LeveneResult(statistic=26.526632103545772, pvalue=1.5863075873913356e-11)"
      ]
     },
     "execution_count": 233,
     "metadata": {},
     "output_type": "execute_result"
    }
   ],
   "source": [
    "# validate variance assumption\n",
    "\n",
    "stats.levene(usa, japan, europe)"
   ]
  },
  {
   "cell_type": "markdown",
   "id": "d2ed9b54",
   "metadata": {},
   "source": [
    "With a low p-value, we can assume the variances of the countries horsepower is significantly different across at least two of the countries\n",
    "With this information, we should not use the ANOVA test but should instead use the Krukal-Wallis Test"
   ]
  },
  {
   "cell_type": "code",
   "execution_count": 236,
   "id": "99d8926c",
   "metadata": {},
   "outputs": [
    {
     "data": {
      "text/plain": [
       "1.1759521262123952e-23"
      ]
     },
     "execution_count": 236,
     "metadata": {},
     "output_type": "execute_result"
    }
   ],
   "source": [
    "t, p = stats.kruskal(usa, japan, europe)\n",
    "p"
   ]
  },
  {
   "cell_type": "markdown",
   "id": "8ce531b6",
   "metadata": {},
   "source": [
    "With a p-value < .05 (alpha), we can say there exists a significant difference between the horsepower of vehicles in at least 2 of the countries. But which 2?\n",
    "\n",
    "Compare 2 groups, usa and japan\n",
    "\n",
    "H_0: hp_usa == hp_japan\n",
    "\n",
    "h_a: hp_usa != hp_japan"
   ]
  },
  {
   "cell_type": "code",
   "execution_count": 244,
   "id": "3b41f552",
   "metadata": {},
   "outputs": [
    {
     "name": "stdout",
     "output_type": "stream",
     "text": [
      "There is a significant difference between the horsepower of vehicles in the USA vs Japan. (p-value: 1.5146320352820458e-27)\n"
     ]
    }
   ],
   "source": [
    "# compare 2 groups to see if there is significance\n",
    "\n",
    "t, p = stats.ttest_ind(usa, japan, equal_var=False)\n",
    "\n",
    "if p < .05:\n",
    "    print(f'There is a significant difference between the horsepower of vehicles in the USA vs Japan. (p-value: {p})')\n",
    "else:\n",
    "    print('We fail to find a signifcant difference')"
   ]
  },
  {
   "cell_type": "code",
   "execution_count": 245,
   "id": "14718c35",
   "metadata": {},
   "outputs": [
    {
     "name": "stdout",
     "output_type": "stream",
     "text": [
      "There is a significant difference between the horsepower of vehicles in the USA vs Europe. (p-value: 2.1065705369888018e-22)\n"
     ]
    }
   ],
   "source": [
    "# compare 2 groups to see if there is significance\n",
    "\n",
    "t, p = stats.ttest_ind(usa, europe, equal_var=False)\n",
    "\n",
    "if p < .05:\n",
    "    print(f'There is a significant difference between the horsepower of vehicles in the USA vs Europe. (p-value: {p})')\n",
    "else:\n",
    "    print('We fail to find a signifcant difference')"
   ]
  },
  {
   "cell_type": "code",
   "execution_count": 247,
   "id": "eb06836f",
   "metadata": {},
   "outputs": [
    {
     "name": "stdout",
     "output_type": "stream",
     "text": [
      "We fail to find a signifcant difference. (p-value: 0.8193616065509621)\n"
     ]
    }
   ],
   "source": [
    "# compare 2 groups to see if there is significance\n",
    "\n",
    "t, p = stats.ttest_ind(japan, europe, equal_var=False)\n",
    "\n",
    "if p < .05:\n",
    "    print(f'There is a significant difference between the horsepower of vehicles in the Europe vs Japan. (p-value: {p})')\n",
    "else:\n",
    "    print(f'We fail to find a signifcant difference. (p-value: {p})')"
   ]
  },
  {
   "cell_type": "code",
   "execution_count": null,
   "id": "1dfb7b4b",
   "metadata": {},
   "outputs": [],
   "source": []
  },
  {
   "cell_type": "code",
   "execution_count": null,
   "id": "7d32a472",
   "metadata": {},
   "outputs": [],
   "source": []
  },
  {
   "cell_type": "code",
   "execution_count": null,
   "id": "e66ee11b",
   "metadata": {},
   "outputs": [],
   "source": []
  },
  {
   "cell_type": "markdown",
   "id": "d075ba99",
   "metadata": {},
   "source": [
    "- Answer with the type of test you would use (assume normal distribution):\n",
    "\n",
    "1. Is there a difference in grades of students on the second floor compared to grades of all students?\n",
    " - 1 sample t-test"
   ]
  },
  {
   "cell_type": "markdown",
   "id": "34472872",
   "metadata": {},
   "source": [
    "2. Are adults who drink milk taller than adults who dont drink milk?\n",
    " - independent t-test (two sample t-test)\n",
    " - 1 tail"
   ]
  },
  {
   "cell_type": "markdown",
   "id": "964d7d54",
   "metadata": {},
   "source": [
    "3. Is the price of gas higher in texas or in new mexico?\n",
    " - indepndent t-test (two sample t-test)\n",
    " - 1 tail"
   ]
  },
  {
   "cell_type": "markdown",
   "id": "8458d65e",
   "metadata": {},
   "source": [
    "4. Are there differences in stress levels between students who take data science vs students who take web development vs students who take cloud academy?\n",
    " - ANOVA"
   ]
  },
  {
   "cell_type": "markdown",
   "id": "857e42d1",
   "metadata": {},
   "source": [
    "#### 2. Ace Realty wants to determine whether the average time it takes to sell homes is different for its two offices. A sample of 40 sales from office #1 revealed a mean of 90 days and a standard deviation of 15 days. A sample of 50 sales from office #2 revealed a mean of 100 days and a standard deviation of 20 days. Use a .05 level of significance."
   ]
  },
  {
   "cell_type": "code",
   "execution_count": 7,
   "id": "e18e74fb",
   "metadata": {},
   "outputs": [],
   "source": [
    "np.random.seed(3)"
   ]
  },
  {
   "cell_type": "code",
   "execution_count": 15,
   "id": "f64b1e0d",
   "metadata": {},
   "outputs": [
    {
     "data": {
      "text/plain": [
       "(array([2., 4., 7., 5., 2., 6., 4., 5., 2., 3.]),\n",
       " array([ 44.3641537 ,  52.96703961,  61.56992553,  70.17281144,\n",
       "         78.77569736,  87.37858327,  95.98146919, 104.5843551 ,\n",
       "        113.18724101, 121.79012693, 130.39301284]),\n",
       " <BarContainer object of 10 artists>)"
      ]
     },
     "execution_count": 15,
     "metadata": {},
     "output_type": "execute_result"
    },
    {
     "data": {
      "image/png": "[encoded data removed]",
      "text/plain": [
       "<Figure size 640x480 with 1 Axes>"
      ]
     },
     "metadata": {},
     "output_type": "display_data"
    }
   ],
   "source": [
    "# Null Hypothesis: There is no significance betwen office 1 and office 2.\n",
    "# Alternate hypothesis: Office 1 takes less time to sell homes than office 2.\n",
    "# Alternate hypothesis: Office 2 takes less time to sell homes than office 1.\n",
    "\n",
    "alpha = .05\n",
    "off_1_mean = 90\n",
    "off_1_sd = 15\n",
    "\n",
    "off_2_mean = 100\n",
    "off_2_sd = 20\n",
    "\n",
    "off_1 = stats.norm(off_1_mean, off_2_sd).rvs(40)\n",
    "plt.hist(off_1)\n"
   ]
  },
  {
   "cell_type": "code",
   "execution_count": 16,
   "id": "02841020",
   "metadata": {},
   "outputs": [
    {
     "data": {
      "text/plain": [
       "(array([ 1.,  2.,  2.,  5.,  5.,  9., 13.,  5.,  4.,  4.]),\n",
       " array([ 40.3205959 ,  50.22148557,  60.12237523,  70.0232649 ,\n",
       "         79.92415456,  89.82504423,  99.7259339 , 109.62682356,\n",
       "        119.52771323, 129.42860289, 139.32949256]),\n",
       " <BarContainer object of 10 artists>)"
      ]
     },
     "execution_count": 16,
     "metadata": {},
     "output_type": "execute_result"
    },
    {
     "data": {
      "image/png": "[encoded data removed]",
      "text/plain": [
       "<Figure size 640x480 with 1 Axes>"
      ]
     },
     "metadata": {},
     "output_type": "display_data"
    }
   ],
   "source": [
    "off_2 = stats.norm(off_2_mean, off_2_sd).rvs(50)\n",
    "plt.hist(off_2)"
   ]
  },
  {
   "cell_type": "code",
   "execution_count": 17,
   "id": "08426de4",
   "metadata": {},
   "outputs": [
    {
     "name": "stdout",
     "output_type": "stream",
     "text": [
      "499.30818607061826\n",
      "457.8608621787491\n"
     ]
    }
   ],
   "source": [
    "print(off_1.var())\n",
    "print(off_2.var())"
   ]
  },
  {
   "cell_type": "code",
   "execution_count": 18,
   "id": "710c57a1",
   "metadata": {},
   "outputs": [
    {
     "data": {
      "text/plain": [
       "(-2.5417784840872564, 0.006456297713214296)"
      ]
     },
     "execution_count": 18,
     "metadata": {},
     "output_type": "execute_result"
    }
   ],
   "source": [
    "t, p = stats.ttest_ind(off_1, off_2, equal_var=False)\n",
    "t, p/2"
   ]
  },
  {
   "cell_type": "code",
   "execution_count": 24,
   "id": "4b9beae0",
   "metadata": {},
   "outputs": [],
   "source": [
    "# Null Hypothesis: There is no significance betwen office 1 and office 2.\n",
    "# Alternate hypothesis: There is a significant difference between the offices."
   ]
  },
  {
   "cell_type": "code",
   "execution_count": 25,
   "id": "46796cc3",
   "metadata": {},
   "outputs": [
    {
     "name": "stdout",
     "output_type": "stream",
     "text": [
      "Reject Null\n"
     ]
    }
   ],
   "source": [
    "if p <= alpha:\n",
    "    print(\"Reject Null\")\n",
    "else:\n",
    "    print(\"Fail to reject null\")\n",
    "\n"
   ]
  },
  {
   "cell_type": "markdown",
   "id": "c39217f4",
   "metadata": {},
   "source": [
    "#### 1. Is there a difference in fuel-efficiency in cars from 2008 vs 1999?\n",
    " - independent t-test"
   ]
  },
  {
   "cell_type": "code",
   "execution_count": null,
   "id": "9d3ae824",
   "metadata": {},
   "outputs": [],
   "source": [
    "# Null hypothesis: Mean of fuel-efficiency of 2008 cars <= Mean of fuel-efficiency of 1999 cars.\n",
    "# Alternate Hypothesis: Mean of fuel-efficiency of 2008 cars > Mean of fuel-efficiency of 1999 cars."
   ]
  },
  {
   "cell_type": "code",
   "execution_count": 26,
   "id": "b3139e50",
   "metadata": {},
   "outputs": [
    {
     "data": {
      "text/html": [
       "<div>\n",
       "<style scoped>\n",
       "    .dataframe tbody tr th:only-of-type {\n",
       "        vertical-align: middle;\n",
       "    }\n",
       "\n",
       "    .dataframe tbody tr th {\n",
       "        vertical-align: top;\n",
       "    }\n",
       "\n",
       "    .dataframe thead th {\n",
       "        text-align: right;\n",
       "    }\n",
       "</style>\n",
       "<table border=\"1\" class=\"dataframe\">\n",
       "  <thead>\n",
       "    <tr style=\"text-align: right;\">\n",
       "      <th></th>\n",
       "      <th>manufacturer</th>\n",
       "      <th>model</th>\n",
       "      <th>displ</th>\n",
       "      <th>year</th>\n",
       "      <th>cyl</th>\n",
       "      <th>trans</th>\n",
       "      <th>drv</th>\n",
       "      <th>cty</th>\n",
       "      <th>hwy</th>\n",
       "      <th>fl</th>\n",
       "      <th>class</th>\n",
       "    </tr>\n",
       "  </thead>\n",
       "  <tbody>\n",
       "    <tr>\n",
       "      <th>1</th>\n",
       "      <td>audi</td>\n",
       "      <td>a4</td>\n",
       "      <td>1.8</td>\n",
       "      <td>1999</td>\n",
       "      <td>4</td>\n",
       "      <td>auto(l5)</td>\n",
       "      <td>f</td>\n",
       "      <td>18</td>\n",
       "      <td>29</td>\n",
       "      <td>p</td>\n",
       "      <td>compact</td>\n",
       "    </tr>\n",
       "    <tr>\n",
       "      <th>2</th>\n",
       "      <td>audi</td>\n",
       "      <td>a4</td>\n",
       "      <td>1.8</td>\n",
       "      <td>1999</td>\n",
       "      <td>4</td>\n",
       "      <td>manual(m5)</td>\n",
       "      <td>f</td>\n",
       "      <td>21</td>\n",
       "      <td>29</td>\n",
       "      <td>p</td>\n",
       "      <td>compact</td>\n",
       "    </tr>\n",
       "    <tr>\n",
       "      <th>3</th>\n",
       "      <td>audi</td>\n",
       "      <td>a4</td>\n",
       "      <td>2.0</td>\n",
       "      <td>2008</td>\n",
       "      <td>4</td>\n",
       "      <td>manual(m6)</td>\n",
       "      <td>f</td>\n",
       "      <td>20</td>\n",
       "      <td>31</td>\n",
       "      <td>p</td>\n",
       "      <td>compact</td>\n",
       "    </tr>\n",
       "    <tr>\n",
       "      <th>4</th>\n",
       "      <td>audi</td>\n",
       "      <td>a4</td>\n",
       "      <td>2.0</td>\n",
       "      <td>2008</td>\n",
       "      <td>4</td>\n",
       "      <td>auto(av)</td>\n",
       "      <td>f</td>\n",
       "      <td>21</td>\n",
       "      <td>30</td>\n",
       "      <td>p</td>\n",
       "      <td>compact</td>\n",
       "    </tr>\n",
       "    <tr>\n",
       "      <th>5</th>\n",
       "      <td>audi</td>\n",
       "      <td>a4</td>\n",
       "      <td>2.8</td>\n",
       "      <td>1999</td>\n",
       "      <td>6</td>\n",
       "      <td>auto(l5)</td>\n",
       "      <td>f</td>\n",
       "      <td>16</td>\n",
       "      <td>26</td>\n",
       "      <td>p</td>\n",
       "      <td>compact</td>\n",
       "    </tr>\n",
       "    <tr>\n",
       "      <th>...</th>\n",
       "      <td>...</td>\n",
       "      <td>...</td>\n",
       "      <td>...</td>\n",
       "      <td>...</td>\n",
       "      <td>...</td>\n",
       "      <td>...</td>\n",
       "      <td>...</td>\n",
       "      <td>...</td>\n",
       "      <td>...</td>\n",
       "      <td>...</td>\n",
       "      <td>...</td>\n",
       "    </tr>\n",
       "    <tr>\n",
       "      <th>230</th>\n",
       "      <td>volkswagen</td>\n",
       "      <td>passat</td>\n",
       "      <td>2.0</td>\n",
       "      <td>2008</td>\n",
       "      <td>4</td>\n",
       "      <td>auto(s6)</td>\n",
       "      <td>f</td>\n",
       "      <td>19</td>\n",
       "      <td>28</td>\n",
       "      <td>p</td>\n",
       "      <td>midsize</td>\n",
       "    </tr>\n",
       "    <tr>\n",
       "      <th>231</th>\n",
       "      <td>volkswagen</td>\n",
       "      <td>passat</td>\n",
       "      <td>2.0</td>\n",
       "      <td>2008</td>\n",
       "      <td>4</td>\n",
       "      <td>manual(m6)</td>\n",
       "      <td>f</td>\n",
       "      <td>21</td>\n",
       "      <td>29</td>\n",
       "      <td>p</td>\n",
       "      <td>midsize</td>\n",
       "    </tr>\n",
       "    <tr>\n",
       "      <th>232</th>\n",
       "      <td>volkswagen</td>\n",
       "      <td>passat</td>\n",
       "      <td>2.8</td>\n",
       "      <td>1999</td>\n",
       "      <td>6</td>\n",
       "      <td>auto(l5)</td>\n",
       "      <td>f</td>\n",
       "      <td>16</td>\n",
       "      <td>26</td>\n",
       "      <td>p</td>\n",
       "      <td>midsize</td>\n",
       "    </tr>\n",
       "    <tr>\n",
       "      <th>233</th>\n",
       "      <td>volkswagen</td>\n",
       "      <td>passat</td>\n",
       "      <td>2.8</td>\n",
       "      <td>1999</td>\n",
       "      <td>6</td>\n",
       "      <td>manual(m5)</td>\n",
       "      <td>f</td>\n",
       "      <td>18</td>\n",
       "      <td>26</td>\n",
       "      <td>p</td>\n",
       "      <td>midsize</td>\n",
       "    </tr>\n",
       "    <tr>\n",
       "      <th>234</th>\n",
       "      <td>volkswagen</td>\n",
       "      <td>passat</td>\n",
       "      <td>3.6</td>\n",
       "      <td>2008</td>\n",
       "      <td>6</td>\n",
       "      <td>auto(s6)</td>\n",
       "      <td>f</td>\n",
       "      <td>17</td>\n",
       "      <td>26</td>\n",
       "      <td>p</td>\n",
       "      <td>midsize</td>\n",
       "    </tr>\n",
       "  </tbody>\n",
       "</table>\n",
       "<p>234 rows × 11 columns</p>\n",
       "</div>"
      ],
      "text/plain": [
       "    manufacturer   model  displ  year  cyl       trans drv  cty  hwy fl  \\\n",
       "1           audi      a4    1.8  1999    4    auto(l5)   f   18   29  p   \n",
       "2           audi      a4    1.8  1999    4  manual(m5)   f   21   29  p   \n",
       "3           audi      a4    2.0  2008    4  manual(m6)   f   20   31  p   \n",
       "4           audi      a4    2.0  2008    4    auto(av)   f   21   30  p   \n",
       "5           audi      a4    2.8  1999    6    auto(l5)   f   16   26  p   \n",
       "..           ...     ...    ...   ...  ...         ...  ..  ...  ... ..   \n",
       "230   volkswagen  passat    2.0  2008    4    auto(s6)   f   19   28  p   \n",
       "231   volkswagen  passat    2.0  2008    4  manual(m6)   f   21   29  p   \n",
       "232   volkswagen  passat    2.8  1999    6    auto(l5)   f   16   26  p   \n",
       "233   volkswagen  passat    2.8  1999    6  manual(m5)   f   18   26  p   \n",
       "234   volkswagen  passat    3.6  2008    6    auto(s6)   f   17   26  p   \n",
       "\n",
       "       class  \n",
       "1    compact  \n",
       "2    compact  \n",
       "3    compact  \n",
       "4    compact  \n",
       "5    compact  \n",
       "..       ...  \n",
       "230  midsize  \n",
       "231  midsize  \n",
       "232  midsize  \n",
       "233  midsize  \n",
       "234  midsize  \n",
       "\n",
       "[234 rows x 11 columns]"
      ]
     },
     "execution_count": 26,
     "metadata": {},
     "output_type": "execute_result"
    }
   ],
   "source": [
    "from pydataset import data\n",
    "\n",
    "mpg = data('mpg')\n",
    "mpg = pd.DataFrame(mpg)\n",
    "mpg"
   ]
  },
  {
   "cell_type": "code",
   "execution_count": 27,
   "id": "17bc63ba",
   "metadata": {},
   "outputs": [
    {
     "data": {
      "text/html": [
       "<div>\n",
       "<style scoped>\n",
       "    .dataframe tbody tr th:only-of-type {\n",
       "        vertical-align: middle;\n",
       "    }\n",
       "\n",
       "    .dataframe tbody tr th {\n",
       "        vertical-align: top;\n",
       "    }\n",
       "\n",
       "    .dataframe thead th {\n",
       "        text-align: right;\n",
       "    }\n",
       "</style>\n",
       "<table border=\"1\" class=\"dataframe\">\n",
       "  <thead>\n",
       "    <tr style=\"text-align: right;\">\n",
       "      <th></th>\n",
       "      <th>manufacturer</th>\n",
       "      <th>model</th>\n",
       "      <th>displ</th>\n",
       "      <th>year</th>\n",
       "      <th>cyl</th>\n",
       "      <th>trans</th>\n",
       "      <th>drv</th>\n",
       "      <th>cty</th>\n",
       "      <th>hwy</th>\n",
       "      <th>fl</th>\n",
       "      <th>class</th>\n",
       "      <th>avg_mileage</th>\n",
       "    </tr>\n",
       "  </thead>\n",
       "  <tbody>\n",
       "    <tr>\n",
       "      <th>1</th>\n",
       "      <td>audi</td>\n",
       "      <td>a4</td>\n",
       "      <td>1.8</td>\n",
       "      <td>1999</td>\n",
       "      <td>4</td>\n",
       "      <td>auto(l5)</td>\n",
       "      <td>f</td>\n",
       "      <td>18</td>\n",
       "      <td>29</td>\n",
       "      <td>p</td>\n",
       "      <td>compact</td>\n",
       "      <td>23.5</td>\n",
       "    </tr>\n",
       "    <tr>\n",
       "      <th>2</th>\n",
       "      <td>audi</td>\n",
       "      <td>a4</td>\n",
       "      <td>1.8</td>\n",
       "      <td>1999</td>\n",
       "      <td>4</td>\n",
       "      <td>manual(m5)</td>\n",
       "      <td>f</td>\n",
       "      <td>21</td>\n",
       "      <td>29</td>\n",
       "      <td>p</td>\n",
       "      <td>compact</td>\n",
       "      <td>25.0</td>\n",
       "    </tr>\n",
       "    <tr>\n",
       "      <th>3</th>\n",
       "      <td>audi</td>\n",
       "      <td>a4</td>\n",
       "      <td>2.0</td>\n",
       "      <td>2008</td>\n",
       "      <td>4</td>\n",
       "      <td>manual(m6)</td>\n",
       "      <td>f</td>\n",
       "      <td>20</td>\n",
       "      <td>31</td>\n",
       "      <td>p</td>\n",
       "      <td>compact</td>\n",
       "      <td>25.5</td>\n",
       "    </tr>\n",
       "    <tr>\n",
       "      <th>4</th>\n",
       "      <td>audi</td>\n",
       "      <td>a4</td>\n",
       "      <td>2.0</td>\n",
       "      <td>2008</td>\n",
       "      <td>4</td>\n",
       "      <td>auto(av)</td>\n",
       "      <td>f</td>\n",
       "      <td>21</td>\n",
       "      <td>30</td>\n",
       "      <td>p</td>\n",
       "      <td>compact</td>\n",
       "      <td>25.5</td>\n",
       "    </tr>\n",
       "    <tr>\n",
       "      <th>5</th>\n",
       "      <td>audi</td>\n",
       "      <td>a4</td>\n",
       "      <td>2.8</td>\n",
       "      <td>1999</td>\n",
       "      <td>6</td>\n",
       "      <td>auto(l5)</td>\n",
       "      <td>f</td>\n",
       "      <td>16</td>\n",
       "      <td>26</td>\n",
       "      <td>p</td>\n",
       "      <td>compact</td>\n",
       "      <td>21.0</td>\n",
       "    </tr>\n",
       "    <tr>\n",
       "      <th>...</th>\n",
       "      <td>...</td>\n",
       "      <td>...</td>\n",
       "      <td>...</td>\n",
       "      <td>...</td>\n",
       "      <td>...</td>\n",
       "      <td>...</td>\n",
       "      <td>...</td>\n",
       "      <td>...</td>\n",
       "      <td>...</td>\n",
       "      <td>...</td>\n",
       "      <td>...</td>\n",
       "      <td>...</td>\n",
       "    </tr>\n",
       "    <tr>\n",
       "      <th>230</th>\n",
       "      <td>volkswagen</td>\n",
       "      <td>passat</td>\n",
       "      <td>2.0</td>\n",
       "      <td>2008</td>\n",
       "      <td>4</td>\n",
       "      <td>auto(s6)</td>\n",
       "      <td>f</td>\n",
       "      <td>19</td>\n",
       "      <td>28</td>\n",
       "      <td>p</td>\n",
       "      <td>midsize</td>\n",
       "      <td>23.5</td>\n",
       "    </tr>\n",
       "    <tr>\n",
       "      <th>231</th>\n",
       "      <td>volkswagen</td>\n",
       "      <td>passat</td>\n",
       "      <td>2.0</td>\n",
       "      <td>2008</td>\n",
       "      <td>4</td>\n",
       "      <td>manual(m6)</td>\n",
       "      <td>f</td>\n",
       "      <td>21</td>\n",
       "      <td>29</td>\n",
       "      <td>p</td>\n",
       "      <td>midsize</td>\n",
       "      <td>25.0</td>\n",
       "    </tr>\n",
       "    <tr>\n",
       "      <th>232</th>\n",
       "      <td>volkswagen</td>\n",
       "      <td>passat</td>\n",
       "      <td>2.8</td>\n",
       "      <td>1999</td>\n",
       "      <td>6</td>\n",
       "      <td>auto(l5)</td>\n",
       "      <td>f</td>\n",
       "      <td>16</td>\n",
       "      <td>26</td>\n",
       "      <td>p</td>\n",
       "      <td>midsize</td>\n",
       "      <td>21.0</td>\n",
       "    </tr>\n",
       "    <tr>\n",
       "      <th>233</th>\n",
       "      <td>volkswagen</td>\n",
       "      <td>passat</td>\n",
       "      <td>2.8</td>\n",
       "      <td>1999</td>\n",
       "      <td>6</td>\n",
       "      <td>manual(m5)</td>\n",
       "      <td>f</td>\n",
       "      <td>18</td>\n",
       "      <td>26</td>\n",
       "      <td>p</td>\n",
       "      <td>midsize</td>\n",
       "      <td>22.0</td>\n",
       "    </tr>\n",
       "    <tr>\n",
       "      <th>234</th>\n",
       "      <td>volkswagen</td>\n",
       "      <td>passat</td>\n",
       "      <td>3.6</td>\n",
       "      <td>2008</td>\n",
       "      <td>6</td>\n",
       "      <td>auto(s6)</td>\n",
       "      <td>f</td>\n",
       "      <td>17</td>\n",
       "      <td>26</td>\n",
       "      <td>p</td>\n",
       "      <td>midsize</td>\n",
       "      <td>21.5</td>\n",
       "    </tr>\n",
       "  </tbody>\n",
       "</table>\n",
       "<p>234 rows × 12 columns</p>\n",
       "</div>"
      ],
      "text/plain": [
       "    manufacturer   model  displ  year  cyl       trans drv  cty  hwy fl  \\\n",
       "1           audi      a4    1.8  1999    4    auto(l5)   f   18   29  p   \n",
       "2           audi      a4    1.8  1999    4  manual(m5)   f   21   29  p   \n",
       "3           audi      a4    2.0  2008    4  manual(m6)   f   20   31  p   \n",
       "4           audi      a4    2.0  2008    4    auto(av)   f   21   30  p   \n",
       "5           audi      a4    2.8  1999    6    auto(l5)   f   16   26  p   \n",
       "..           ...     ...    ...   ...  ...         ...  ..  ...  ... ..   \n",
       "230   volkswagen  passat    2.0  2008    4    auto(s6)   f   19   28  p   \n",
       "231   volkswagen  passat    2.0  2008    4  manual(m6)   f   21   29  p   \n",
       "232   volkswagen  passat    2.8  1999    6    auto(l5)   f   16   26  p   \n",
       "233   volkswagen  passat    2.8  1999    6  manual(m5)   f   18   26  p   \n",
       "234   volkswagen  passat    3.6  2008    6    auto(s6)   f   17   26  p   \n",
       "\n",
       "       class  avg_mileage  \n",
       "1    compact         23.5  \n",
       "2    compact         25.0  \n",
       "3    compact         25.5  \n",
       "4    compact         25.5  \n",
       "5    compact         21.0  \n",
       "..       ...          ...  \n",
       "230  midsize         23.5  \n",
       "231  midsize         25.0  \n",
       "232  midsize         21.0  \n",
       "233  midsize         22.0  \n",
       "234  midsize         21.5  \n",
       "\n",
       "[234 rows x 12 columns]"
      ]
     },
     "execution_count": 27,
     "metadata": {},
     "output_type": "execute_result"
    }
   ],
   "source": [
    "mpg['avg_mileage'] = (mpg['cty'] + mpg['hwy']) / 2\n",
    "mpg"
   ]
  },
  {
   "cell_type": "code",
   "execution_count": 28,
   "id": "7e3dfb30",
   "metadata": {},
   "outputs": [
    {
     "data": {
      "text/plain": [
       "count    117.000000\n",
       "mean      20.076923\n",
       "std        4.908918\n",
       "min       10.500000\n",
       "25%       16.000000\n",
       "50%       20.500000\n",
       "75%       23.500000\n",
       "max       32.500000\n",
       "Name: avg_mileage, dtype: float64"
      ]
     },
     "execution_count": 28,
     "metadata": {},
     "output_type": "execute_result"
    }
   ],
   "source": [
    "cars_08_mileage = mpg[mpg['year'] == 2008]['avg_mileage']\n",
    "cars_99_mileage = mpg[mpg['year'] == 1999]['avg_mileage']\n",
    "\n",
    "cars_08_mileage.describe()"
   ]
  },
  {
   "cell_type": "code",
   "execution_count": 29,
   "id": "91c8a8f7",
   "metadata": {},
   "outputs": [],
   "source": [
    "mean_08 = cars_08_mileage.mean()\n",
    "sd_08 = cars_08_mileage.std()"
   ]
  },
  {
   "cell_type": "code",
   "execution_count": 30,
   "id": "77273f4d",
   "metadata": {},
   "outputs": [
    {
     "data": {
      "text/plain": [
       "count    117.000000\n",
       "mean      20.222222\n",
       "std        5.207937\n",
       "min       13.000000\n",
       "25%       15.500000\n",
       "50%       21.000000\n",
       "75%       22.500000\n",
       "max       39.500000\n",
       "Name: avg_mileage, dtype: float64"
      ]
     },
     "execution_count": 30,
     "metadata": {},
     "output_type": "execute_result"
    }
   ],
   "source": [
    "cars_99_mileage.describe()"
   ]
  },
  {
   "cell_type": "code",
   "execution_count": 31,
   "id": "53dc4490",
   "metadata": {},
   "outputs": [],
   "source": [
    "mean_99 = cars_99_mileage.mean()\n",
    "sd_99 = cars_99_mileage.std()"
   ]
  },
  {
   "cell_type": "code",
   "execution_count": 32,
   "id": "209a7c04",
   "metadata": {},
   "outputs": [
    {
     "data": {
      "text/plain": [
       "(array([ 1.,  3.,  7., 14., 25., 18., 14., 17., 11.,  7.]),\n",
       " array([ 6.93809803,  9.2565086 , 11.57491918, 13.89332975, 16.21174032,\n",
       "        18.53015089, 20.84856146, 23.16697203, 25.4853826 , 27.80379318,\n",
       "        30.12220375]),\n",
       " <BarContainer object of 10 artists>)"
      ]
     },
     "execution_count": 32,
     "metadata": {},
     "output_type": "execute_result"
    },
    {
     "data": {
      "image/png": "[encoded data removed]",
      "text/plain": [
       "<Figure size 640x480 with 1 Axes>"
      ]
     },
     "metadata": {},
     "output_type": "display_data"
    }
   ],
   "source": [
    "cars_08 = stats.norm(mean_08, sd_08).rvs(117)\n",
    "cars_99 = stats.norm(mean_99, sd_99).rvs(117)\n",
    "plt.hist(cars_08)"
   ]
  },
  {
   "cell_type": "code",
   "execution_count": 33,
   "id": "11789d4d",
   "metadata": {},
   "outputs": [
    {
     "data": {
      "text/plain": [
       "(array([ 6.,  7., 26., 13., 30., 21.,  8.,  5.,  0.,  1.]),\n",
       " array([ 8.70855916, 11.58599416, 14.46342915, 17.34086415, 20.21829915,\n",
       "        23.09573414, 25.97316914, 28.85060414, 31.72803913, 34.60547413,\n",
       "        37.48290913]),\n",
       " <BarContainer object of 10 artists>)"
      ]
     },
     "execution_count": 33,
     "metadata": {},
     "output_type": "execute_result"
    },
    {
     "data": {
      "image/png": "[encoded data removed]",
      "text/plain": [
       "<Figure size 640x480 with 1 Axes>"
      ]
     },
     "metadata": {},
     "output_type": "display_data"
    }
   ],
   "source": [
    "plt.hist(cars_99)"
   ]
  },
  {
   "cell_type": "code",
   "execution_count": 34,
   "id": "272530ba",
   "metadata": {},
   "outputs": [
    {
     "name": "stdout",
     "output_type": "stream",
     "text": [
      "22.544067743119697\n",
      "27.649686476987128\n"
     ]
    }
   ],
   "source": [
    "print(cars_08.var())\n",
    "print(cars_99.var())"
   ]
  },
  {
   "cell_type": "code",
   "execution_count": 40,
   "id": "71b531df",
   "metadata": {},
   "outputs": [
    {
     "data": {
      "text/plain": [
       "(-0.2587896432078211, 0.7960293793246775)"
      ]
     },
     "execution_count": 40,
     "metadata": {},
     "output_type": "execute_result"
    }
   ],
   "source": [
    "t2, p2 = stats.ttest_ind(cars_08, cars_99, equal_var=False)\n",
    "t2, p2"
   ]
  },
  {
   "cell_type": "code",
   "execution_count": 42,
   "id": "4447c713",
   "metadata": {},
   "outputs": [
    {
     "name": "stdout",
     "output_type": "stream",
     "text": [
      "Fail to reject null\n"
     ]
    }
   ],
   "source": [
    "alpha = .05\n",
    "\n",
    "if p2 <= alpha:\n",
    "    print('Reject null')\n",
    "else:\n",
    "    print('Fail to reject null')\n"
   ]
  },
  {
   "cell_type": "markdown",
   "id": "3f722d64",
   "metadata": {},
   "source": [
    "Takeaway: we failed to reject the null hypothesis there is no significant difference in fuel efficiency between cars made between the years 1999 and 2008"
   ]
  },
  {
   "cell_type": "markdown",
   "id": "f1f0223f",
   "metadata": {},
   "source": [
    "#### Are compact cars more fuel-efficient than the average car?\n",
    " - 1 sample t-test"
   ]
  },
  {
   "cell_type": "markdown",
   "id": "ca46f4b2",
   "metadata": {},
   "source": [
    "Null: compact cars are not more efficient than the average car\n",
    "\n",
    "Alternate: copact cars are more efficient than the average car"
   ]
  },
  {
   "cell_type": "code",
   "execution_count": 43,
   "id": "52c34235",
   "metadata": {},
   "outputs": [
    {
     "data": {
      "text/plain": [
       "count    47.000000\n",
       "mean     24.212766\n",
       "std       3.527446\n",
       "min      19.500000\n",
       "25%      22.000000\n",
       "50%      23.500000\n",
       "75%      25.250000\n",
       "max      38.500000\n",
       "Name: avg_mileage, dtype: float64"
      ]
     },
     "execution_count": 43,
     "metadata": {},
     "output_type": "execute_result"
    }
   ],
   "source": [
    "compact_mpg = mpg[mpg['class'] == 'compact']['avg_mileage']\n",
    "compact_mpg.describe()"
   ]
  },
  {
   "cell_type": "code",
   "execution_count": 46,
   "id": "4328554b",
   "metadata": {},
   "outputs": [],
   "source": [
    "comp_mean = compact_mpg.mean()\n",
    "comp_sd = compact_mpg.std()"
   ]
  },
  {
   "cell_type": "code",
   "execution_count": 47,
   "id": "0ae8a16d",
   "metadata": {},
   "outputs": [],
   "source": [
    "avg_mile_mean = mpg['avg_mileage'].mean()"
   ]
  },
  {
   "cell_type": "code",
   "execution_count": 48,
   "id": "da987664",
   "metadata": {},
   "outputs": [],
   "source": [
    "comp = stats.norm(comp_mean, comp_sd).rvs(47)"
   ]
  },
  {
   "cell_type": "code",
   "execution_count": 49,
   "id": "b8c19455",
   "metadata": {},
   "outputs": [
    {
     "data": {
      "text/plain": [
       "(array([3., 5., 5., 8., 5., 6., 8., 3., 3., 1.]),\n",
       " array([18.36009041, 19.7583458 , 21.15660119, 22.55485658, 23.95311197,\n",
       "        25.35136736, 26.74962275, 28.14787814, 29.54613353, 30.94438892,\n",
       "        32.34264431]),\n",
       " <BarContainer object of 10 artists>)"
      ]
     },
     "execution_count": 49,
     "metadata": {},
     "output_type": "execute_result"
    },
    {
     "data": {
      "image/png": "[encoded data removed]",
      "text/plain": [
       "<Figure size 640x480 with 1 Axes>"
      ]
     },
     "metadata": {},
     "output_type": "display_data"
    }
   ],
   "source": [
    "plt.hist(comp)"
   ]
  },
  {
   "cell_type": "code",
   "execution_count": 51,
   "id": "1a7c5f32",
   "metadata": {},
   "outputs": [
    {
     "data": {
      "text/plain": [
       "(9.168673201310149, 5.969308389098781e-12)"
      ]
     },
     "execution_count": 51,
     "metadata": {},
     "output_type": "execute_result"
    }
   ],
   "source": [
    "t3, p3 = stats.ttest_1samp(comp, avg_mile_mean)\n",
    "t3, p3"
   ]
  },
  {
   "cell_type": "code",
   "execution_count": 53,
   "id": "695bf1c2",
   "metadata": {},
   "outputs": [
    {
     "name": "stdout",
     "output_type": "stream",
     "text": [
      "Reject null\n"
     ]
    }
   ],
   "source": [
    "alpha = .05\n",
    "\n",
    "if t3 > 0 and p3/2 <= alpha:\n",
    "    print('Reject null')\n",
    "else:\n",
    "    print('Fail to reject null')"
   ]
  },
  {
   "cell_type": "markdown",
   "id": "0c43b607",
   "metadata": {},
   "source": [
    "Takeaway: reject the null hypothesis, compact cars are significantly more efficient than the average car."
   ]
  },
  {
   "cell_type": "markdown",
   "id": "775a6db5",
   "metadata": {},
   "source": [
    "#### Do manual cars get better gas mileage than automatic cars?\n",
    " - indpendent t-test\n",
    " - 1 tail"
   ]
  },
  {
   "cell_type": "markdown",
   "id": "7cc6d69c",
   "metadata": {},
   "source": [
    "Null: Manual cars are not more efficient than automatics.\n",
    "\n",
    "Alternate: manual cars are more efficient than automatics"
   ]
  },
  {
   "cell_type": "code",
   "execution_count": 54,
   "id": "15631a49",
   "metadata": {},
   "outputs": [
    {
     "data": {
      "text/plain": [
       "count    77.000000\n",
       "mean     22.227273\n",
       "std       5.160927\n",
       "min      10.500000\n",
       "25%      19.500000\n",
       "50%      22.000000\n",
       "75%      25.000000\n",
       "max      39.500000\n",
       "Name: avg_mileage, dtype: float64"
      ]
     },
     "execution_count": 54,
     "metadata": {},
     "output_type": "execute_result"
    }
   ],
   "source": [
    "manual_mpg = mpg[mpg['trans'].str.startswith('m')]['avg_mileage']\n",
    "manual_mpg.describe()"
   ]
  },
  {
   "cell_type": "code",
   "execution_count": 55,
   "id": "9263ed7c",
   "metadata": {},
   "outputs": [
    {
     "data": {
      "text/plain": [
       "count    157.000000\n",
       "mean      19.130573\n",
       "std        4.684312\n",
       "min       10.500000\n",
       "25%       15.000000\n",
       "50%       19.000000\n",
       "75%       22.500000\n",
       "max       35.000000\n",
       "Name: avg_mileage, dtype: float64"
      ]
     },
     "execution_count": 55,
     "metadata": {},
     "output_type": "execute_result"
    }
   ],
   "source": [
    "auto_mpg = mpg[mpg['trans'].str.startswith('a')]['avg_mileage']\n",
    "auto_mpg.describe()"
   ]
  },
  {
   "cell_type": "code",
   "execution_count": 56,
   "id": "f588a0aa",
   "metadata": {},
   "outputs": [],
   "source": [
    "manual_mean = manual_mpg.mean()\n",
    "manual_sd = manual_mpg.std()"
   ]
  },
  {
   "cell_type": "code",
   "execution_count": 57,
   "id": "57241b0c",
   "metadata": {},
   "outputs": [],
   "source": [
    "auto_mean = auto_mpg.mean()\n",
    "auto_sd = auto_mpg.std()"
   ]
  },
  {
   "cell_type": "code",
   "execution_count": 58,
   "id": "bad4e841",
   "metadata": {},
   "outputs": [],
   "source": [
    "manual = stats.norm(manual_mean, manual_sd).rvs(77)\n",
    "auto = stats.norm(auto_mean, auto_sd).rvs(157)"
   ]
  },
  {
   "cell_type": "code",
   "execution_count": 59,
   "id": "2453f73f",
   "metadata": {},
   "outputs": [
    {
     "data": {
      "text/plain": [
       "(array([ 6.,  6., 12., 13., 22., 13.,  4.,  0.,  0.,  1.]),\n",
       " array([10.55201057, 13.63034845, 16.70868633, 19.78702422, 22.8653621 ,\n",
       "        25.94369998, 29.02203787, 32.10037575, 35.17871363, 38.25705152,\n",
       "        41.3353894 ]),\n",
       " <BarContainer object of 10 artists>)"
      ]
     },
     "execution_count": 59,
     "metadata": {},
     "output_type": "execute_result"
    },
    {
     "data": {
      "image/png": "[encoded data removed]",
      "text/plain": [
       "<Figure size 640x480 with 1 Axes>"
      ]
     },
     "metadata": {},
     "output_type": "display_data"
    }
   ],
   "source": [
    "plt.hist(manual)"
   ]
  },
  {
   "cell_type": "code",
   "execution_count": 60,
   "id": "b7d21646",
   "metadata": {},
   "outputs": [
    {
     "data": {
      "text/plain": [
       "(array([ 1.,  4.,  8., 27., 31., 29., 30., 16.,  8.,  3.]),\n",
       " array([ 5.18478996,  7.75602848, 10.327267  , 12.89850552, 15.46974404,\n",
       "        18.04098256, 20.61222109, 23.18345961, 25.75469813, 28.32593665,\n",
       "        30.89717517]),\n",
       " <BarContainer object of 10 artists>)"
      ]
     },
     "execution_count": 60,
     "metadata": {},
     "output_type": "execute_result"
    },
    {
     "data": {
      "image/png": "[encoded data removed]",
      "text/plain": [
       "<Figure size 640x480 with 1 Axes>"
      ]
     },
     "metadata": {},
     "output_type": "display_data"
    }
   ],
   "source": [
    "plt.hist(auto)"
   ]
  },
  {
   "cell_type": "code",
   "execution_count": 61,
   "id": "b4f0b51c",
   "metadata": {},
   "outputs": [
    {
     "name": "stdout",
     "output_type": "stream",
     "text": [
      "28.394113909947002\n",
      "21.26560091287369\n"
     ]
    }
   ],
   "source": [
    "print(manual.var())\n",
    "print(auto.var())"
   ]
  },
  {
   "cell_type": "code",
   "execution_count": 62,
   "id": "10c1589e",
   "metadata": {},
   "outputs": [
    {
     "data": {
      "text/plain": [
       "(4.710915177652656, 6.127944456722254e-06)"
      ]
     },
     "execution_count": 62,
     "metadata": {},
     "output_type": "execute_result"
    }
   ],
   "source": [
    "t4, p4 = stats.ttest_ind(manual, auto, equal_var=False)\n",
    "t4, p4"
   ]
  },
  {
   "cell_type": "code",
   "execution_count": 64,
   "id": "0ab92b81",
   "metadata": {},
   "outputs": [
    {
     "name": "stdout",
     "output_type": "stream",
     "text": [
      "Reject null\n"
     ]
    }
   ],
   "source": [
    "alpha = .05\n",
    "\n",
    "if t4 > 0 and p4/2 < alpha:\n",
    "    print('Reject null')\n",
    "else:\n",
    "    print('Fail to reject null')"
   ]
  },
  {
   "cell_type": "markdown",
   "id": "9e912c22",
   "metadata": {},
   "source": [
    "Takaway: manual cars are significantly more efficient than automatic cars"
   ]
  },
  {
   "cell_type": "code",
   "execution_count": null,
   "id": "4d55c2cb",
   "metadata": {},
   "outputs": [],
   "source": []
  }
 ],
 "metadata": {
  "kernelspec": {
   "display_name": "Python 3 (ipykernel)",
   "language": "python",
   "name": "python3"
  },
  "language_info": {
   "codemirror_mode": {
    "name": "ipython",
    "version": 3
   },
   "file_extension": ".py",
   "mimetype": "text/x-python",
   "name": "python",
   "nbconvert_exporter": "python",
   "pygments_lexer": "ipython3",
   "version": "3.9.13"
  }
 },
 "nbformat": 4,
 "nbformat_minor": 5
}
